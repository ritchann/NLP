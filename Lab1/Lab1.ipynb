{
  "nbformat": 4,
  "nbformat_minor": 0,
  "metadata": {
    "colab": {
      "name": "Lab1.ipynb",
      "provenance": [],
      "collapsed_sections": []
    },
    "kernelspec": {
      "name": "python3",
      "display_name": "Python 3"
    }
  },
  "cells": [
    {
      "cell_type": "code",
      "metadata": {
        "id": "iPvbDIWV9NvL"
      },
      "source": [
        "import re\n",
        "import numpy as np\n",
        "import pandas as pd\n",
        "import matplotlib.pyplot as plt\n",
        "import tqdm\n",
        "from sklearn.feature_extraction.text import TfidfVectorizer\n",
        "import nltk\n",
        "from nltk.corpus import stopwords \n",
        "from nltk.tokenize import word_tokenize   \n",
        "from nltk.stem import WordNetLemmatizer \n",
        "import pyarrow\n",
        "from sklearn.model_selection import train_test_split, cross_val_score \n",
        "from sklearn.model_selection import GridSearchCV\n",
        "from sklearn.svm import SVC\n",
        "from keras.preprocessing import sequence, text\n",
        "from sklearn.ensemble import RandomForestClassifier, AdaBoostClassifier, BaggingClassifier\n",
        "from gensim.models.wrappers import FastText\n",
        "from gensim.test.utils import common_texts\n",
        "from gensim.models import Word2Vec\n",
        "from sklearn.neighbors import KNeighborsClassifier\n",
        "from gensim.models import  KeyedVectors\n",
        "import gensim.downloader as api\n",
        "from sklearn.tree import DecisionTreeClassifier\n",
        "from gensim.models.fasttext import FastText as FT_trainable\n",
        "from keras.preprocessing import sequence, text\n",
        "from keras.models import Sequential\n",
        "from keras.layers.embeddings import Embedding\n",
        "from keras.layers import  GlobalMaxPool1D, Conv1D, MaxPooling1D, Flatten, Bidirectional, SpatialDropout1D\n",
        "from keras.layers.recurrent import LSTM, GRU\n",
        "from keras.layers.core import Dense, Activation, Dropout\n",
        "from keras.utils  import np_utils\n",
        "import plotly.express as px"
      ],
      "execution_count": 2,
      "outputs": []
    },
    {
      "cell_type": "code",
      "metadata": {
        "colab": {
          "base_uri": "https://localhost:8080/"
        },
        "id": "Am2ucoyT9fu0",
        "outputId": "8579f336-9042-4913-86f4-92f45ae16acd"
      },
      "source": [
        "from google.colab import drive\n",
        "drive.mount('/content/drive')\n",
        "PATH = \"/content/drive/MyDrive/nlp\""
      ],
      "execution_count": 4,
      "outputs": [
        {
          "output_type": "stream",
          "text": [
            "Mounted at /content/drive\n"
          ],
          "name": "stdout"
        }
      ]
    },
    {
      "cell_type": "markdown",
      "metadata": {
        "id": "qI0F9EMo7X7s"
      },
      "source": [
        "# **EDA**"
      ]
    },
    {
      "cell_type": "code",
      "metadata": {
        "colab": {
          "base_uri": "https://localhost:8080/"
        },
        "id": "Ibse4_Nc99dK",
        "outputId": "1d65d47d-61ca-46c8-a817-674963de79b7"
      },
      "source": [
        "nltk.download('punkt')\n",
        "nltk.download('wordnet')\n",
        "nltk.download('stopwords')"
      ],
      "execution_count": 5,
      "outputs": [
        {
          "output_type": "stream",
          "text": [
            "[nltk_data] Downloading package punkt to /root/nltk_data...\n",
            "[nltk_data]   Unzipping tokenizers/punkt.zip.\n",
            "[nltk_data] Downloading package wordnet to /root/nltk_data...\n",
            "[nltk_data]   Unzipping corpora/wordnet.zip.\n",
            "[nltk_data] Downloading package stopwords to /root/nltk_data...\n",
            "[nltk_data]   Unzipping corpora/stopwords.zip.\n"
          ],
          "name": "stdout"
        },
        {
          "output_type": "execute_result",
          "data": {
            "text/plain": [
              "True"
            ]
          },
          "metadata": {
            "tags": []
          },
          "execution_count": 5
        }
      ]
    },
    {
      "cell_type": "code",
      "metadata": {
        "id": "hhzeqD4H-BnK"
      },
      "source": [
        "train = pd.read_parquet('/content/drive/MyDrive/NLP1/train.parquet', engine = 'pyarrow')\n",
        "test = pd.read_parquet('/content/drive/MyDrive/NLP1/test.parquet', engine = 'pyarrow')"
      ],
      "execution_count": 6,
      "outputs": []
    },
    {
      "cell_type": "code",
      "metadata": {
        "id": "2svNffkR-MNL"
      },
      "source": [
        "def get_tag_keys(tag): #парсим символы тегов и отдельно кладем их в столбец TagsKeys\n",
        "    \n",
        "    if(not tag):\n",
        "        return tag\n",
        "    \n",
        "    tag = tag.replace('><', ',')\n",
        "    \n",
        "    tag = tag.replace('<', '')\n",
        "    \n",
        "    tag = tag.replace('>', '')\n",
        "    \n",
        "    return tag\n",
        "\n",
        "train['TagsKeys'] = train.Tags.apply(get_tag_keys)\n",
        "test['TagsKeys'] = test.Tags.apply(get_tag_keys)"
      ],
      "execution_count": 7,
      "outputs": []
    },
    {
      "cell_type": "code",
      "metadata": {
        "id": "IV4eKZor-UgS"
      },
      "source": [
        "tag_keys = train.TagsKeys.to_list() #список всех тегов"
      ],
      "execution_count": 8,
      "outputs": []
    },
    {
      "cell_type": "code",
      "metadata": {
        "id": "DBBx_xOo-W9z"
      },
      "source": [
        "tag_key_list   = []\n",
        "tag_key_values = None\n",
        "index_counter = 0\n",
        "size = 0\n",
        "tag_key_index_list = []\n",
        "\n",
        "for item in tag_keys:\n",
        "    item_parts = item.split(',')\n",
        "    \n",
        "    for item_ in item_parts:\n",
        "        \n",
        "        tag_key_index_list.append(index_counter)\n",
        "        tag_key_list.append(item_)\n",
        "        index_counter += 1\n",
        "    \n",
        "tag_key_new = pd.DataFrame({'id' : tag_key_index_list, 'tag_key' : tag_key_list }) # создаем фрейм с этими тегами и id"
      ],
      "execution_count": 9,
      "outputs": []
    },
    {
      "cell_type": "code",
      "metadata": {
        "colab": {
          "base_uri": "https://localhost:8080/",
          "height": 281
        },
        "id": "QPkqGbaN-ZT6",
        "outputId": "86ee6a68-99be-41d4-e190-273831bb3eec"
      },
      "source": [
        "df_largest = tag_key_new.tag_key.value_counts().nlargest(18) #считаем количество каждого тега в фрейме и берем 18 часто встречаемых\n",
        "keys = list(df_largest.keys())\n",
        "counts = list(df_largest)\n",
        "plt.pie(counts, labels=keys)\n",
        "plt.title('Часто встречаемые теги')"
      ],
      "execution_count": 10,
      "outputs": [
        {
          "output_type": "execute_result",
          "data": {
            "text/plain": [
              "Text(0.5, 1.0, 'Часто встречаемые теги')"
            ]
          },
          "metadata": {
            "tags": []
          },
          "execution_count": 10
        },
        {
          "output_type": "display_data",
          "data": {
            "image/png": "[encoded data removed]",
            "text/plain": [
              "<Figure size 432x288 with 1 Axes>"
            ]
          },
          "metadata": {
            "tags": []
          }
        }
      ]
    },
    {
      "cell_type": "code",
      "metadata": {
        "colab": {
          "base_uri": "https://localhost:8080/",
          "height": 281
        },
        "id": "PCuHqQvA-f3L",
        "outputId": "5eb0a19a-6526-4e64-82bf-0097b1727bbc"
      },
      "source": [
        "df_min = tag_key_new.tag_key.value_counts().nsmallest(18) #считаем количество каждого тега в фрейме и берем 18 мало встречаемых\n",
        "keys = list(df_min.keys())\n",
        "counts = list(df_min)\n",
        "plt.pie(counts, labels=keys)\n",
        "plt.title('Минимально встречаемые теги')"
      ],
      "execution_count": 11,
      "outputs": [
        {
          "output_type": "execute_result",
          "data": {
            "text/plain": [
              "Text(0.5, 1.0, 'Минимально встречаемые теги')"
            ]
          },
          "metadata": {
            "tags": []
          },
          "execution_count": 11
        },
        {
          "output_type": "display_data",
          "data": {
            "image/png": "[encoded data removed]",
            "text/plain": [
              "<Figure size 432x288 with 1 Axes>"
            ]
          },
          "metadata": {
            "tags": []
          }
        }
      ]
    },
    {
      "cell_type": "code",
      "metadata": {
        "colab": {
          "base_uri": "https://localhost:8080/",
          "height": 281
        },
        "id": "uHNcFeva-pCS",
        "outputId": "74e87229-67db-405e-cb7f-ee2c7ab5adf1"
      },
      "source": [
        "plt.pie([train.target[train.target == 0].count(),train.target[train.target == 1].count(),train.target[train.target == 2].count()],labels=['0','1','2'])\n",
        "plt.title('Target')"
      ],
      "execution_count": 12,
      "outputs": [
        {
          "output_type": "execute_result",
          "data": {
            "text/plain": [
              "Text(0.5, 1.0, 'Target')"
            ]
          },
          "metadata": {
            "tags": []
          },
          "execution_count": 12
        },
        {
          "output_type": "display_data",
          "data": {
            "image/png": "[encoded data removed]",
            "text/plain": [
              "<Figure size 432x288 with 1 Axes>"
            ]
          },
          "metadata": {
            "tags": []
          }
        }
      ]
    },
    {
      "cell_type": "code",
      "metadata": {
        "id": "GgqJv8H9-rY6"
      },
      "source": [
        "def code_available(content): #смотрим присутствует ли код в боди\n",
        "    \n",
        "    if('<code>' in content):\n",
        "        return 1\n",
        "    \n",
        "    return 0\n",
        "train['code_available'] = train['Body'].apply(code_available)\n",
        "test['code_available'] = test['Body'].apply(code_available)"
      ],
      "execution_count": 13,
      "outputs": []
    },
    {
      "cell_type": "code",
      "metadata": {
        "id": "bpuRbBNk-zs6"
      },
      "source": [
        "train['Body'] = train['Title'] + \" \" + train['Body']+ \" \" + train['TagsKeys'] #соединяем body, title и теги  в один текст\n",
        "test['Body'] = test['Title'] + \" \" + test['Body']+ \" \" + test['TagsKeys'] "
      ],
      "execution_count": 14,
      "outputs": []
    },
    {
      "cell_type": "code",
      "metadata": {
        "id": "jXPJbXsv-21q"
      },
      "source": [
        "def remove_short_words(content):  #убираем слова длины меньше 4\n",
        "\n",
        "    new_content_list = []\n",
        "    for item in content:\n",
        "        \n",
        "        if(len(item) > 3):\n",
        "            new_content_list.append(item)\n",
        "    \n",
        "    return \" \".join(new_content_list)\n",
        "train['Body'] =train['Body'].apply(lambda x:str(x).split())\n",
        "train['Body'] = train['Body'].apply(remove_short_words)\n",
        "\n",
        "test['Body'] = test['Body'].apply(lambda x:str(x).split())\n",
        "test['Body'] = test['Body'].apply(remove_short_words)\n"
      ],
      "execution_count": 15,
      "outputs": []
    },
    {
      "cell_type": "code",
      "metadata": {
        "id": "jc6kQHRe-9Uh"
      },
      "source": [
        "def  clean_text(content): #чистим текст от символов, тегов и ненужных частей текста, приводим все к нижнему регистру\n",
        "    \n",
        "    content = content.lower()\n",
        "\n",
        "    content = re.sub(r\"(@[A-Za-z0-9]+)|^rt|http.+?\", \"\", content)\n",
        "    content = re.sub(r\"(\\w+:\\/\\/\\S+)\", \"\", content)\n",
        "    content = re.sub(r\"([^0-9A-Za-z \\t])\", \" \", content)\n",
        "    content = re.sub(r\"^rt|http.+?\", \"\", content)\n",
        "    content = re.sub(\" +\", \" \", content)\n",
        "    content = re.sub(r\"\\d+\", \"\", content)\n",
        "    return content\n",
        "\n",
        "train['Body'] = train['Body'].apply(clean_text)\n",
        "test['Body'] = test['Body'].apply(clean_text)"
      ],
      "execution_count": 16,
      "outputs": []
    },
    {
      "cell_type": "code",
      "metadata": {
        "id": "c7RMuPBe_QiK"
      },
      "source": [
        "stop_words = set(stopwords.words('english')) \n",
        "\n",
        "def remove_stopword(words):      #удаляем стоп слова\n",
        "    list_clean = [w for w in words if not w in stop_words]\n",
        "    return list_clean\n",
        "\n",
        "train['Body'] =train['Body'].apply(lambda x:str(x).split())\n",
        "train['Body'] = train['Body'].apply(remove_stopword)\n",
        "\n",
        "test['Body'] = test['Body'].apply(lambda x:str(x).split())\n",
        "test['Body'] = test['Body'].apply(remove_stopword)\n"
      ],
      "execution_count": 17,
      "outputs": []
    },
    {
      "cell_type": "code",
      "metadata": {
        "id": "xIy6BXec_ngK"
      },
      "source": [
        "  lemmer = WordNetLemmatizer() #лемматизация\n",
        "  def lemmatizer_words(content):  \n",
        "\n",
        "    new_content_list = []\n",
        "    for item in content:\n",
        "          new_content_list.append(lemmer.lemmatize(item)) \n",
        "    \n",
        "    return new_content_list\n",
        "  \n",
        "train['Body'] = train['Body'].apply(lemmatizer_words)\n",
        "test['Body'] = test['Body'].apply(lemmatizer_words)"
      ],
      "execution_count": 18,
      "outputs": []
    },
    {
      "cell_type": "code",
      "metadata": {
        "id": "OUMR1Yq8_81z"
      },
      "source": [
        "train_data = train\n",
        "test_data = test\n",
        "target = train.target\n",
        "train = train.drop(['Tags', 'Title','TagsKeys','code_available', 'target'], \n",
        "                   axis = 1)\n",
        "test = test.drop(['Tags', 'Title','TagsKeys','code_available'], axis = 1)"
      ],
      "execution_count": 19,
      "outputs": []
    },
    {
      "cell_type": "code",
      "metadata": {
        "id": "wUqgbII1AIj6"
      },
      "source": [
        "def to_str(content): \n",
        "\n",
        "    new_content_list = []\n",
        "    for item in content:\n",
        "        \n",
        "            new_content_list.append(item)\n",
        "    \n",
        "    return \" \".join(new_content_list)\n",
        "train['str'] = train['Body'].apply(to_str)\n",
        "test['str'] = test['Body'].apply(to_str)"
      ],
      "execution_count": 20,
      "outputs": []
    },
    {
      "cell_type": "markdown",
      "metadata": {
        "id": "bVk4QyG57heR"
      },
      "source": [
        "**One Hot Encoding**"
      ]
    },
    {
      "cell_type": "code",
      "metadata": {
        "id": "b5zZzUJ_ATbi"
      },
      "source": [
        "def count_number_tag(data):\n",
        "  tags = dict()\n",
        "  for i, row in tqdm.tqdm(data.iterrows()):\n",
        "    \n",
        "    current_tags = row[\"Tags\"].split(\"<\")\n",
        "    for j in range(1,len(current_tags)):\n",
        "      if current_tags[j][:-1] in tags:\n",
        "        tags[current_tags[j][:-1]] += 1\n",
        "      else:\n",
        "        tags[current_tags[j][:-1]] = 1\n",
        "  return tags"
      ],
      "execution_count": null,
      "outputs": []
    },
    {
      "cell_type": "code",
      "metadata": {
        "id": "nDp3qBkoAWsa",
        "colab": {
          "base_uri": "https://localhost:8080/"
        },
        "outputId": "f25213b9-626a-4c3c-deff-3996ee837d00"
      },
      "source": [
        "train_tags = count_number_tag(train_data)"
      ],
      "execution_count": null,
      "outputs": [
        {
          "output_type": "stream",
          "text": [
            "48000it [00:04, 10620.39it/s]\n"
          ],
          "name": "stderr"
        }
      ]
    },
    {
      "cell_type": "code",
      "metadata": {
        "id": "1aRDy-za0btQ"
      },
      "source": [
        "def create_most_popular_tags(data, number_of_tags):\n",
        "  most_popul_tags = dict()\n",
        "  most_popul_tags = {k: v for k, v in reversed(sorted(data.items(), \n",
        "                                                      key=lambda item: item[1]))}\n",
        "  labels = list()\n",
        "  values = list()\n",
        "  for i in range(len(most_popul_tags)):\n",
        "    labels.append(list(most_popul_tags.keys())[i])\n",
        "    values.append(most_popul_tags[list(most_popul_tags.keys())[i]])\n",
        "    if i == number_of_tags:\n",
        "      break\n",
        "  return labels, values"
      ],
      "execution_count": null,
      "outputs": []
    },
    {
      "cell_type": "code",
      "metadata": {
        "id": "Z_Ieh3mU0-oH"
      },
      "source": [
        "def one_hot_encoding_tags(dataset, count_tags, number_tags):\n",
        "  most_popular_tags, _ = create_most_popular_tags(count_tags, number_tags)\n",
        "  for i in most_popular_tags:\n",
        "    dataset[i] =  pd.Series(np.zeros((len(dataset))), index=dataset.index) \n",
        "  for i, row in dataset.iterrows():\n",
        "    current_tags = row[\"TagsKeys\"].split(\",\")\n",
        "    for j in current_tags:\n",
        "      if j in dataset.columns:\n",
        "        dataset[j][i] = 1\n",
        "  return dataset"
      ],
      "execution_count": null,
      "outputs": []
    },
    {
      "cell_type": "code",
      "metadata": {
        "colab": {
          "base_uri": "https://localhost:8080/"
        },
        "id": "grDKG0D82BI2",
        "outputId": "4fd4ffb7-a36e-4c45-e624-adaf2bbafe31"
      },
      "source": [
        "train_ohe = one_hot_encoding_tags(train_data, train_tags, 200) \n",
        "test_ohe = one_hot_encoding_tags(test_data, train_tags, 200)\n",
        "# в DataFrame находятся колонки с 200 тегами, а также колонка с отметкой, был ли в Body <code>, данный тэг помогает повысить accuracy на ~0.2"
      ],
      "execution_count": null,
      "outputs": [
        {
          "output_type": "stream",
          "text": [
            "/usr/local/lib/python3.6/dist-packages/ipykernel_launcher.py:9: SettingWithCopyWarning: \n",
            "A value is trying to be set on a copy of a slice from a DataFrame\n",
            "\n",
            "See the caveats in the documentation: https://pandas.pydata.org/pandas-docs/stable/user_guide/indexing.html#returning-a-view-versus-a-copy\n",
            "  if __name__ == '__main__':\n"
          ],
          "name": "stderr"
        }
      ]
    },
    {
      "cell_type": "code",
      "metadata": {
        "id": "DtSX5NJv2nTm"
      },
      "source": [
        "train_ohe = train_ohe.drop(['Body','Tags','Title','target','TagsKeys'], axis = 1)\n",
        "test_ohe = test_ohe.drop(['Body','Tags','Title','TagsKeys'], axis = 1)"
      ],
      "execution_count": null,
      "outputs": []
    },
    {
      "cell_type": "code",
      "metadata": {
        "id": "d5POkLnA4L_3"
      },
      "source": [
        "X_train_ohe, X_test_ohe, y_train_ohe, y_test_ohe = train_test_split(\n",
        "    train_ohe, \n",
        "    target, \n",
        "    test_size = 0.25, \n",
        "    random_state = 42)"
      ],
      "execution_count": null,
      "outputs": []
    },
    {
      "cell_type": "markdown",
      "metadata": {
        "id": "oO6NpVuohkWX"
      },
      "source": [
        "*KNN*"
      ]
    },
    {
      "cell_type": "code",
      "metadata": {
        "id": "9buOO8Ia4uFu"
      },
      "source": [
        "gs = GridSearchCV(KNeighborsClassifier(), param_grid = { 'n_neighbors': range(6, 20)}, cv = 5, n_jobs = -1)\n",
        "gs.fit(train_ohe, target)  \n",
        "gs.best_score_, gs.best_params_  #(0.58, {'n_neighbors': 5})\n",
        "\n",
        "knn = KNeighborsClassifier(**gs.best_params_).fit(X_train_ohe, y_train_ohe) \n",
        "acc = np.mean(knn.predict(X_train_ohe) == y_train_ohe)\n",
        "test_acc = np.mean(knn.predict(X_test_ohe) == y_test_ohe)\n",
        "print(f\"Train Accuracy: {acc}, Test Accuracy: { test_acc}\") #Train Accuracy: 0.58, Test Accuracy: 0.58"
      ],
      "execution_count": null,
      "outputs": []
    },
    {
      "cell_type": "markdown",
      "metadata": {
        "id": "a9t3oSFchlg6"
      },
      "source": [
        "*SVM*"
      ]
    },
    {
      "cell_type": "code",
      "metadata": {
        "id": "ExSZY5br5pL-"
      },
      "source": [
        "gs = GridSearchCV(SVC(), param_grid = {'gamma': [0.00001, 0.0001, 0.1, 1, 10, 100], 'C': range(1,5)}, n_jobs=-1)\n",
        "gs.fit(train_ohe, target)  \n",
        "gs.best_score_, gs.best_params_  \n",
        "\n",
        "svc = SVC(**gs.best_params_).fit(X_train_ohe, y_train_ohe) \n",
        "acc = np.mean(svc.predict(X_train_ohe) == y_train_ohe)\n",
        "test_acc = np.mean(svc.predict(X_test_ohe) == y_test_ohe)\n",
        "print(f\"Train Accuracy: {acc}, Test Accuracy: { test_acc}\") #Train Accuracy: 0.58, Test Accuracy: 0.58"
      ],
      "execution_count": null,
      "outputs": []
    },
    {
      "cell_type": "markdown",
      "metadata": {
        "id": "1rXBVtNFhpD2"
      },
      "source": [
        "*Random Forest*"
      ]
    },
    {
      "cell_type": "code",
      "metadata": {
        "id": "ZsDe-HWb58gG"
      },
      "source": [
        "gs = GridSearchCV(RandomForestClassifier(), param_grid = { \"criterion\" : [\"gini\", \"entropy\"], \"max_depth\" : range(12,20,2), \"n_estimators\": range(100,1000,100)}, n_jobs=-1)\n",
        "gs.fit(train_ohe, target)  \n",
        "gs.best_score_, gs.best_params_  #(0.5852291666666666, {'criterion': 'gini', 'max_depth': 12, 'n_estimators': 100})\n",
        "\n",
        "md = RandomForestClassifier(**gs.best_params_).fit(X_train_ohe, y_train_ohe) \n",
        "acc = np.mean(md.predict(X_train_ohe) == y_train_ohe)\n",
        "test_acc = np.mean(md.predict(X_test_ohe) == y_test_ohe)\n",
        "print(f\"Train Accuracy: {acc}, Test Accuracy: { test_acc}\") #Train Accuracy: 0.58, Test Accuracy: 0.58"
      ],
      "execution_count": null,
      "outputs": []
    },
    {
      "cell_type": "markdown",
      "metadata": {
        "id": "DROIJ89yhrDO"
      },
      "source": [
        "*Decision tree*"
      ]
    },
    {
      "cell_type": "code",
      "metadata": {
        "id": "7hwvMonj6gqe"
      },
      "source": [
        "gs = GridSearchCV(DecisionTreeClassifier(), param_grid = {'min_samples_leaf':range(20,100,5), 'min_samples_split':range(20,100,5), 'max_depth':range(2,50), 'criterion':['gini','entropy']}, n_jobs=-1)\n",
        "gs.fit(train_ohe, target)  \n",
        "gs.best_score_, gs.best_params_  #(0.5852291666666666,{'criterion': 'gini','max_depth': 2,'min_samples_leaf': 20,'min_samples_split': 20})\n",
        "\n",
        "md = DecisionTreeClassifier(**gs.best_params_).fit(X_train_ohe, y_train_ohe) \n",
        "acc = np.mean(md.predict(X_train_ohe) == y_train_ohe)\n",
        "test_acc = np.mean(md.predict(X_test_ohe) == y_test_ohe)\n",
        "print(f\"Train Accuracy: {acc}, Test Accuracy: { test_acc}\") #Train Accuracy: 0.58, Test Accuracy: 0.58"
      ],
      "execution_count": null,
      "outputs": []
    },
    {
      "cell_type": "markdown",
      "metadata": {
        "id": "tHpf4qo7hxur"
      },
      "source": [
        "*Boosting*"
      ]
    },
    {
      "cell_type": "code",
      "metadata": {
        "id": "rjJCLfLk6yWP"
      },
      "source": [
        "gs = GridSearchCV(AdaBoostClassifier(),param_grid = {'n_estimators': range(50,1000,50)}, n_jobs=-1)\n",
        "gs.fit(train_ohe, target)  \n",
        "gs.best_score_, gs.best_params_ \n",
        "\n",
        "md = AdaBoostClassifier(**gs.best_params_).fit(X_train_ohe, y_train_ohe) \n",
        "acc = np.mean(md.predict(X_train_ohe) == y_train_ohe)\n",
        "test_acc = np.mean(md.predict(X_test_ohe) == y_test_ohe)\n",
        "print(f\"Train Accuracy: {acc}, Test Accuracy: { test_acc}\") #Train Accuracy: 0.58, Test Accuracy: 0.58"
      ],
      "execution_count": null,
      "outputs": []
    },
    {
      "cell_type": "markdown",
      "metadata": {
        "id": "gVw46D1Jh0tY"
      },
      "source": [
        "*Bagging*"
      ]
    },
    {
      "cell_type": "code",
      "metadata": {
        "id": "AuzpRsZi7CwP"
      },
      "source": [
        "gs = GridSearchCV(BaggingClassifier(),param_grid = {'n_estimators': range(10,100,10)}, n_jobs=-1)\n",
        "gs.fit(train_ohe, target)  \n",
        "gs.best_score_, gs.best_params_ \n",
        "\n",
        "md = BaggingClassifier(**gs.best_params_).fit(X_train_ohe, y_train_ohe) \n",
        "acc = np.mean(md.predict(X_train_ohe) == y_train_ohe)\n",
        "test_acc = np.mean(md.predict(X_test_ohe) == y_test_ohe)\n",
        "print(f\"Train Accuracy: {acc}, Test Accuracy: { test_acc}\") #Train Accuracy: 0.58, Test Accuracy: 0.58"
      ],
      "execution_count": null,
      "outputs": []
    },
    {
      "cell_type": "markdown",
      "metadata": {
        "id": "G9TAY1Mkaqcc"
      },
      "source": [
        "**Вывод:** Все алгоритмы дали схожие результаты, их можно объяснить тем, что  достаточно сложно судить, к какой категории относится вопрос, рассматривая лишь его тэги \n",
        "В данном случае для того чтобы улучшить результат, мы посмотрели на наличие тега code внутри body, что уменьшило ошибку на 0.2"
      ]
    },
    {
      "cell_type": "markdown",
      "metadata": {
        "id": "s6nAeMlAdnKy"
      },
      "source": [
        ""
      ]
    },
    {
      "cell_type": "markdown",
      "metadata": {
        "id": "Ipumd_387qdh"
      },
      "source": [
        "**Pre Word2Vec**"
      ]
    },
    {
      "cell_type": "code",
      "metadata": {
        "id": "A5_QfbPg7oin"
      },
      "source": [
        "def get_word2vec_vectors(corpus, model):    \n",
        "    \n",
        "    def get_vector(sentence):   \n",
        "        word_tokens = word_tokenize(\" \".join(sentence))\n",
        "        vector = 0\n",
        "        for w in word_tokens:\n",
        "            try: \n",
        "                vector += model.wv[w]\n",
        "            except:\n",
        "                continue\n",
        "        return vector\n",
        "    \n",
        "    out_corpus = np.stack(corpus.apply(lambda x: get_vector(x)).to_numpy())\n",
        "    \n",
        "    return out_corpus"
      ],
      "execution_count": null,
      "outputs": []
    },
    {
      "cell_type": "code",
      "metadata": {
        "colab": {
          "base_uri": "https://localhost:8080/"
        },
        "id": "Y7JAQDlp7p4e",
        "outputId": "fc3ff5e6-7b78-4720-bd29-548dfd183471"
      },
      "source": [
        "modelTwitter = api.load('glove-twitter-100')"
      ],
      "execution_count": null,
      "outputs": [
        {
          "output_type": "stream",
          "text": [
            "[==================================================] 100.0% 387.1/387.1MB downloaded\n"
          ],
          "name": "stdout"
        }
      ]
    },
    {
      "cell_type": "code",
      "metadata": {
        "colab": {
          "base_uri": "https://localhost:8080/"
        },
        "id": "smCVAXH97uxm",
        "outputId": "9022adc1-612b-4c12-f396-9e8cdb903d94"
      },
      "source": [
        "train_word2vec_vectors = get_word2vec_vectors(train.str, modelTwitter)\n",
        "test_word2vec_vectors = get_word2vec_vectors(test.str, modelTwitter)"
      ],
      "execution_count": null,
      "outputs": [
        {
          "output_type": "stream",
          "text": [
            "/usr/local/lib/python3.6/dist-packages/ipykernel_launcher.py:8: DeprecationWarning: Call to deprecated `wv` (Attribute will be removed in 4.0.0, use self instead).\n",
            "  \n"
          ],
          "name": "stderr"
        }
      ]
    },
    {
      "cell_type": "code",
      "metadata": {
        "id": "2RMZhLq19gJ_"
      },
      "source": [
        "train_word2vec_vectors  = pd.DataFrame(data=train_word2vec_vectors,index=train.index)\n",
        "test_word2vec_vectors  = pd.DataFrame(data=test_word2vec_vectors,index=test.index)"
      ],
      "execution_count": null,
      "outputs": []
    },
    {
      "cell_type": "code",
      "metadata": {
        "id": "_Jn8ogp99yZf"
      },
      "source": [
        "train_word2vec_vectors['code'] = train_data.code_available\n",
        "test_word2vec_vectors['code'] = test_data.code_available"
      ],
      "execution_count": null,
      "outputs": []
    },
    {
      "cell_type": "code",
      "metadata": {
        "id": "27L_f6ZU_YUY"
      },
      "source": [
        "X_train_word2vec_twitter, X_test_word2vec_twitter, y_train_word2vec_twitter, y_test_word2vec_twitter = train_test_split(train_word2vec_vectors, target, test_size = 0.25, random_state = 42)"
      ],
      "execution_count": null,
      "outputs": []
    },
    {
      "cell_type": "markdown",
      "metadata": {
        "id": "dzPoRQCRhQAn"
      },
      "source": [
        "*KNN*"
      ]
    },
    {
      "cell_type": "code",
      "metadata": {
        "id": "fjxJg7tO_h7n"
      },
      "source": [
        "gs = GridSearchCV(KNeighborsClassifier(), param_grid = {'n_neighbors': range(6, 80)}, cv = 5, n_jobs = -1)\n",
        "gs.fit(train_word2vec_vectors, target)  \n",
        "gs.best_score_, gs.best_params_ \n",
        "\n",
        "md = KNeighborsClassifier(**gs.best_params_).fit(X_train_word2vec_twitter, y_train_word2vec_twitter) \n",
        "acc = np.mean(md.predict(X_train_word2vec_twitter) == y_train_word2vec_twitter)\n",
        "test_acc = np.mean(md.predict(X_test_word2vec_twitter) == y_test_word2vec_twitter)\n",
        "print(f\"Train Accuracy: {acc}, Test Accuracy: { test_acc}\") #Train Accuracy: 0.52, Test Accuracy: 0.48"
      ],
      "execution_count": null,
      "outputs": []
    },
    {
      "cell_type": "markdown",
      "metadata": {
        "id": "mbYUOUtphRRH"
      },
      "source": [
        "*SVM*"
      ]
    },
    {
      "cell_type": "code",
      "metadata": {
        "id": "DmlLgBxA_-o_"
      },
      "source": [
        "gs = GridSearchCV(SVC(), param_grid = {'gamma': [0.00001, 0.0001, 0.1, 1, 10, 100], 'C': range(1,5)}, n_jobs=-1)\n",
        "gs.fit(train_word2vec_vectors, target)  \n",
        "gs.best_score_, gs.best_params_  \n",
        "\n",
        "md = SVC(**gs.best_params_).fit(X_train_word2vec_twitter, y_train_word2vec_twitter) \n",
        "acc = np.mean(md.predict(X_train_word2vec_twitter) == y_train_word2vec_twitter)\n",
        "test_acc = np.mean(md.predict(X_test_word2vec_twitter) == y_test_word2vec_twitter)\n",
        "print(f\"Train Accuracy: {acc}, Test Accuracy: { test_acc}\") #Train Accuracy: 0.53 Test Accuracy: 0.52"
      ],
      "execution_count": null,
      "outputs": []
    },
    {
      "cell_type": "markdown",
      "metadata": {
        "id": "gElCDfm4hTFI"
      },
      "source": [
        "*Random Forest*"
      ]
    },
    {
      "cell_type": "code",
      "metadata": {
        "id": "o8LOU8oOAUTG"
      },
      "source": [
        "gs = GridSearchCV(RandomForestClassifier(), param_grid = { \"criterion\" : [\"gini\", \"entropy\"], \"max_depth\" : range(12,20,2), \"n_estimators\": range(100,1000,100)}, n_jobs=-1)\n",
        "gs.fit(train_word2vec_vectors, target)  \n",
        "gs.best_score_, gs.best_params_  \n",
        "\n",
        "md = RandomForestClassifier(**gs.best_params_).fit(X_train_word2vec_twitter, y_train_word2vec_twitter) \n",
        "acc = np.mean(md.predict(X_train_word2vec_twitter) == y_train_word2vec_twitter)\n",
        "test_acc = np.mean(md.predict(X_test_word2vec_twitter) == y_test_word2vec_twitter)\n",
        "print(f\"Train Accuracy: {acc}, Test Accuracy: { test_acc}\") #Train Accuracy: 1.0, Test Accuracy: 0.67"
      ],
      "execution_count": null,
      "outputs": []
    },
    {
      "cell_type": "markdown",
      "metadata": {
        "id": "dwLpKJYQhV2u"
      },
      "source": [
        "*Decision Tree*"
      ]
    },
    {
      "cell_type": "code",
      "metadata": {
        "id": "7WH46mi6AtJe"
      },
      "source": [
        "gs = GridSearchCV(DecisionTreeClassifier(), param_grid = {\n",
        "    'min_samples_leaf':range(20,100,5), \n",
        "    'min_samples_split':range(20,100,5), \n",
        "    'max_depth':range(2,50), \n",
        "    'criterion':['gini','entropy']}, \n",
        "    n_jobs=-1)\n",
        "gs.fit(train_word2vec_vectors, target)  \n",
        "gs.best_score_, gs.best_params_  \n",
        "\n",
        "md = DecisionTreeClassifier(**gs.best_params_).fit(X_train_word2vec_twitter, y_train_word2vec_twitter) \n",
        "acc = np.mean(md.predict(X_train_word2vec_twitter) == y_train_word2vec_twitter)\n",
        "test_acc = np.mean(md.predict(X_test_word2vec_twitter) == y_test_word2vec_twitter)\n",
        "print(f\"Train Accuracy: {acc}, Test Accuracy: { test_acc}\") #Train Accuracy: 1.0, Test Accuracy: 0.57"
      ],
      "execution_count": null,
      "outputs": []
    },
    {
      "cell_type": "markdown",
      "metadata": {
        "id": "FoqwisK1hY0v"
      },
      "source": [
        "*Boosting*"
      ]
    },
    {
      "cell_type": "code",
      "metadata": {
        "id": "N-PDRIHiBBTp"
      },
      "source": [
        "gs = GridSearchCV(AdaBoostClassifier(),param_grid = {\n",
        "    'n_estimators': range(50,1000,50)}, \n",
        "    n_jobs=-1)\n",
        "gs.fit(train_word2vec_vectors, target)  \n",
        "gs.best_score_, gs.best_params_  \n",
        "\n",
        "md = AdaBoostClassifier(**gs.best_params_).fit(X_train_word2vec_twitter, y_train_word2vec_twitter) \n",
        "acc = np.mean(md.predict(X_train_word2vec_twitter) == y_train_word2vec_twitter)\n",
        "test_acc = np.mean(md.predict(X_test_word2vec_twitter) == y_test_word2vec_twitter)\n",
        "print(f\"Train Accuracy: {acc}, Test Accuracy: { test_acc}\") #Train Accuracy: 0.65, Test Accuracy: 0.64"
      ],
      "execution_count": null,
      "outputs": []
    },
    {
      "cell_type": "markdown",
      "metadata": {
        "id": "m96iIwySha8_"
      },
      "source": [
        "*Bagging*"
      ]
    },
    {
      "cell_type": "code",
      "metadata": {
        "id": "kFnwLKZ2BKwJ"
      },
      "source": [
        "gs = GridSearchCV(BaggingClassifier(),param_grid = {\n",
        "    'n_estimators': range(10,100,10)}, \n",
        "    n_jobs=-1)\n",
        "gs.fit(train_word2vec_vectors, target)  \n",
        "gs.best_score_, gs.best_params_  \n",
        "\n",
        "md = BaggingClassifier(**gs.best_params_).fit(X_train_word2vec_twitter, y_train_word2vec_twitter) \n",
        "acc = np.mean(md.predict(X_train_word2vec_twitter) == y_train_word2vec_twitter)\n",
        "test_acc = np.mean(md.predict(X_test_word2vec_twitter) == y_test_word2vec_twitter)\n",
        "print(f\"Train Accuracy: {acc}, Test Accuracy: { test_acc}\") #Train Accuracy: 0.98, Test Accuracy: 0.64"
      ],
      "execution_count": null,
      "outputs": []
    },
    {
      "cell_type": "markdown",
      "metadata": {
        "id": "BoRxOFFSccxI"
      },
      "source": [
        "**Вывод:** Данная предобученная модель оказалась недостаточно подходящей для нашей задачи, так как вопросы на Stack Overflow более специфичные (технические), чем тексты, на которых обучалась модель"
      ]
    },
    {
      "cell_type": "markdown",
      "metadata": {
        "id": "7xu1BJxP7xbR"
      },
      "source": [
        "**Word2Vec**"
      ]
    },
    {
      "cell_type": "code",
      "metadata": {
        "id": "RH5FjKSbBumo"
      },
      "source": [
        "def get_word2vec_vectors(corpus, model):    \n",
        "    \n",
        "    def get_vector(sentence):   \n",
        "        word_tokens = word_tokenize(\" \".join(sentence))\n",
        "        vector = 0\n",
        "        for w in word_tokens:\n",
        "            try: \n",
        "                vector += model.wv[w]\n",
        "            except:\n",
        "                continue\n",
        "        return vector\n",
        "    \n",
        "    out_corpus = np.stack(corpus.apply(lambda x: get_vector(x)).to_numpy())\n",
        "    \n",
        "    return out_corpus"
      ],
      "execution_count": null,
      "outputs": []
    },
    {
      "cell_type": "code",
      "metadata": {
        "id": "elldB2fMB1pv"
      },
      "source": [
        "model = Word2Vec(train.Body, size=300, min_count=5, window=5)  "
      ],
      "execution_count": null,
      "outputs": []
    },
    {
      "cell_type": "code",
      "metadata": {
        "id": "H8VjPVKtB8Jn"
      },
      "source": [
        "train_word2vec = get_word2vec_vectors(train.Body, model)\n",
        "test_word2vec = get_word2vec_vectors(test.Body, model)"
      ],
      "execution_count": null,
      "outputs": []
    },
    {
      "cell_type": "code",
      "metadata": {
        "id": "jp8OB-_WCFJI"
      },
      "source": [
        "train_word2vec = pd.DataFrame(data=train_word2vec,index=train.index)\n",
        "test_word2vec = pd.DataFrame(data=test_word2vec,index=test.index)"
      ],
      "execution_count": null,
      "outputs": []
    },
    {
      "cell_type": "code",
      "metadata": {
        "id": "Dizb4p8QCQIx"
      },
      "source": [
        "train_word2vec['code'] = train_data.code_available\n",
        "test_word2vec['code'] = test_data.code_available"
      ],
      "execution_count": null,
      "outputs": []
    },
    {
      "cell_type": "code",
      "metadata": {
        "id": "_TdpheB9Ccwv"
      },
      "source": [
        "X_train_word2vec, X_test_word2vec, y_train_word2vec, y_test_word2vec = train_test_split(train_word2vec, target, test_size = 0.25, random_state = 42)"
      ],
      "execution_count": null,
      "outputs": []
    },
    {
      "cell_type": "markdown",
      "metadata": {
        "id": "tgWHactphBLa"
      },
      "source": [
        "*KNN*"
      ]
    },
    {
      "cell_type": "code",
      "metadata": {
        "id": "x0dqIxXFCdKf"
      },
      "source": [
        "gs = GridSearchCV(KNeighborsClassifier(), param_grid = {\n",
        "    'n_neighbors': range(6, 20, 2)}, \n",
        "    cv = 5, \n",
        "    n_jobs = -1)\n",
        "gs.fit(train_word2vec, target)  \n",
        "gs.best_score_, gs.best_params_  \n",
        "\n",
        "md = KNeighborsClassifier(**gs.best_params_).fit(X_train_word2vec, y_train_word2vec) \n",
        "acc = np.mean(md.predict(X_train_word2vec) == y_train_word2vec)\n",
        "test_acc = np.mean(md.predict(X_test_word2vec) == y_test_word2vec)\n",
        "print(f\"Train Accuracy: {acc}, Test Accuracy: { test_acc}\") #Train Accuracy: 0.83, Test Accuracy: 0.75"
      ],
      "execution_count": null,
      "outputs": []
    },
    {
      "cell_type": "markdown",
      "metadata": {
        "id": "qfbhdEQdhCtX"
      },
      "source": [
        "*SVM*"
      ]
    },
    {
      "cell_type": "code",
      "metadata": {
        "id": "l1ztsXmvCcmv"
      },
      "source": [
        "gs = GridSearchCV(SVC(), param_grid = {\n",
        "    'gamma': [0.00001, 0.0001, 0.1, 1, 10, 100], \n",
        "    'C': range(1,5)}, \n",
        "    n_jobs=-1)\n",
        "gs.fit(train_word2vec, target)  \n",
        "gs.best_score_, gs.best_params_  \n",
        "\n",
        "md = SVC(**gs.best_params_).fit(X_train_word2vec, y_train_word2vec) \n",
        "acc = np.mean(md.predict(X_train_word2vec) == y_train_word2vec)\n",
        "test_acc = np.mean(md.predict(X_test_word2vec) == y_test_word2vec)\n",
        "print(f\"Train Accuracy: {acc}, Test Accuracy: { test_acc}\") #Train Accuracy: 0.87, Test Accuracy: 0.859"
      ],
      "execution_count": null,
      "outputs": []
    },
    {
      "cell_type": "markdown",
      "metadata": {
        "id": "cjKTGoVchE46"
      },
      "source": [
        "*Random Forest*"
      ]
    },
    {
      "cell_type": "code",
      "metadata": {
        "id": "i3yr0HDRDGaf"
      },
      "source": [
        "gs = GridSearchCV(RandomForestClassifier(), param_grid = { \n",
        "    \"criterion\" : [\"gini\", \"entropy\"], \n",
        "    \"max_depth\" : range(12,20,2), \n",
        "    \"n_estimators\": range(100,1000,100)}, \n",
        "    n_jobs=-1)\n",
        "gs.fit(train_word2vec, target)  \n",
        "gs.best_score_, gs.best_params_  \n",
        "\n",
        "md = RandomForestClassifier(**gs.best_params_).fit(X_train_word2vec, y_train_word2vec) \n",
        "acc = np.mean(md.predict(X_train_word2vec) == y_train_word2vec)\n",
        "test_acc = np.mean(md.predict(X_test_word2vec) == y_test_word2vec)\n",
        "print(f\"Train Accuracy: {acc}, Test Accuracy: { test_acc}\") #Train Accuracy: 1.0, Test Accuracy: 0.84"
      ],
      "execution_count": null,
      "outputs": []
    },
    {
      "cell_type": "markdown",
      "metadata": {
        "id": "5HXO2FpIhHCa"
      },
      "source": [
        "*Decision tree*"
      ]
    },
    {
      "cell_type": "code",
      "metadata": {
        "id": "D38ttpLvDRLR"
      },
      "source": [
        "gs = GridSearchCV(DecisionTreeClassifier(), param_grid = {\n",
        "    'min_samples_leaf':range(20,100,5), \n",
        "    'min_samples_split':range(20,100,5), \n",
        "    'max_depth':range(2,50),\n",
        "    'criterion':['gini','entropy']}, \n",
        "    n_jobs=-1)\n",
        "gs.fit(train_word2vec, target)  \n",
        "gs.best_score_, gs.best_params_  \n",
        "\n",
        "md = DecisionTreeClassifier(**gs.best_params_).fit(X_train_word2vec, y_train_word2vec) \n",
        "acc = np.mean(md.predict(X_train_word2vec) == y_train_word2vec)\n",
        "test_acc = np.mean(md.predict(X_test_word2vec) == y_test_word2vec)\n",
        "print(f\"Train Accuracy: {acc}, Test Accuracy: { test_acc}\") #Train Accuracy: 1.0, Test Accuracy: 0.73"
      ],
      "execution_count": null,
      "outputs": []
    },
    {
      "cell_type": "markdown",
      "metadata": {
        "id": "IOSKb47bhJZw"
      },
      "source": [
        "*Boosting*"
      ]
    },
    {
      "cell_type": "code",
      "metadata": {
        "id": "zBcc0EL6DZf3"
      },
      "source": [
        "gs = GridSearchCV(AdaBoostClassifier(),param_grid = {\n",
        "    'n_estimators': range(50,1000,50)}, \n",
        "    n_jobs=-1)\n",
        "gs.fit(train_word2vec, target)  \n",
        "gs.best_score_, gs.best_params_  \n",
        "\n",
        "md = AdaBoostClassifier(**gs.best_params_).fit(X_train_word2vec, y_train_word2vec) \n",
        "acc = np.mean(md.predict(X_train_word2vec) == y_train_word2vec)\n",
        "test_acc = np.mean(md.predict(X_test_word2vec) == y_test_word2vec)\n",
        "print(f\"Train Accuracy: {acc}, Test Accuracy: { test_acc}\") #Train Accuracy: 0.78, Test Accuracy: 0.78"
      ],
      "execution_count": null,
      "outputs": []
    },
    {
      "cell_type": "markdown",
      "metadata": {
        "id": "5jYO8oIbhL3n"
      },
      "source": [
        "*Bagging*"
      ]
    },
    {
      "cell_type": "code",
      "metadata": {
        "id": "kdVmprvZDh4H"
      },
      "source": [
        "gs = GridSearchCV(BaggingClassifier(),param_grid = {\n",
        "    'n_estimators': range(10,100,10)}, \n",
        "    n_jobs=-1)\n",
        "gs.fit(train_word2vec, target)  \n",
        "gs.best_score_, gs.best_params_  \n",
        "\n",
        "md = BaggingClassifier(**gs.best_params_).fit(X_train_word2vec, y_train_word2vec) \n",
        "acc = np.mean(md.predict(X_train_word2vec) == y_train_word2vec)\n",
        "test_acc = np.mean(md.predict(X_test_word2vec) == y_test_word2vec)\n",
        "print(f\"Train Accuracy: {acc}, Test Accuracy: { test_acc}\") #Train Accuracy: 0.99, Test Accuracy: 0.81"
      ],
      "execution_count": null,
      "outputs": []
    },
    {
      "cell_type": "markdown",
      "metadata": {
        "id": "OLJn4FuaeTtd"
      },
      "source": [
        "**Вывод:** В данном случае мы получили лучший результат, так как векторное представление основывается на контекстной близости"
      ]
    },
    {
      "cell_type": "markdown",
      "metadata": {
        "id": "AzXmUl0YDsW5"
      },
      "source": [
        "**Pre Fast Text**"
      ]
    },
    {
      "cell_type": "code",
      "metadata": {
        "id": "KBz_vozvEZax"
      },
      "source": [
        "def get_fasttext_vectors(corpus, model):    \n",
        "    \n",
        "    def get_vector(sentence):   \n",
        "        word_tokens = word_tokenize(\" \".join(sentence))\n",
        "        vector = 0\n",
        "        for w in word_tokens:\n",
        "            try: \n",
        "                vector += model.wv[w]\n",
        "            except:\n",
        "                continue\n",
        "        return vector\n",
        "    \n",
        "    out_corpus = np.stack(corpus.apply(lambda x: get_vector(x)).to_numpy())\n",
        "    \n",
        "    return out_corpus"
      ],
      "execution_count": null,
      "outputs": []
    },
    {
      "cell_type": "code",
      "metadata": {
        "id": "28ZLGyv2EGaO"
      },
      "source": [
        "modelWiki = KeyedVectors.load_word2vec_format('/content/drive/MyDrive/nlp/wiki.en.vec')"
      ],
      "execution_count": null,
      "outputs": []
    },
    {
      "cell_type": "code",
      "metadata": {
        "id": "uYLPuwHxDu_g"
      },
      "source": [
        "train_fasttext_vectors = get_fasttext_vectors(train.Body, modelWiki)\n",
        "test_fasttext_vectors = get_fasttext_vectors(test.Body, modelWiki)"
      ],
      "execution_count": null,
      "outputs": []
    },
    {
      "cell_type": "code",
      "metadata": {
        "id": "CWUKqEB3DqdH"
      },
      "source": [
        "X_train_ft_wiki, X_test_ft_wiki, y_train_ft_wiki, y_test_ft_wiki = train_test_split(train_fasttext_vectors, target, test_size = 0.25, random_state = 42)"
      ],
      "execution_count": null,
      "outputs": []
    },
    {
      "cell_type": "markdown",
      "metadata": {
        "id": "GVUmh8Bigr_q"
      },
      "source": [
        "*KNN*"
      ]
    },
    {
      "cell_type": "code",
      "metadata": {
        "id": "Z3oB8V1hEm3_"
      },
      "source": [
        "gs = GridSearchCV(KNeighborsClassifier(), param_grid = {\n",
        "    'n_neighbors': range(6, 20)}, \n",
        "    cv = 5, \n",
        "    n_jobs = -1)\n",
        "gs.fit(train_fasttext_vectors, target)  \n",
        "gs.best_score_, gs.best_params_  \n",
        "\n",
        "md = KNeighborsClassifier(**gs.best_params_).fit(X_train_ft_wiki, y_train_ft_wiki) \n",
        "acc = np.mean(md.predict(X_train_ft_wiki) == y_train_ft_wiki)\n",
        "test_acc = np.mean(md.predict(X_test_ft_wiki) == y_test_ft_wiki)\n",
        "print(f\"Train Accuracy: {acc}, Test Accuracy: { test_acc}\") #Train Accuracy: 0.739, Test Accuracy: 0.63"
      ],
      "execution_count": null,
      "outputs": []
    },
    {
      "cell_type": "markdown",
      "metadata": {
        "id": "BDp_2LvMgufB"
      },
      "source": [
        "*SVM*"
      ]
    },
    {
      "cell_type": "code",
      "metadata": {
        "id": "c2ETCTQuE9BP"
      },
      "source": [
        "gs = GridSearchCV(SVC(), param_grid = {\n",
        "    'gamma': [0.00001, 0.0001, 0.1, 1, 10, 100], \n",
        "    'C': range(1,5)}, \n",
        "    n_jobs=-1)\n",
        "gs.fit(train_fasttext_vectors, target)  \n",
        "gs.best_score_, gs.best_params_  \n",
        "\n",
        "md = SVC(**gs.best_params_).fit(X_train_ft_wiki, y_train_ft_wiki) \n",
        "acc = np.mean(md.predict(X_train_ft_wiki) == y_train_ft_wiki)\n",
        "test_acc = np.mean(md.predict(X_test_ft_wiki) == y_test_ft_wiki)\n",
        "print(f\"Train Accuracy: {acc}, Test Accuracy: { test_acc}\") #Train Accuracy: 0.72, Test Accuracy: 0.708"
      ],
      "execution_count": null,
      "outputs": []
    },
    {
      "cell_type": "markdown",
      "metadata": {
        "id": "2BRKeAvAgwKx"
      },
      "source": [
        "*Random Forest*"
      ]
    },
    {
      "cell_type": "code",
      "metadata": {
        "id": "RVQdkOh0FIrH"
      },
      "source": [
        "gs = GridSearchCV(RandomForestClassifier(), param_grid = { \n",
        "    \"criterion\" : [\"gini\", \"entropy\"], \n",
        "    \"max_depth\" : range(12,20,2), \n",
        "    \"n_estimators\": range(100,1000,100)}, \n",
        "    n_jobs=-1)\n",
        "gs.fit(train_fasttext_vectors, target)  \n",
        "gs.best_score_, gs.best_params_  \n",
        "\n",
        "md = RandomForestClassifier(**gs.best_params_).fit(X_train_ft_wiki, y_train_ft_wiki) \n",
        "acc = np.mean(md.predict(X_train_ft_wiki) == y_train_ft_wiki)\n",
        "test_acc = np.mean(md.predict(X_test_ft_wiki) == y_test_ft_wiki)\n",
        "print(f\"Train Accuracy: {acc}, Test Accuracy: { test_acc}\") #Train Accuracy: 1.0, Test Accuracy: 0.66"
      ],
      "execution_count": null,
      "outputs": []
    },
    {
      "cell_type": "markdown",
      "metadata": {
        "id": "XC7JHB16g4Lf"
      },
      "source": [
        "*Decision tree*"
      ]
    },
    {
      "cell_type": "code",
      "metadata": {
        "id": "y2xpP3EjFsoC"
      },
      "source": [
        "gs = GridSearchCV(DecisionTreeClassifier(), param_grid = {\n",
        "    'min_samples_leaf':range(20,100,5), \n",
        "    'min_samples_split':range(20,100,5), \n",
        "    'max_depth':range(2,48,2), \n",
        "    'criterion':['gini','entropy']}, \n",
        "    n_jobs=-1)\n",
        "gs.fit(train_fasttext_vectors, target)  \n",
        "gs.best_score_, gs.best_params_  \n",
        "\n",
        "md = DecisionTreeClassifier(**gs.best_params_).fit(X_train_ft_wiki, y_train_ft_wiki) \n",
        "acc = np.mean(md.predict(X_train_ft_wiki) == y_train_ft_wiki)\n",
        "test_acc = np.mean(md.predict(X_test_ft_wiki) == y_test_ft_wiki)\n",
        "print(f\"Train Accuracy: {acc}, Test Accuracy: { test_acc}\") #Train Accuracy: 1.0, Test Accuracy: 0.50"
      ],
      "execution_count": null,
      "outputs": []
    },
    {
      "cell_type": "markdown",
      "metadata": {
        "id": "fgDO_2OIg7SD"
      },
      "source": [
        "*Boosting*"
      ]
    },
    {
      "cell_type": "code",
      "metadata": {
        "id": "M9iaPMgDFwEr"
      },
      "source": [
        "gs = GridSearchCV(AdaBoostClassifier(),param_grid = {\n",
        "    'n_estimators': range(50,1000,50)},\n",
        "    n_jobs=-1)\n",
        "gs.fit(train_fasttext_vectors, target)  \n",
        "gs.best_score_, gs.best_params_  \n",
        "\n",
        "md = AdaBoostClassifier(**gs.best_params_).fit(X_train_ft_wiki, y_train_ft_wiki) \n",
        "acc = np.mean(md.predict(X_train_ft_wiki) == y_train_ft_wiki)\n",
        "test_acc = np.mean(md.predict(X_test_ft_wiki) == y_test_ft_wiki)\n",
        "print(f\"Train Accuracy: {acc}, Test Accuracy: { test_acc}\") #Train Accuracy: 0.628 Test Accuracy: 0.619"
      ],
      "execution_count": null,
      "outputs": []
    },
    {
      "cell_type": "markdown",
      "metadata": {
        "id": "njnuAwuGg9qq"
      },
      "source": [
        "*Bagging*"
      ]
    },
    {
      "cell_type": "code",
      "metadata": {
        "id": "9Dk27IJ5F6aS"
      },
      "source": [
        "gs = GridSearchCV(BaggingClassifier(),param_grid = {\n",
        "    'n_estimators': range(10,100,10)}, \n",
        "    n_jobs=-1)\n",
        "gs.fit(train_fasttext_vectors, target)  \n",
        "gs.best_score_, gs.best_params_  \n",
        "\n",
        "md = BaggingClassifier(**gs.best_params_).fit(X_train_ft_wiki, y_train_ft_wiki) \n",
        "acc = np.mean(md.predict(X_train_ft_wiki) == y_train_ft_wiki)\n",
        "test_acc = np.mean(md.predict(X_test_ft_wiki) == y_test_ft_wiki)\n",
        "print(f\"Train Accuracy: {acc}, Test Accuracy: { test_acc}\") #Train Accuracy: 0.98, Test Accuracy: 0.60"
      ],
      "execution_count": null,
      "outputs": []
    },
    {
      "cell_type": "markdown",
      "metadata": {
        "id": "KjzoflQwf11a"
      },
      "source": [
        "**Вывод:** Есть смысл сравнить с Pretrained Word2Vec, так как wiki-модель более обширная, чем twitter-модель, поэтому результаты здесь оказались лучше  \n"
      ]
    },
    {
      "cell_type": "markdown",
      "metadata": {
        "id": "Hvj8zHEK700h"
      },
      "source": [
        "**Fast Text Own**"
      ]
    },
    {
      "cell_type": "code",
      "metadata": {
        "id": "pyeIqWFSLjxb"
      },
      "source": [
        "fasttext_train_samples = train['str'].to_list()\n",
        "fasttext_train_samples = [x.split(' ') for x in fasttext_train_samples]"
      ],
      "execution_count": null,
      "outputs": []
    },
    {
      "cell_type": "code",
      "metadata": {
        "id": "3m0CA19_Llni"
      },
      "source": [
        "fasttext_test_samples = test['str'].to_list()\n",
        "fasttext_test_samples = [x.split(' ') for x in fasttext_test_samples]"
      ],
      "execution_count": null,
      "outputs": []
    },
    {
      "cell_type": "code",
      "metadata": {
        "id": "qctee_JULmgH"
      },
      "source": [
        "fasttext_sentences = fasttext_train_samples + fasttext_test_samples"
      ],
      "execution_count": null,
      "outputs": []
    },
    {
      "cell_type": "code",
      "metadata": {
        "id": "zlpg4J5JLnm_"
      },
      "source": [
        "our_FastText = FT_trainable(size=300)\n",
        "our_FastText.build_vocab(sentences=fasttext_sentences)\n",
        "our_FastText.train(\n",
        "    sentences=fasttext_sentences, epochs=our_FastText.epochs,\n",
        "    total_examples=our_FastText.corpus_count, \n",
        "    total_words=our_FastText.corpus_total_words\n",
        ")"
      ],
      "execution_count": null,
      "outputs": []
    },
    {
      "cell_type": "code",
      "metadata": {
        "id": "UX7kPoCoLo7H"
      },
      "source": [
        "def get_fasttext_vectors(corpus, model):    \n",
        "    \n",
        "    def get_vector(sentence):   \n",
        "        word_tokens = word_tokenize(sentence)\n",
        "        vector = 0\n",
        "        for w in word_tokens:\n",
        "            try: \n",
        "                vector += model.wv[w]\n",
        "            except:\n",
        "                continue\n",
        "        return vector\n",
        "    \n",
        "    vectorized = corpus.apply(lambda x: get_vector(x)).to_numpy()\n",
        "\n",
        "    target = vectorized[0].shape[0]\n",
        "    mismatches = {}\n",
        "    for i in range(len(vectorized)):\n",
        "      try:\n",
        "        if vectorized[i].shape[0] != target:\n",
        "          mismatches[i] = vectorized[i].shape[0]\n",
        "      except Exception as e:\n",
        "        mismatches[i] = str(e)\n",
        "        continue\n",
        "    print(mismatches)\n",
        "\n",
        "    for i in mismatches.keys():\n",
        "      vectorized = np.delete(vectorized, i)\n",
        "\n",
        "    out_corpus = np.stack(vectorized)\n",
        "    \n",
        "    return out_corpus"
      ],
      "execution_count": null,
      "outputs": []
    },
    {
      "cell_type": "code",
      "metadata": {
        "id": "74odW3pzLrIe"
      },
      "source": [
        "own_ft_train_vectors = get_fasttext_vectors(train['str'], \n",
        "                                            our_FastText)\n",
        "\n",
        "own_ft_test_vectors = get_fasttext_vectors(test['str'], \n",
        "                                           our_FastText)"
      ],
      "execution_count": null,
      "outputs": []
    },
    {
      "cell_type": "code",
      "metadata": {
        "id": "xzA4nPk5Lygq"
      },
      "source": [
        "X_train, X_test, y_train, y_test = train_test_split(\n",
        "    own_ft_train_vectors, \n",
        "    target, \n",
        "    test_size=0.25, \n",
        "    random_state=42)"
      ],
      "execution_count": null,
      "outputs": []
    },
    {
      "cell_type": "markdown",
      "metadata": {
        "id": "aE_CJmf_G41p"
      },
      "source": [
        "*KNN*"
      ]
    },
    {
      "cell_type": "code",
      "metadata": {
        "id": "DWZv6NpkL09w"
      },
      "source": [
        "gs = GridSearchCV(KNeighborsClassifier(), param_grid={\n",
        "    'n_neighbors': range(1, 20)}, \n",
        "    cv=5)\n",
        "gs.fit(own_ft_train_vectors, target)\n",
        "gs.best_score_, gs.best_params_\n",
        "\n",
        "knn = KNeighborsClassifier(**gs.best_params_).fit(X_train, y_train)\n",
        "\n",
        "acc_train = np.mean(knn.predict(X_train) == y_train)\n",
        "print(f\"Train Accuracy {acc_train}\")\n",
        "acc_test = np.mean(knn.predict(X_test) == y_test)\n",
        "print(f\"Test Accuracy {acc_test}\")\n",
        "\n",
        "# Train Accuracy 0.89, Test Accuracy 0.84"
      ],
      "execution_count": null,
      "outputs": []
    },
    {
      "cell_type": "markdown",
      "metadata": {
        "id": "G-Ya5sznHBiA"
      },
      "source": [
        "*SVM*"
      ]
    },
    {
      "cell_type": "code",
      "metadata": {
        "id": "tKicVUdoHCmw"
      },
      "source": [
        "clf = SVC()\n",
        "clf.fit(X_train, y_train)\n",
        "\n",
        "acc_train = np.mean(clf.predict(X_train) == y_train)\n",
        "print(f\"Train Accuracy {acc_train}\")\n",
        "acc_test = np.mean(clf.predict(X_test) == y_test)\n",
        "print(f\"Test Accuracy {acc_test}\")\n",
        "\n",
        "# Train Accuracy 0.88, Test Accuracy 0.87"
      ],
      "execution_count": null,
      "outputs": []
    },
    {
      "cell_type": "markdown",
      "metadata": {
        "id": "XgwI9PteHH-P"
      },
      "source": [
        "*Random Forest*"
      ]
    },
    {
      "cell_type": "code",
      "metadata": {
        "id": "SGeEpQfPHMmY"
      },
      "source": [
        "parameters = {'n_estimators': [5, 10, 15, 20, 25, 30], \n",
        "              'criterion': ['entropy', 'gini'],\n",
        "              'max_depth': range(1, 20)\n",
        "             }\n",
        "gs = GridSearchCV(RandomForestClassifier(), parameters)\n",
        "gs.fit(own_ft_train_vectors, target)\n",
        "gs.best_score_, gs.best_params_\n",
        "\n",
        "rdmf = RandomForestClassifier(**gs.best_params_)\n",
        "rdmf.fit(X_train, y_train)\n",
        "\n",
        "acc_train = np.mean(rdmf.predict(X_train) == y_train)\n",
        "print(f\"Train Accuracy {acc_train}\")\n",
        "acc_test = np.mean(rdmf.predict(X_test) == y_test)\n",
        "print(f\"Test Accuracy {acc_test}\")\n",
        "\n",
        "# Train Accuracy 1.0, Test Accuracy 0.859"
      ],
      "execution_count": null,
      "outputs": []
    },
    {
      "cell_type": "markdown",
      "metadata": {
        "id": "ihRReca6HUsH"
      },
      "source": [
        "*Decision tree*"
      ]
    },
    {
      "cell_type": "code",
      "metadata": {
        "id": "BTWKiNS8HXsv"
      },
      "source": [
        "parameters = {'criterion': [\"gini\", \"entropy\"], \n",
        "              'max_depth': range(1, 10),\n",
        "              'min_samples_leaf': range(2, 10)\n",
        "             }\n",
        "gs = GridSearchCV(DecisionTreeClassifier(), parameters)\n",
        "gs.fit(own_ft_train_vectors, target)\n",
        "gs.best_score_, gs.best_params_\n",
        "\n",
        "dtc = DecisionTreeClassifier(**gs.best_params_)\n",
        "dtc.fit(X_train, y_train)\n",
        "\n",
        "acc_train = np.mean(dtc.predict(X_train) == y_train)\n",
        "print(f\"Train Accuracy {acc_train}\")\n",
        "acc_test = np.mean(dtc.predict(X_test) == y_test)\n",
        "print(f\"Test Accuracy {acc_test}\")\n",
        "\n",
        "# Train Accuracy 1.0, Test Accuracy 0.77"
      ],
      "execution_count": null,
      "outputs": []
    },
    {
      "cell_type": "markdown",
      "metadata": {
        "id": "_NqTsEj5HpiH"
      },
      "source": [
        "*Boosting*"
      ]
    },
    {
      "cell_type": "code",
      "metadata": {
        "id": "gzW8rAFzHu4C"
      },
      "source": [
        "ada_boost = AdaBoostClassifier(dtc)\n",
        "ada_boost.fit(X_train, y_train)\n",
        "\n",
        "acc_train = np.mean(ada_boost.predict(X_train) == y_train)\n",
        "print(f\"Train Accuracy {acc_train}\")\n",
        "acc_test = np.mean(ada_boost.predict(X_test) == y_test)\n",
        "print(f\"Test Accuracy {acc_test}\")\n",
        "\n",
        "# Train Accuracy 0.79, Test Accuracy 0.79"
      ],
      "execution_count": null,
      "outputs": []
    },
    {
      "cell_type": "markdown",
      "metadata": {
        "id": "oby93IuFHzBZ"
      },
      "source": [
        "*Bagging*"
      ]
    },
    {
      "cell_type": "code",
      "metadata": {
        "id": "_BDquq7hH1Sr"
      },
      "source": [
        "bclf = BaggingClassifier()\n",
        "bclf.fit(X_train, y_train)\n",
        "\n",
        "acc_train = np.mean(bclf.predict(X_train) == y_train)\n",
        "print(f\"Train Accuracy {acc_train}\")\n",
        "\n",
        "acc_test = np.mean(bclf.predict(X_test) == y_test)\n",
        "print(f\"Test Accuracy {acc_test}\")\n",
        "\n",
        "# Train Accuracy 0.99, Test Accuracy 0.83"
      ],
      "execution_count": null,
      "outputs": []
    },
    {
      "cell_type": "markdown",
      "metadata": {
        "id": "jFS0cZ0JkDBK"
      },
      "source": [
        "**Вывод:** Результаты оказались близки к Word2Vec, но FastText оказался лучше"
      ]
    },
    {
      "cell_type": "markdown",
      "metadata": {
        "id": "TBlZ9fH175Ph"
      },
      "source": [
        "**TD-IDF**"
      ]
    },
    {
      "cell_type": "code",
      "metadata": {
        "id": "AtFPvN8p8zkp"
      },
      "source": [
        "tf_idf = TfidfVectorizer()\n",
        "tf_idf_vectors_train = tf_idf.fit_transform(train['str'])\n",
        "tf_idf_vectors_test = tf_idf.transform(test['str'])"
      ],
      "execution_count": null,
      "outputs": []
    },
    {
      "cell_type": "code",
      "metadata": {
        "id": "-F-L8e6683Ki"
      },
      "source": [
        "X_train, X_test, y_train, y_test = train_test_split(tf_idf_vectors_train, target, test_size=0.2, random_state=42)"
      ],
      "execution_count": null,
      "outputs": []
    },
    {
      "cell_type": "markdown",
      "metadata": {
        "id": "58Gl1BsyIHMy"
      },
      "source": [
        "*KNN*"
      ]
    },
    {
      "cell_type": "code",
      "metadata": {
        "id": "GHyjcVwZIK0q"
      },
      "source": [
        "gs = GridSearchCV(KNeighborsClassifier(), param_grid={ \n",
        "    'n_neighbors': range(1, 20)}, \n",
        "    cv=5)\n",
        "gs.fit(tf_idf_vectors_train, target)\n",
        "gs.best_score_, gs.best_params_ \n",
        "\n",
        "knn = KNeighborsClassifier(**gs.best_params_).fit(X_train, y_train)\n",
        "acc_train = np.mean(knn.predict(X_train) == y_train)\n",
        "print(f\"Train Accuracy {acc_train}\")\n",
        "acc_test = np.mean(knn.predict(X_test) == y_test)\n",
        "print(f\"Test Accuracy {acc_test}\")\n",
        "\n",
        "# Train Accuracy 0.73 Test Accuracy 0.61"
      ],
      "execution_count": null,
      "outputs": []
    },
    {
      "cell_type": "markdown",
      "metadata": {
        "id": "qE7azw-vILke"
      },
      "source": [
        "*SVM*"
      ]
    },
    {
      "cell_type": "code",
      "metadata": {
        "id": "M8C7Rpw6INYd"
      },
      "source": [
        "clf = SVC()\n",
        "clf.fit(X_train, y_train)\n",
        "\n",
        "acc_train = np.mean(clf.predict(X_train) == y_train)\n",
        "print(f\"Train Accuracy {acc_train}\")\n",
        "acc_test = np.mean(clf.predict(X_test) == y_test)\n",
        "print(f\"Test Accuracy {acc_test}\")\n",
        "\n",
        "# Train Accuracy 0.97 Test Accuracy 0.81"
      ],
      "execution_count": null,
      "outputs": []
    },
    {
      "cell_type": "markdown",
      "metadata": {
        "id": "ziJ_iT18IQj-"
      },
      "source": [
        "*Random Forest*"
      ]
    },
    {
      "cell_type": "code",
      "metadata": {
        "id": "-aRFvDfyITv9"
      },
      "source": [
        "parameters = {'n_estimators': [5, 10, 15, 20, 25, 30], \n",
        "              'criterion': ['entropy', 'gini'],\n",
        "              'max_depth': range(1, 20)\n",
        "             }\n",
        "\n",
        "gs = GridSearchCV(RandomForestClassifier(), parameters)\n",
        "gs.fit(tf_idf_vectors_train, target)\n",
        "gs.best_score_, gs.best_params_ \n",
        "\n",
        "rdmf = RandomForestClassifier(**gs.best_params_)\n",
        "rdmf.fit(X_train, y_train)\n",
        "\n",
        "acc_train = np.mean(rdmf.predict(X_train) == y_train)\n",
        "print(f\"Train Accuracy {acc_train}\")\n",
        "acc_test = np.mean(rdmf.predict(X_test) == y_test)\n",
        "print(f\"Test Accuracy {acc_test}\")\n",
        "\n",
        "# Train Accuracy 1.0 Test Accuracy 0.80"
      ],
      "execution_count": null,
      "outputs": []
    },
    {
      "cell_type": "markdown",
      "metadata": {
        "id": "YF5qHHiHIV45"
      },
      "source": [
        "*Decision tree*"
      ]
    },
    {
      "cell_type": "code",
      "metadata": {
        "id": "7JVdeVM5IYT-"
      },
      "source": [
        "parameters = {'criterion': [\"gini\", \"entropy\"], \n",
        "              'max_depth': range(1, 10),\n",
        "              'min_samples_leaf': range(2, 10)\n",
        "             }\n",
        "\n",
        "gs = GridSearchCV(DecisionTreeClassifier(), parameters)\n",
        "gs.fit(tf_idf_vectors_train, target)\n",
        "gs.best_score_, gs.best_params_ \n",
        "# 0.53, {'criterion': 'entropy', 'max_depth': 9, 'min_samples_leaf': 7}\n",
        "\n",
        "dtc = DecisionTreeClassifier(**gs.best_params_)\n",
        "dtc.fit(X_train, y_train)\n",
        "\n",
        "acc_train = np.mean(dtc.predict(X_train) == y_train)\n",
        "print(f\"Train Accuracy {acc_train}\")\n",
        "acc_test = np.mean(dtc.predict(X_test) == y_test)\n",
        "print(f\"Test Accuracy {acc_test}\")\n",
        "\n",
        "# Train Accuracy 1.0 Test Accuracy 0.74"
      ],
      "execution_count": null,
      "outputs": []
    },
    {
      "cell_type": "markdown",
      "metadata": {
        "id": "gYoDVL4GIaoV"
      },
      "source": [
        "*Boosting*"
      ]
    },
    {
      "cell_type": "code",
      "metadata": {
        "id": "SCEQYyiOIcRw"
      },
      "source": [
        "ada_boost = AdaBoostClassifier(dtc)\n",
        "ada_boost.fit(X_train, y_train)\n",
        "\n",
        "acc_train = np.mean(ada_boost.predict(X_train) == y_train)\n",
        "print(f\"Train Accuracy {acc_train}\")\n",
        "acc_test = np.mean(ada_boost.predict(X_test) == y_test)\n",
        "print(f\"Test Accuracy {acc_test}\")\n",
        "\n",
        "# Train Accuracy 0.74 Test Accuracy 0.74"
      ],
      "execution_count": null,
      "outputs": []
    },
    {
      "cell_type": "markdown",
      "metadata": {
        "id": "7aR65suqIeT_"
      },
      "source": [
        "*Bagging*"
      ]
    },
    {
      "cell_type": "code",
      "metadata": {
        "id": "snv2KXZuIfqr"
      },
      "source": [
        "bclf = BaggingClassifier()\n",
        "bclf.fit(X_train, y_train)\n",
        "\n",
        "acc_train = np.mean(bclf.predict(X_train) == y_train)\n",
        "print(f\"Train Accuracy {acc_train}\")\n",
        "acc_test = np.mean(bclf.predict(X_test) == y_test)\n",
        "print(f\"Test Accuracy {acc_test}\")\n",
        "\n",
        "# Train Accuracy 0.99 Test Accuracy 0.78"
      ],
      "execution_count": null,
      "outputs": []
    },
    {
      "cell_type": "markdown",
      "metadata": {
        "id": "55k0KEeMlZgb"
      },
      "source": [
        "**Вывод:** Данный алгоритм дал неплохие результаты, перед подсчетом мы думали,что данная модель окажется лучше остальных, так как от \"важных\" слов (слов с высоким приоритетом, например \"советую/решил\") может зависеть категория вопроса, но FastText  справился с заданной задачей лучше"
      ]
    },
    {
      "cell_type": "markdown",
      "metadata": {
        "id": "0C7ZrDVkHS75"
      },
      "source": [
        "**Нейронная сеть**"
      ]
    },
    {
      "cell_type": "code",
      "metadata": {
        "id": "MjBKgyKVHWop"
      },
      "source": [
        "X_train, X_test, y_train, y_test = train_test_split(train.str.values, target, \n",
        "                                                  stratify=target, \n",
        "                                                  random_state=42, \n",
        "                                                  test_size=0.1, shuffle=True)"
      ],
      "execution_count": 22,
      "outputs": []
    },
    {
      "cell_type": "code",
      "metadata": {
        "id": "kakgCLwgH52T"
      },
      "source": [
        "tokenizer = text.Tokenizer(num_words=None)\n",
        "max_len = 70\n",
        "tokenizer.fit_on_texts(list(X_train)+list(X_test)) #заполняем словарь\n",
        "X_train_seq = tokenizer.texts_to_sequences(X_train) #преобразуем текст в последовательность чисел\n",
        "X_test_seq = tokenizer.texts_to_sequences(X_test)\n",
        "X_train_pad = sequence.pad_sequences(X_train_seq, maxlen=max_len)#преобразуем к последовательностям одинаковой длины\n",
        "X_test_pad = sequence.pad_sequences(X_test_seq, maxlen=max_len)\n",
        "word_index = tokenizer.word_index"
      ],
      "execution_count": 23,
      "outputs": []
    },
    {
      "cell_type": "code",
      "metadata": {
        "colab": {
          "base_uri": "https://localhost:8080/"
        },
        "id": "eC0ffd47HRuL",
        "outputId": "315c05d2-2de2-4e74-babf-b11c3ca87fda"
      },
      "source": [
        "model = Sequential()\n",
        "model.add(Embedding(len(word_index) + 1, #добавляем ветктора\n",
        "                     300,\n",
        "                     input_length=max_len,\n",
        "                     trainable=False))\n",
        "model.add(SpatialDropout1D(0.3)) #отсев\n",
        "model.add(LSTM(100, dropout=0.3, recurrent_dropout=0.3)) #добавляем слой short-term памяти\n",
        "\n",
        "model.add(Dense(1024, activation='relu'))\n",
        "model.add(Dropout(0.8))\n",
        "\n",
        "model.add(Dense(1024, activation='relu'))\n",
        "model.add(Dropout(0.8))\n",
        "\n",
        "model.add(Dense(3))\n",
        "model.add(Activation('softmax')) # активация\n",
        "model.compile(loss='categorical_crossentropy', optimizer='adam',metrics=['accuracy']) #настройка модели для обучения\n",
        "model.summary()"
      ],
      "execution_count": 24,
      "outputs": [
        {
          "output_type": "stream",
          "text": [
            "Model: \"sequential\"\n",
            "_________________________________________________________________\n",
            "Layer (type)                 Output Shape              Param #   \n",
            "=================================================================\n",
            "embedding (Embedding)        (None, 70, 300)           41575800  \n",
            "_________________________________________________________________\n",
            "spatial_dropout1d (SpatialDr (None, 70, 300)           0         \n",
            "_________________________________________________________________\n",
            "lstm (LSTM)                  (None, 100)               160400    \n",
            "_________________________________________________________________\n",
            "dense (Dense)                (None, 1024)              103424    \n",
            "_________________________________________________________________\n",
            "dropout (Dropout)            (None, 1024)              0         \n",
            "_________________________________________________________________\n",
            "dense_1 (Dense)              (None, 1024)              1049600   \n",
            "_________________________________________________________________\n",
            "dropout_1 (Dropout)          (None, 1024)              0         \n",
            "_________________________________________________________________\n",
            "dense_2 (Dense)              (None, 3)                 3075      \n",
            "_________________________________________________________________\n",
            "activation (Activation)      (None, 3)                 0         \n",
            "=================================================================\n",
            "Total params: 42,892,299\n",
            "Trainable params: 1,316,499\n",
            "Non-trainable params: 41,575,800\n",
            "_________________________________________________________________\n"
          ],
          "name": "stdout"
        }
      ]
    },
    {
      "cell_type": "code",
      "metadata": {
        "id": "BCnmYFoyH-dA"
      },
      "source": [
        "y_train_enc = np_utils.to_categorical(y_train) #преобразуем вектор в матрицу\n",
        "y_test_enc = np_utils.to_categorical(y_test)"
      ],
      "execution_count": 25,
      "outputs": []
    },
    {
      "cell_type": "code",
      "metadata": {
        "id": "iX_5F-LhIDyp"
      },
      "source": [
        "import tensorflow   #callback для остановки тренировки\n",
        "es = tensorflow.keras.callbacks.EarlyStopping(\n",
        "    monitor='val_loss', min_delta=0, patience=5, verbose=0, mode='min',\n",
        "    baseline=None, restore_best_weights=True\n",
        ")\n",
        "callbacks = [es]"
      ],
      "execution_count": 26,
      "outputs": []
    },
    {
      "cell_type": "code",
      "metadata": {
        "colab": {
          "base_uri": "https://localhost:8080/"
        },
        "id": "B_mKPyWwIF6C",
        "outputId": "a0b8e66a-0006-4ac9-ae46-abb4d8066180"
      },
      "source": [
        "history = model.fit(X_train_pad,y_train_enc, batch_size=512, epochs=40, verbose=1, validation_data=(X_test_pad, y_test_enc),callbacks=callbacks)"
      ],
      "execution_count": null,
      "outputs": [
        {
          "output_type": "stream",
          "text": [
            "Epoch 1/40\n",
            "85/85 [==============================] - 135s 2s/step - loss: 0.6357 - accuracy: 0.6691 - val_loss: 0.3838 - val_accuracy: 0.8263\n",
            "Epoch 2/40\n",
            "85/85 [==============================] - 141s 2s/step - loss: 0.4229 - accuracy: 0.8100 - val_loss: 0.3288 - val_accuracy: 0.8506\n",
            "Epoch 3/40\n",
            "85/85 [==============================] - 135s 2s/step - loss: 0.3851 - accuracy: 0.8299 - val_loss: 0.3123 - val_accuracy: 0.8600\n",
            "Epoch 4/40\n",
            "85/85 [==============================] - 136s 2s/step - loss: 0.3636 - accuracy: 0.8407 - val_loss: 0.3118 - val_accuracy: 0.8660\n",
            "Epoch 5/40\n",
            "85/85 [==============================] - 136s 2s/step - loss: 0.3475 - accuracy: 0.8479 - val_loss: 0.2929 - val_accuracy: 0.8685\n",
            "Epoch 6/40\n",
            "85/85 [==============================] - 134s 2s/step - loss: 0.3411 - accuracy: 0.8518 - val_loss: 0.2841 - val_accuracy: 0.8752\n",
            "Epoch 7/40\n",
            "15/85 [====>.........................] - ETA: 1:41 - loss: 0.3350 - accuracy: 0.8547"
          ],
          "name": "stdout"
        }
      ]
    },
    {
      "cell_type": "code",
      "metadata": {
        "id": "keWpdeQQIKZB"
      },
      "source": [
        "validate_seq = tokenizer.texts_to_sequences(test.str.values)\n",
        "validate_pad = sequence.pad_sequences(validate_seq, maxlen=max_len)\n",
        "predictions = model.predict(validate_pad)\n",
        "predictions = predictions.argmax(axis=1)\n",
        "test['Predicted']=predictions\n",
        "frame = test.drop(['Body','str'], axis= 1)\n",
        "frame.to_csv('test.csv')"
      ],
      "execution_count": null,
      "outputs": []
    },
    {
      "cell_type": "markdown",
      "metadata": {
        "id": "aTbc2R3NHSF5"
      },
      "source": [
        ""
      ]
    },
    {
      "cell_type": "markdown",
      "metadata": {
        "id": "vurC052cDe2b"
      },
      "source": [
        "## **Результаты:**\n",
        "\n",
        "Наилучший результат: \n",
        "\n",
        "При предварительной обработке данных с очисткой тэгов(<></>) точность составляла не более 0.75, если не убирать имена тэгов из текста, то точноcть составляет ~(0.80-0.90)"
      ]
    }
  ]
}