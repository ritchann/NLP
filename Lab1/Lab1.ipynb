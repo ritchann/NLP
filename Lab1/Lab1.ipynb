{
  "nbformat": 4,
  "nbformat_minor": 0,
  "metadata": {
    "colab": {
      "name": "Lab1.ipynb",
      "provenance": [],
      "collapsed_sections": []
    },
    "kernelspec": {
      "name": "python3",
      "display_name": "Python 3"
    }
  },
  "cells": [
    {
      "cell_type": "code",
      "metadata": {
        "id": "iPvbDIWV9NvL"
      },
      "source": [
        "import re\n",
        "import numpy as np\n",
        "import pandas as pd\n",
        "import matplotlib.pyplot as plt\n",
        "import tqdm\n",
        "from sklearn.feature_extraction.text import TfidfVectorizer\n",
        "import nltk\n",
        "from nltk.corpus import stopwords \n",
        "from nltk.tokenize import word_tokenize   \n",
        "from nltk.stem import WordNetLemmatizer \n",
        "import pyarrow\n",
        "from sklearn.model_selection import train_test_split, cross_val_score \n",
        "from sklearn.model_selection import GridSearchCV\n",
        "from sklearn.svm import SVC\n",
        "from keras.preprocessing import sequence, text\n",
        "from sklearn.ensemble import RandomForestClassifier, AdaBoostClassifier, BaggingClassifier\n",
        "from gensim.models.wrappers import FastText\n",
        "from gensim.test.utils import common_texts\n",
        "from gensim.models import Word2Vec\n",
        "from sklearn.neighbors import KNeighborsClassifier\n",
        "from gensim.models import  KeyedVectors\n",
        "import gensim.downloader as api\n",
        "from sklearn.tree import DecisionTreeClassifier\n",
        "from gensim.models.fasttext import FastText as FT_trainable\n",
        "from keras.preprocessing import sequence, text\n",
        "from keras.models import Sequential\n",
        "from keras.layers.embeddings import Embedding\n",
        "from keras.layers import  GlobalMaxPool1D, Conv1D, MaxPooling1D, Flatten, Bidirectional, SpatialDropout1D\n",
        "from keras.layers.recurrent import LSTM, GRU\n",
        "from keras.layers.core import Dense, Activation, Dropout\n",
        "from keras.utils  import np_utils\n",
        "import plotly.express as px\n",
        "import bokeh.models as bm, bokeh.plotting as pl\n",
        "from bokeh.io import output_notebook\n",
        "from sklearn.decomposition import PCA"
      ],
      "execution_count": 2,
      "outputs": []
    },
    {
      "cell_type": "code",
      "metadata": {
        "colab": {
          "base_uri": "https://localhost:8080/"
        },
        "id": "Am2ucoyT9fu0",
        "outputId": "8579f336-9042-4913-86f4-92f45ae16acd"
      },
      "source": [
        "from google.colab import drive\n",
        "drive.mount('/content/drive')\n",
        "PATH = \"/content/drive/MyDrive/nlp\""
      ],
      "execution_count": 4,
      "outputs": [
        {
          "output_type": "stream",
          "text": [
            "Mounted at /content/drive\n"
          ],
          "name": "stdout"
        }
      ]
    },
    {
      "cell_type": "markdown",
      "metadata": {
        "id": "qI0F9EMo7X7s"
      },
      "source": [
        "# **EDA**"
      ]
    },
    {
      "cell_type": "code",
      "metadata": {
        "colab": {
          "base_uri": "https://localhost:8080/"
        },
        "id": "Ibse4_Nc99dK",
        "outputId": "1d65d47d-61ca-46c8-a817-674963de79b7"
      },
      "source": [
        "nltk.download('punkt')\n",
        "nltk.download('wordnet')\n",
        "nltk.download('stopwords')"
      ],
      "execution_count": 5,
      "outputs": [
        {
          "output_type": "stream",
          "text": [
            "[nltk_data] Downloading package punkt to /root/nltk_data...\n",
            "[nltk_data]   Unzipping tokenizers/punkt.zip.\n",
            "[nltk_data] Downloading package wordnet to /root/nltk_data...\n",
            "[nltk_data]   Unzipping corpora/wordnet.zip.\n",
            "[nltk_data] Downloading package stopwords to /root/nltk_data...\n",
            "[nltk_data]   Unzipping corpora/stopwords.zip.\n"
          ],
          "name": "stdout"
        },
        {
          "output_type": "execute_result",
          "data": {
            "text/plain": [
              "True"
            ]
          },
          "metadata": {
            "tags": []
          },
          "execution_count": 5
        }
      ]
    },
    {
      "cell_type": "code",
      "metadata": {
        "id": "hhzeqD4H-BnK"
      },
      "source": [
        "train = pd.read_parquet('/content/drive/MyDrive/NLP1/train.parquet', engine = 'pyarrow')\n",
        "test = pd.read_parquet('/content/drive/MyDrive/NLP1/test.parquet', engine = 'pyarrow')"
      ],
      "execution_count": 6,
      "outputs": []
    },
    {
      "cell_type": "code",
      "metadata": {
        "id": "2svNffkR-MNL"
      },
      "source": [
        "def get_tag_keys(tag): #парсим символы тегов и отдельно кладем их в столбец TagsKeys\n",
        "    \n",
        "    if(not tag):\n",
        "        return tag\n",
        "    \n",
        "    tag = tag.replace('><', ',')\n",
        "    \n",
        "    tag = tag.replace('<', '')\n",
        "    \n",
        "    tag = tag.replace('>', '')\n",
        "    \n",
        "    return tag\n",
        "\n",
        "train['TagsKeys'] = train.Tags.apply(get_tag_keys)\n",
        "test['TagsKeys'] = test.Tags.apply(get_tag_keys)"
      ],
      "execution_count": 7,
      "outputs": []
    },
    {
      "cell_type": "code",
      "metadata": {
        "id": "IV4eKZor-UgS"
      },
      "source": [
        "tag_keys = train.TagsKeys.to_list() #список всех тегов"
      ],
      "execution_count": 8,
      "outputs": []
    },
    {
      "cell_type": "code",
      "metadata": {
        "id": "DBBx_xOo-W9z"
      },
      "source": [
        "tag_key_list   = []\n",
        "tag_key_values = None\n",
        "index_counter = 0\n",
        "size = 0\n",
        "tag_key_index_list = []\n",
        "\n",
        "for item in tag_keys:\n",
        "    item_parts = item.split(',')\n",
        "    \n",
        "    for item_ in item_parts:\n",
        "        \n",
        "        tag_key_index_list.append(index_counter)\n",
        "        tag_key_list.append(item_)\n",
        "        index_counter += 1\n",
        "    \n",
        "tag_key_new = pd.DataFrame({'id' : tag_key_index_list, 'tag_key' : tag_key_list }) # создаем фрейм с этими тегами и id"
      ],
      "execution_count": 9,
      "outputs": []
    },
    {
      "cell_type": "code",
      "metadata": {
        "colab": {
          "base_uri": "https://localhost:8080/",
          "height": 281
        },
        "id": "QPkqGbaN-ZT6",
        "outputId": "86ee6a68-99be-41d4-e190-273831bb3eec"
      },
      "source": [
        "df_largest = tag_key_new.tag_key.value_counts().nlargest(18) #считаем количество каждого тега в фрейме и берем 18 часто встречаемых\n",
        "keys = list(df_largest.keys())\n",
        "counts = list(df_largest)\n",
        "plt.pie(counts, labels=keys)\n",
        "plt.title('Часто встречаемые теги')"
      ],
      "execution_count": 10,
      "outputs": [
        {
          "output_type": "execute_result",
          "data": {
            "text/plain": [
              "Text(0.5, 1.0, 'Часто встречаемые теги')"
            ]
          },
          "metadata": {
            "tags": []
          },
          "execution_count": 10
        },
        {
          "output_type": "display_data",
          "data": {
            "image/png": "[encoded data removed]",
            "text/plain": [
              "<Figure size 432x288 with 1 Axes>"
            ]
          },
          "metadata": {
            "tags": []
          }
        }
      ]
    },
    {
      "cell_type": "code",
      "metadata": {
        "colab": {
          "base_uri": "https://localhost:8080/",
          "height": 281
        },
        "id": "PCuHqQvA-f3L",
        "outputId": "5eb0a19a-6526-4e64-82bf-0097b1727bbc"
      },
      "source": [
        "df_min = tag_key_new.tag_key.value_counts().nsmallest(18) #считаем количество каждого тега в фрейме и берем 18 мало встречаемых\n",
        "keys = list(df_min.keys())\n",
        "counts = list(df_min)\n",
        "plt.pie(counts, labels=keys)\n",
        "plt.title('Минимально встречаемые теги')"
      ],
      "execution_count": 11,
      "outputs": [
        {
          "output_type": "execute_result",
          "data": {
            "text/plain": [
              "Text(0.5, 1.0, 'Минимально встречаемые теги')"
            ]
          },
          "metadata": {
            "tags": []
          },
          "execution_count": 11
        },
        {
          "output_type": "display_data",
          "data": {
            "image/png": "[encoded data removed]",
            "text/plain": [
              "<Figure size 432x288 with 1 Axes>"
            ]
          },
          "metadata": {
            "tags": []
          }
        }
      ]
    },
    {
      "cell_type": "code",
      "metadata": {
        "colab": {
          "base_uri": "https://localhost:8080/",
          "height": 281
        },
        "id": "uHNcFeva-pCS",
        "outputId": "74e87229-67db-405e-cb7f-ee2c7ab5adf1"
      },
      "source": [
        "plt.pie([train.target[train.target == 0].count(),train.target[train.target == 1].count(),train.target[train.target == 2].count()],labels=['0','1','2'])\n",
        "plt.title('Target')"
      ],
      "execution_count": 12,
      "outputs": [
        {
          "output_type": "execute_result",
          "data": {
            "text/plain": [
              "Text(0.5, 1.0, 'Target')"
            ]
          },
          "metadata": {
            "tags": []
          },
          "execution_count": 12
        },
        {
          "output_type": "display_data",
          "data": {
            "image/png": "[encoded data removed]",
            "text/plain": [
              "<Figure size 432x288 with 1 Axes>"
            ]
          },
          "metadata": {
            "tags": []
          }
        }
      ]
    },
    {
      "cell_type": "code",
      "metadata": {
        "id": "GgqJv8H9-rY6"
      },
      "source": [
        "def code_available(content): #смотрим присутствует ли код в боди\n",
        "    \n",
        "    if('<code>' in content):\n",
        "        return 1\n",
        "    \n",
        "    return 0\n",
        "train['code_available'] = train['Body'].apply(code_available)\n",
        "test['code_available'] = test['Body'].apply(code_available)"
      ],
      "execution_count": 13,
      "outputs": []
    },
    {
      "cell_type": "code",
      "metadata": {
        "id": "bpuRbBNk-zs6"
      },
      "source": [
        "train['Body'] = train['Title'] + \" \" + train['Body']+ \" \" + train['TagsKeys'] #соединяем body, title и теги  в один текст\n",
        "test['Body'] = test['Title'] + \" \" + test['Body']+ \" \" + test['TagsKeys'] "
      ],
      "execution_count": 14,
      "outputs": []
    },
    {
      "cell_type": "code",
      "metadata": {
        "id": "jXPJbXsv-21q"
      },
      "source": [
        "def remove_short_words(content):  #убираем слова длины меньше 4\n",
        "\n",
        "    new_content_list = []\n",
        "    for item in content:\n",
        "        \n",
        "        if(len(item) > 3):\n",
        "            new_content_list.append(item)\n",
        "    \n",
        "    return \" \".join(new_content_list)\n",
        "train['Body'] =train['Body'].apply(lambda x:str(x).split())\n",
        "train['Body'] = train['Body'].apply(remove_short_words)\n",
        "\n",
        "test['Body'] = test['Body'].apply(lambda x:str(x).split())\n",
        "test['Body'] = test['Body'].apply(remove_short_words)\n"
      ],
      "execution_count": 15,
      "outputs": []
    },
    {
      "cell_type": "code",
      "metadata": {
        "id": "jc6kQHRe-9Uh"
      },
      "source": [
        "def  clean_text(content): #чистим текст от символов, тегов и ненужных частей текста, приводим все к нижнему регистру\n",
        "    \n",
        "    content = content.lower()\n",
        "\n",
        "    content = re.sub(r\"(@[A-Za-z0-9]+)|^rt|http.+?\", \"\", content)\n",
        "    content = re.sub(r\"(\\w+:\\/\\/\\S+)\", \"\", content)\n",
        "    content = re.sub(r\"([^0-9A-Za-z \\t])\", \" \", content)\n",
        "    content = re.sub(r\"^rt|http.+?\", \"\", content)\n",
        "    content = re.sub(\" +\", \" \", content)\n",
        "    content = re.sub(r\"\\d+\", \"\", content)\n",
        "    return content\n",
        "\n",
        "train['Body'] = train['Body'].apply(clean_text)\n",
        "test['Body'] = test['Body'].apply(clean_text)"
      ],
      "execution_count": 16,
      "outputs": []
    },
    {
      "cell_type": "code",
      "metadata": {
        "id": "c7RMuPBe_QiK"
      },
      "source": [
        "stop_words = set(stopwords.words('english')) \n",
        "\n",
        "def remove_stopword(words):      #удаляем стоп слова\n",
        "    list_clean = [w for w in words if not w in stop_words]\n",
        "    return list_clean\n",
        "\n",
        "train['Body'] =train['Body'].apply(lambda x:str(x).split())\n",
        "train['Body'] = train['Body'].apply(remove_stopword)\n",
        "\n",
        "test['Body'] = test['Body'].apply(lambda x:str(x).split())\n",
        "test['Body'] = test['Body'].apply(remove_stopword)\n"
      ],
      "execution_count": 17,
      "outputs": []
    },
    {
      "cell_type": "code",
      "metadata": {
        "id": "xIy6BXec_ngK"
      },
      "source": [
        "  lemmer = WordNetLemmatizer() #лемматизация\n",
        "  def lemmatizer_words(content):  \n",
        "\n",
        "    new_content_list = []\n",
        "    for item in content:\n",
        "          new_content_list.append(lemmer.lemmatize(item)) \n",
        "    \n",
        "    return new_content_list\n",
        "  \n",
        "train['Body'] = train['Body'].apply(lemmatizer_words)\n",
        "test['Body'] = test['Body'].apply(lemmatizer_words)"
      ],
      "execution_count": 18,
      "outputs": []
    },
    {
      "cell_type": "code",
      "metadata": {
        "id": "OUMR1Yq8_81z"
      },
      "source": [
        "train_data = train\n",
        "test_data = test\n",
        "target = train.target\n",
        "train = train.drop(['Tags', 'Title','TagsKeys','code_available', 'target'], \n",
        "                   axis = 1)\n",
        "test = test.drop(['Tags', 'Title','TagsKeys','code_available'], axis = 1)"
      ],
      "execution_count": 19,
      "outputs": []
    },
    {
      "cell_type": "code",
      "metadata": {
        "id": "wUqgbII1AIj6"
      },
      "source": [
        "def to_str(content): \n",
        "\n",
        "    new_content_list = []\n",
        "    for item in content:\n",
        "        \n",
        "            new_content_list.append(item)\n",
        "    \n",
        "    return \" \".join(new_content_list)\n",
        "train['str'] = train['Body'].apply(to_str)\n",
        "test['str'] = test['Body'].apply(to_str)"
      ],
      "execution_count": 20,
      "outputs": []
    },
    {
      "cell_type": "markdown",
      "metadata": {
        "id": "bVk4QyG57heR"
      },
      "source": [
        "**One Hot Encoding**"
      ]
    },
    {
      "cell_type": "code",
      "metadata": {
        "id": "b5zZzUJ_ATbi"
      },
      "source": [
        "def count_number_tag(data):\n",
        "  tags = dict()\n",
        "  for i, row in tqdm.tqdm(data.iterrows()):\n",
        "    \n",
        "    current_tags = row[\"Tags\"].split(\"<\")\n",
        "    for j in range(1,len(current_tags)):\n",
        "      if current_tags[j][:-1] in tags:\n",
        "        tags[current_tags[j][:-1]] += 1\n",
        "      else:\n",
        "        tags[current_tags[j][:-1]] = 1\n",
        "  return tags"
      ],
      "execution_count": null,
      "outputs": []
    },
    {
      "cell_type": "code",
      "metadata": {
        "id": "nDp3qBkoAWsa",
        "colab": {
          "base_uri": "https://localhost:8080/"
        },
        "outputId": "f25213b9-626a-4c3c-deff-3996ee837d00"
      },
      "source": [
        "train_tags = count_number_tag(train_data)"
      ],
      "execution_count": null,
      "outputs": [
        {
          "output_type": "stream",
          "text": [
            "48000it [00:04, 10620.39it/s]\n"
          ],
          "name": "stderr"
        }
      ]
    },
    {
      "cell_type": "code",
      "metadata": {
        "id": "1aRDy-za0btQ"
      },
      "source": [
        "def create_most_popular_tags(data, number_of_tags):\n",
        "  most_popul_tags = dict()\n",
        "  most_popul_tags = {k: v for k, v in reversed(sorted(data.items(), \n",
        "                                                      key=lambda item: item[1]))}\n",
        "  labels = list()\n",
        "  values = list()\n",
        "  for i in range(len(most_popul_tags)):\n",
        "    labels.append(list(most_popul_tags.keys())[i])\n",
        "    values.append(most_popul_tags[list(most_popul_tags.keys())[i]])\n",
        "    if i == number_of_tags:\n",
        "      break\n",
        "  return labels, values"
      ],
      "execution_count": null,
      "outputs": []
    },
    {
      "cell_type": "code",
      "metadata": {
        "id": "Z_Ieh3mU0-oH"
      },
      "source": [
        "def one_hot_encoding_tags(dataset, count_tags, number_tags):\n",
        "  most_popular_tags, _ = create_most_popular_tags(count_tags, number_tags)\n",
        "  for i in most_popular_tags:\n",
        "    dataset[i] =  pd.Series(np.zeros((len(dataset))), index=dataset.index) \n",
        "  for i, row in dataset.iterrows():\n",
        "    current_tags = row[\"TagsKeys\"].split(\",\")\n",
        "    for j in current_tags:\n",
        "      if j in dataset.columns:\n",
        "        dataset[j][i] = 1\n",
        "  return dataset"
      ],
      "execution_count": null,
      "outputs": []
    },
    {
      "cell_type": "code",
      "metadata": {
        "colab": {
          "base_uri": "https://localhost:8080/"
        },
        "id": "grDKG0D82BI2",
        "outputId": "4fd4ffb7-a36e-4c45-e624-adaf2bbafe31"
      },
      "source": [
        "train_ohe = one_hot_encoding_tags(train_data, train_tags, 200) \n",
        "test_ohe = one_hot_encoding_tags(test_data, train_tags, 200)\n",
        "# в DataFrame находятся колонки с 200 тегами, а также колонка с отметкой, был ли в Body <code>, данный тэг помогает повысить accuracy на ~0.2"
      ],
      "execution_count": null,
      "outputs": [
        {
          "output_type": "stream",
          "text": [
            "/usr/local/lib/python3.6/dist-packages/ipykernel_launcher.py:9: SettingWithCopyWarning: \n",
            "A value is trying to be set on a copy of a slice from a DataFrame\n",
            "\n",
            "See the caveats in the documentation: https://pandas.pydata.org/pandas-docs/stable/user_guide/indexing.html#returning-a-view-versus-a-copy\n",
            "  if __name__ == '__main__':\n"
          ],
          "name": "stderr"
        }
      ]
    },
    {
      "cell_type": "code",
      "metadata": {
        "id": "DtSX5NJv2nTm"
      },
      "source": [
        "train_ohe = train_ohe.drop(['Body','Tags','Title','target','TagsKeys'], axis = 1)\n",
        "test_ohe = test_ohe.drop(['Body','Tags','Title','TagsKeys'], axis = 1)"
      ],
      "execution_count": null,
      "outputs": []
    },
    {
      "cell_type": "code",
      "metadata": {
        "id": "d5POkLnA4L_3"
      },
      "source": [
        "X_train_ohe, X_test_ohe, y_train_ohe, y_test_ohe = train_test_split(\n",
        "    train_ohe, \n",
        "    target, \n",
        "    test_size = 0.25, \n",
        "    random_state = 42)"
      ],
      "execution_count": null,
      "outputs": []
    },
    {
      "cell_type": "markdown",
      "metadata": {
        "id": "oO6NpVuohkWX"
      },
      "source": [
        "*KNN*"
      ]
    },
    {
      "cell_type": "code",
      "metadata": {
        "id": "9buOO8Ia4uFu"
      },
      "source": [
        "gs = GridSearchCV(KNeighborsClassifier(), param_grid = { 'n_neighbors': range(6, 20)}, cv = 5, n_jobs = -1)\n",
        "gs.fit(train_ohe, target)  \n",
        "gs.best_score_, gs.best_params_  #(0.58, {'n_neighbors': 5})\n",
        "\n",
        "knn = KNeighborsClassifier(**gs.best_params_).fit(X_train_ohe, y_train_ohe) \n",
        "acc = np.mean(knn.predict(X_train_ohe) == y_train_ohe)\n",
        "test_acc = np.mean(knn.predict(X_test_ohe) == y_test_ohe)\n",
        "print(f\"Train Accuracy: {acc}, Test Accuracy: { test_acc}\") #Train Accuracy: 0.58, Test Accuracy: 0.58"
      ],
      "execution_count": null,
      "outputs": []
    },
    {
      "cell_type": "markdown",
      "metadata": {
        "id": "a9t3oSFchlg6"
      },
      "source": [
        "*SVM*"
      ]
    },
    {
      "cell_type": "code",
      "metadata": {
        "id": "ExSZY5br5pL-"
      },
      "source": [
        "gs = GridSearchCV(SVC(), param_grid = {'gamma': [0.00001, 0.0001, 0.1, 1, 10, 100], 'C': range(1,5)}, n_jobs=-1)\n",
        "gs.fit(train_ohe, target)  \n",
        "gs.best_score_, gs.best_params_  \n",
        "\n",
        "svc = SVC(**gs.best_params_).fit(X_train_ohe, y_train_ohe) \n",
        "acc = np.mean(svc.predict(X_train_ohe) == y_train_ohe)\n",
        "test_acc = np.mean(svc.predict(X_test_ohe) == y_test_ohe)\n",
        "print(f\"Train Accuracy: {acc}, Test Accuracy: { test_acc}\") #Train Accuracy: 0.58, Test Accuracy: 0.58"
      ],
      "execution_count": null,
      "outputs": []
    },
    {
      "cell_type": "markdown",
      "metadata": {
        "id": "1rXBVtNFhpD2"
      },
      "source": [
        "*Random Forest*"
      ]
    },
    {
      "cell_type": "code",
      "metadata": {
        "id": "ZsDe-HWb58gG"
      },
      "source": [
        "gs = GridSearchCV(RandomForestClassifier(), param_grid = { \"criterion\" : [\"gini\", \"entropy\"], \"max_depth\" : range(12,20,2), \"n_estimators\": range(100,1000,100)}, n_jobs=-1)\n",
        "gs.fit(train_ohe, target)  \n",
        "gs.best_score_, gs.best_params_  #(0.5852291666666666, {'criterion': 'gini', 'max_depth': 12, 'n_estimators': 100})\n",
        "\n",
        "md = RandomForestClassifier(**gs.best_params_).fit(X_train_ohe, y_train_ohe) \n",
        "acc = np.mean(md.predict(X_train_ohe) == y_train_ohe)\n",
        "test_acc = np.mean(md.predict(X_test_ohe) == y_test_ohe)\n",
        "print(f\"Train Accuracy: {acc}, Test Accuracy: { test_acc}\") #Train Accuracy: 0.58, Test Accuracy: 0.58"
      ],
      "execution_count": null,
      "outputs": []
    },
    {
      "cell_type": "markdown",
      "metadata": {
        "id": "DROIJ89yhrDO"
      },
      "source": [
        "*Decision tree*"
      ]
    },
    {
      "cell_type": "code",
      "metadata": {
        "id": "7hwvMonj6gqe"
      },
      "source": [
        "gs = GridSearchCV(DecisionTreeClassifier(), param_grid = {'min_samples_leaf':range(20,100,5), 'min_samples_split':range(20,100,5), 'max_depth':range(2,50), 'criterion':['gini','entropy']}, n_jobs=-1)\n",
        "gs.fit(train_ohe, target)  \n",
        "gs.best_score_, gs.best_params_  #(0.5852291666666666,{'criterion': 'gini','max_depth': 2,'min_samples_leaf': 20,'min_samples_split': 20})\n",
        "\n",
        "md = DecisionTreeClassifier(**gs.best_params_).fit(X_train_ohe, y_train_ohe) \n",
        "acc = np.mean(md.predict(X_train_ohe) == y_train_ohe)\n",
        "test_acc = np.mean(md.predict(X_test_ohe) == y_test_ohe)\n",
        "print(f\"Train Accuracy: {acc}, Test Accuracy: { test_acc}\") #Train Accuracy: 0.58, Test Accuracy: 0.58"
      ],
      "execution_count": null,
      "outputs": []
    },
    {
      "cell_type": "markdown",
      "metadata": {
        "id": "tHpf4qo7hxur"
      },
      "source": [
        "*Boosting*"
      ]
    },
    {
      "cell_type": "code",
      "metadata": {
        "id": "rjJCLfLk6yWP"
      },
      "source": [
        "gs = GridSearchCV(AdaBoostClassifier(),param_grid = {'n_estimators': range(50,1000,50)}, n_jobs=-1)\n",
        "gs.fit(train_ohe, target)  \n",
        "gs.best_score_, gs.best_params_ \n",
        "\n",
        "md = AdaBoostClassifier(**gs.best_params_).fit(X_train_ohe, y_train_ohe) \n",
        "acc = np.mean(md.predict(X_train_ohe) == y_train_ohe)\n",
        "test_acc = np.mean(md.predict(X_test_ohe) == y_test_ohe)\n",
        "print(f\"Train Accuracy: {acc}, Test Accuracy: { test_acc}\") #Train Accuracy: 0.58, Test Accuracy: 0.58"
      ],
      "execution_count": null,
      "outputs": []
    },
    {
      "cell_type": "markdown",
      "metadata": {
        "id": "gVw46D1Jh0tY"
      },
      "source": [
        "*Bagging*"
      ]
    },
    {
      "cell_type": "code",
      "metadata": {
        "id": "AuzpRsZi7CwP"
      },
      "source": [
        "gs = GridSearchCV(BaggingClassifier(),param_grid = {'n_estimators': range(10,100,10)}, n_jobs=-1)\n",
        "gs.fit(train_ohe, target)  \n",
        "gs.best_score_, gs.best_params_ \n",
        "\n",
        "md = BaggingClassifier(**gs.best_params_).fit(X_train_ohe, y_train_ohe) \n",
        "acc = np.mean(md.predict(X_train_ohe) == y_train_ohe)\n",
        "test_acc = np.mean(md.predict(X_test_ohe) == y_test_ohe)\n",
        "print(f\"Train Accuracy: {acc}, Test Accuracy: { test_acc}\") #Train Accuracy: 0.58, Test Accuracy: 0.58"
      ],
      "execution_count": null,
      "outputs": []
    },
    {
      "cell_type": "markdown",
      "metadata": {
        "id": "G9TAY1Mkaqcc"
      },
      "source": [
        "**Вывод:** Все алгоритмы дали схожие результаты, их можно объяснить тем, что  достаточно сложно судить, к какой категории относится вопрос, рассматривая лишь его тэги \n",
        "В данном случае для того чтобы улучшить результат, мы посмотрели на наличие тега code внутри body, что уменьшило ошибку на 0.2"
      ]
    },
    {
      "cell_type": "markdown",
      "metadata": {
        "id": "s6nAeMlAdnKy"
      },
      "source": [
        ""
      ]
    },
    {
      "cell_type": "markdown",
      "metadata": {
        "id": "Ipumd_387qdh"
      },
      "source": [
        "**Pre Word2Vec**"
      ]
    },
    {
      "cell_type": "code",
      "metadata": {
        "id": "A5_QfbPg7oin"
      },
      "source": [
        "def get_word2vec_vectors(corpus, model):    \n",
        "    \n",
        "    def get_vector(sentence):   \n",
        "        word_tokens = word_tokenize(\" \".join(sentence))\n",
        "        vector = 0\n",
        "        for w in word_tokens:\n",
        "            try: \n",
        "                vector += model.wv[w]\n",
        "            except:\n",
        "                continue\n",
        "        return vector\n",
        "    \n",
        "    out_corpus = np.stack(corpus.apply(lambda x: get_vector(x)).to_numpy())\n",
        "    \n",
        "    return out_corpus"
      ],
      "execution_count": null,
      "outputs": []
    },
    {
      "cell_type": "code",
      "metadata": {
        "colab": {
          "base_uri": "https://localhost:8080/"
        },
        "id": "Y7JAQDlp7p4e",
        "outputId": "fc3ff5e6-7b78-4720-bd29-548dfd183471"
      },
      "source": [
        "modelTwitter = api.load('glove-twitter-100')"
      ],
      "execution_count": null,
      "outputs": [
        {
          "output_type": "stream",
          "text": [
            "[==================================================] 100.0% 387.1/387.1MB downloaded\n"
          ],
          "name": "stdout"
        }
      ]
    },
    {
      "cell_type": "code",
      "metadata": {
        "colab": {
          "base_uri": "https://localhost:8080/"
        },
        "id": "smCVAXH97uxm",
        "outputId": "9022adc1-612b-4c12-f396-9e8cdb903d94"
      },
      "source": [
        "train_word2vec_vectors = get_word2vec_vectors(train.str, modelTwitter)\n",
        "test_word2vec_vectors = get_word2vec_vectors(test.str, modelTwitter)"
      ],
      "execution_count": null,
      "outputs": [
        {
          "output_type": "stream",
          "text": [
            "/usr/local/lib/python3.6/dist-packages/ipykernel_launcher.py:8: DeprecationWarning: Call to deprecated `wv` (Attribute will be removed in 4.0.0, use self instead).\n",
            "  \n"
          ],
          "name": "stderr"
        }
      ]
    },
    {
      "cell_type": "code",
      "metadata": {
        "id": "2RMZhLq19gJ_"
      },
      "source": [
        "train_word2vec_vectors  = pd.DataFrame(data=train_word2vec_vectors,index=train.index)\n",
        "test_word2vec_vectors  = pd.DataFrame(data=test_word2vec_vectors,index=test.index)"
      ],
      "execution_count": null,
      "outputs": []
    },
    {
      "cell_type": "code",
      "metadata": {
        "id": "_Jn8ogp99yZf"
      },
      "source": [
        "train_word2vec_vectors['code'] = train_data.code_available\n",
        "test_word2vec_vectors['code'] = test_data.code_available"
      ],
      "execution_count": null,
      "outputs": []
    },
    {
      "cell_type": "code",
      "metadata": {
        "id": "27L_f6ZU_YUY"
      },
      "source": [
        "X_train_word2vec_twitter, X_test_word2vec_twitter, y_train_word2vec_twitter, y_test_word2vec_twitter = train_test_split(train_word2vec_vectors, target, test_size = 0.25, random_state = 42)"
      ],
      "execution_count": null,
      "outputs": []
    },
    {
      "cell_type": "markdown",
      "metadata": {
        "id": "dzPoRQCRhQAn"
      },
      "source": [
        "*KNN*"
      ]
    },
    {
      "cell_type": "code",
      "metadata": {
        "id": "fjxJg7tO_h7n"
      },
      "source": [
        "gs = GridSearchCV(KNeighborsClassifier(), param_grid = {'n_neighbors': range(6, 80)}, cv = 5, n_jobs = -1)\n",
        "gs.fit(train_word2vec_vectors, target)  \n",
        "gs.best_score_, gs.best_params_ \n",
        "\n",
        "md = KNeighborsClassifier(**gs.best_params_).fit(X_train_word2vec_twitter, y_train_word2vec_twitter) \n",
        "acc = np.mean(md.predict(X_train_word2vec_twitter) == y_train_word2vec_twitter)\n",
        "test_acc = np.mean(md.predict(X_test_word2vec_twitter) == y_test_word2vec_twitter)\n",
        "print(f\"Train Accuracy: {acc}, Test Accuracy: { test_acc}\") #Train Accuracy: 0.52, Test Accuracy: 0.48"
      ],
      "execution_count": null,
      "outputs": []
    },
    {
      "cell_type": "markdown",
      "metadata": {
        "id": "mbYUOUtphRRH"
      },
      "source": [
        "*SVM*"
      ]
    },
    {
      "cell_type": "code",
      "metadata": {
        "id": "DmlLgBxA_-o_"
      },
      "source": [
        "gs = GridSearchCV(SVC(), param_grid = {'gamma': [0.00001, 0.0001, 0.1, 1, 10, 100], 'C': range(1,5)}, n_jobs=-1)\n",
        "gs.fit(train_word2vec_vectors, target)  \n",
        "gs.best_score_, gs.best_params_  \n",
        "\n",
        "md = SVC(**gs.best_params_).fit(X_train_word2vec_twitter, y_train_word2vec_twitter) \n",
        "acc = np.mean(md.predict(X_train_word2vec_twitter) == y_train_word2vec_twitter)\n",
        "test_acc = np.mean(md.predict(X_test_word2vec_twitter) == y_test_word2vec_twitter)\n",
        "print(f\"Train Accuracy: {acc}, Test Accuracy: { test_acc}\") #Train Accuracy: 0.53 Test Accuracy: 0.52"
      ],
      "execution_count": null,
      "outputs": []
    },
    {
      "cell_type": "markdown",
      "metadata": {
        "id": "gElCDfm4hTFI"
      },
      "source": [
        "*Random Forest*"
      ]
    },
    {
      "cell_type": "code",
      "metadata": {
        "id": "o8LOU8oOAUTG"
      },
      "source": [
        "gs = GridSearchCV(RandomForestClassifier(), param_grid = { \"criterion\" : [\"gini\", \"entropy\"], \"max_depth\" : range(12,20,2), \"n_estimators\": range(100,1000,100)}, n_jobs=-1)\n",
        "gs.fit(train_word2vec_vectors, target)  \n",
        "gs.best_score_, gs.best_params_  \n",
        "\n",
        "md = RandomForestClassifier(**gs.best_params_).fit(X_train_word2vec_twitter, y_train_word2vec_twitter) \n",
        "acc = np.mean(md.predict(X_train_word2vec_twitter) == y_train_word2vec_twitter)\n",
        "test_acc = np.mean(md.predict(X_test_word2vec_twitter) == y_test_word2vec_twitter)\n",
        "print(f\"Train Accuracy: {acc}, Test Accuracy: { test_acc}\") #Train Accuracy: 1.0, Test Accuracy: 0.67"
      ],
      "execution_count": null,
      "outputs": []
    },
    {
      "cell_type": "markdown",
      "metadata": {
        "id": "dwLpKJYQhV2u"
      },
      "source": [
        "*Decision Tree*"
      ]
    },
    {
      "cell_type": "code",
      "metadata": {
        "id": "7WH46mi6AtJe"
      },
      "source": [
        "gs = GridSearchCV(DecisionTreeClassifier(), param_grid = {\n",
        "    'min_samples_leaf':range(20,100,5), \n",
        "    'min_samples_split':range(20,100,5), \n",
        "    'max_depth':range(2,50), \n",
        "    'criterion':['gini','entropy']}, \n",
        "    n_jobs=-1)\n",
        "gs.fit(train_word2vec_vectors, target)  \n",
        "gs.best_score_, gs.best_params_  \n",
        "\n",
        "md = DecisionTreeClassifier(**gs.best_params_).fit(X_train_word2vec_twitter, y_train_word2vec_twitter) \n",
        "acc = np.mean(md.predict(X_train_word2vec_twitter) == y_train_word2vec_twitter)\n",
        "test_acc = np.mean(md.predict(X_test_word2vec_twitter) == y_test_word2vec_twitter)\n",
        "print(f\"Train Accuracy: {acc}, Test Accuracy: { test_acc}\") #Train Accuracy: 1.0, Test Accuracy: 0.57"
      ],
      "execution_count": null,
      "outputs": []
    },
    {
      "cell_type": "markdown",
      "metadata": {
        "id": "FoqwisK1hY0v"
      },
      "source": [
        "*Boosting*"
      ]
    },
    {
      "cell_type": "code",
      "metadata": {
        "id": "N-PDRIHiBBTp"
      },
      "source": [
        "gs = GridSearchCV(AdaBoostClassifier(),param_grid = {\n",
        "    'n_estimators': range(50,1000,50)}, \n",
        "    n_jobs=-1)\n",
        "gs.fit(train_word2vec_vectors, target)  \n",
        "gs.best_score_, gs.best_params_  \n",
        "\n",
        "md = AdaBoostClassifier(**gs.best_params_).fit(X_train_word2vec_twitter, y_train_word2vec_twitter) \n",
        "acc = np.mean(md.predict(X_train_word2vec_twitter) == y_train_word2vec_twitter)\n",
        "test_acc = np.mean(md.predict(X_test_word2vec_twitter) == y_test_word2vec_twitter)\n",
        "print(f\"Train Accuracy: {acc}, Test Accuracy: { test_acc}\") #Train Accuracy: 0.65, Test Accuracy: 0.64"
      ],
      "execution_count": null,
      "outputs": []
    },
    {
      "cell_type": "markdown",
      "metadata": {
        "id": "m96iIwySha8_"
      },
      "source": [
        "*Bagging*"
      ]
    },
    {
      "cell_type": "code",
      "metadata": {
        "id": "kFnwLKZ2BKwJ"
      },
      "source": [
        "gs = GridSearchCV(BaggingClassifier(),param_grid = {\n",
        "    'n_estimators': range(10,100,10)}, \n",
        "    n_jobs=-1)\n",
        "gs.fit(train_word2vec_vectors, target)  \n",
        "gs.best_score_, gs.best_params_  \n",
        "\n",
        "md = BaggingClassifier(**gs.best_params_).fit(X_train_word2vec_twitter, y_train_word2vec_twitter) \n",
        "acc = np.mean(md.predict(X_train_word2vec_twitter) == y_train_word2vec_twitter)\n",
        "test_acc = np.mean(md.predict(X_test_word2vec_twitter) == y_test_word2vec_twitter)\n",
        "print(f\"Train Accuracy: {acc}, Test Accuracy: { test_acc}\") #Train Accuracy: 0.98, Test Accuracy: 0.64"
      ],
      "execution_count": null,
      "outputs": []
    },
    {
      "cell_type": "markdown",
      "metadata": {
        "id": "BoRxOFFSccxI"
      },
      "source": [
        "**Вывод:** Данная предобученная модель оказалась недостаточно подходящей для нашей задачи, так как вопросы на Stack Overflow более специфичные (технические), чем тексты, на которых обучалась модель"
      ]
    },
    {
      "cell_type": "markdown",
      "metadata": {
        "id": "7xu1BJxP7xbR"
      },
      "source": [
        "**Word2Vec**"
      ]
    },
    {
      "cell_type": "code",
      "metadata": {
        "id": "RH5FjKSbBumo"
      },
      "source": [
        "def get_word2vec_vectors(corpus, model):    \n",
        "    \n",
        "    def get_vector(sentence):   \n",
        "        word_tokens = word_tokenize(\" \".join(sentence))\n",
        "        vector = 0\n",
        "        for w in word_tokens:\n",
        "            try: \n",
        "                vector += model.wv[w]\n",
        "            except:\n",
        "                continue\n",
        "        return vector\n",
        "    \n",
        "    out_corpus = np.stack(corpus.apply(lambda x: get_vector(x)).to_numpy())\n",
        "    \n",
        "    return out_corpus"
      ],
      "execution_count": 28,
      "outputs": []
    },
    {
      "cell_type": "code",
      "metadata": {
        "id": "elldB2fMB1pv"
      },
      "source": [
        "model = Word2Vec(train.Body, size=300, min_count=5, window=5)  "
      ],
      "execution_count": 29,
      "outputs": []
    },
    {
      "cell_type": "code",
      "metadata": {
        "id": "H8VjPVKtB8Jn"
      },
      "source": [
        "train_word2vec = get_word2vec_vectors(train.Body, model)\n",
        "test_word2vec = get_word2vec_vectors(test.Body, model)"
      ],
      "execution_count": 32,
      "outputs": []
    },
    {
      "cell_type": "code",
      "metadata": {
        "id": "jp8OB-_WCFJI"
      },
      "source": [
        "train_word2vec = pd.DataFrame(data=train_word2vec,index=train.index)\n",
        "test_word2vec = pd.DataFrame(data=test_word2vec,index=test.index)"
      ],
      "execution_count": 31,
      "outputs": []
    },
    {
      "cell_type": "code",
      "metadata": {
        "id": "Dizb4p8QCQIx"
      },
      "source": [
        "train_word2vec['code'] = train_data.code_available\n",
        "test_word2vec['code'] = test_data.code_available"
      ],
      "execution_count": null,
      "outputs": []
    },
    {
      "cell_type": "code",
      "metadata": {
        "id": "5nH-4JSUdTcK"
      },
      "source": [
        "words = sorted(model.wv.vocab.keys(), \n",
        "               key=lambda word: model.wv.vocab[word].count,\n",
        "               reverse=True)[:1000]"
      ],
      "execution_count": 34,
      "outputs": []
    },
    {
      "cell_type": "code",
      "metadata": {
        "id": "1xXnnfHEeH6j"
      },
      "source": [
        "word_vectors = np.array([model.wv.get_vector(vector) for vector in words])\n",
        "\n",
        "pca = PCA(n_components=2)\n",
        "pca.fit(word_vectors)\n",
        "word_vectors_pca = pca.transform(word_vectors)\n",
        "word_vectors_pca = (word_vectors_pca - word_vectors_pca.mean(axis=0)) / word_vectors_pca.std(axis=0)"
      ],
      "execution_count": 35,
      "outputs": []
    },
    {
      "cell_type": "code",
      "metadata": {
        "id": "gMpSAM3ReJ6K"
      },
      "source": [
        "def draw_vectors(x, y, radius=10, alpha=0.25, color='blueviolet',\n",
        "                 width=500, height=400, show=True, **kwargs):\n",
        "\n",
        "    if isinstance(color, str): color = [color] * len(x)\n",
        "    data_source = bm.ColumnDataSource({ 'x' : x, 'y' : y, 'color': color, **kwargs })\n",
        "\n",
        "    fig = pl.figure(active_scroll='wheel_zoom', width=width, height=height)\n",
        "    fig.scatter('x', 'y', size=radius, color='color', alpha=alpha, source=data_source)\n",
        "\n",
        "    fig.add_tools(bm.HoverTool(tooltips=[(key, \"@\" + key) for key in kwargs.keys()]))\n",
        "    if show: pl.show(fig)\n",
        "    return fig"
      ],
      "execution_count": 42,
      "outputs": []
    },
    {
      "cell_type": "code",
      "metadata": {
        "colab": {
          "base_uri": "https://localhost:8080/",
          "height": 434
        },
        "id": "gYvtKL7QeZp8",
        "outputId": "f5cae485-7055-4b37-cf17-70a875d380b7"
      },
      "source": [
        "draw_vectors(word_vectors_pca[:, 0], word_vectors_pca[:, 1], token=words)"
      ],
      "execution_count": 43,
      "outputs": [
        {
          "output_type": "display_data",
          "data": {
            "application/javascript": [
              "\n",
              "(function(root) {\n",
              "  function now() {\n",
              "    return new Date();\n",
              "  }\n",
              "\n",
              "  var force = true;\n",
              "\n",
              "  if (typeof root._bokeh_onload_callbacks === \"undefined\" || force === true) {\n",
              "    root._bokeh_onload_callbacks = [];\n",
              "    root._bokeh_is_loading = undefined;\n",
              "  }\n",
              "\n",
              "  var JS_MIME_TYPE = 'application/javascript';\n",
              "  var HTML_MIME_TYPE = 'text/html';\n",
              "  var EXEC_MIME_TYPE = 'application/vnd.bokehjs_exec.v0+json';\n",
              "  var CLASS_NAME = 'output_bokeh rendered_html';\n",
              "\n",
              "  /**\n",
              "   * Render data to the DOM node\n",
              "   */\n",
              "  function render(props, node) {\n",
              "    var script = document.createElement(\"script\");\n",
              "    node.appendChild(script);\n",
              "  }\n",
              "\n",
              "  /**\n",
              "   * Handle when an output is cleared or removed\n",
              "   */\n",
              "  function handleClearOutput(event, handle) {\n",
              "    var cell = handle.cell;\n",
              "\n",
              "    var id = cell.output_area._bokeh_element_id;\n",
              "    var server_id = cell.output_area._bokeh_server_id;\n",
              "    // Clean up Bokeh references\n",
              "    if (id != null && id in Bokeh.index) {\n",
              "      Bokeh.index[id].model.document.clear();\n",
              "      delete Bokeh.index[id];\n",
              "    }\n",
              "\n",
              "    if (server_id !== undefined) {\n",
              "      // Clean up Bokeh references\n",
              "      var cmd = \"from bokeh.io.state import curstate; print(curstate().uuid_to_server['\" + server_id + \"'].get_sessions()[0].document.roots[0]._id)\";\n",
              "      cell.notebook.kernel.execute(cmd, {\n",
              "        iopub: {\n",
              "          output: function(msg) {\n",
              "            var id = msg.content.text.trim();\n",
              "            if (id in Bokeh.index) {\n",
              "              Bokeh.index[id].model.document.clear();\n",
              "              delete Bokeh.index[id];\n",
              "            }\n",
              "          }\n",
              "        }\n",
              "      });\n",
              "      // Destroy server and session\n",
              "      var cmd = \"import bokeh.io.notebook as ion; ion.destroy_server('\" + server_id + \"')\";\n",
              "      cell.notebook.kernel.execute(cmd);\n",
              "    }\n",
              "  }\n",
              "\n",
              "  /**\n",
              "   * Handle when a new output is added\n",
              "   */\n",
              "  function handleAddOutput(event, handle) {\n",
              "    var output_area = handle.output_area;\n",
              "    var output = handle.output;\n",
              "\n",
              "    // limit handleAddOutput to display_data with EXEC_MIME_TYPE content only\n",
              "    if ((output.output_type != \"display_data\") || (!output.data.hasOwnProperty(EXEC_MIME_TYPE))) {\n",
              "      return\n",
              "    }\n",
              "\n",
              "    var toinsert = output_area.element.find(\".\" + CLASS_NAME.split(' ')[0]);\n",
              "\n",
              "    if (output.metadata[EXEC_MIME_TYPE][\"id\"] !== undefined) {\n",
              "      toinsert[toinsert.length - 1].firstChild.textContent = output.data[JS_MIME_TYPE];\n",
              "      // store reference to embed id on output_area\n",
              "      output_area._bokeh_element_id = output.metadata[EXEC_MIME_TYPE][\"id\"];\n",
              "    }\n",
              "    if (output.metadata[EXEC_MIME_TYPE][\"server_id\"] !== undefined) {\n",
              "      var bk_div = document.createElement(\"div\");\n",
              "      bk_div.innerHTML = output.data[HTML_MIME_TYPE];\n",
              "      var script_attrs = bk_div.children[0].attributes;\n",
              "      for (var i = 0; i < script_attrs.length; i++) {\n",
              "        toinsert[toinsert.length - 1].firstChild.setAttribute(script_attrs[i].name, script_attrs[i].value);\n",
              "        toinsert[toinsert.length - 1].firstChild.textContent = bk_div.children[0].textContent\n",
              "      }\n",
              "      // store reference to server id on output_area\n",
              "      output_area._bokeh_server_id = output.metadata[EXEC_MIME_TYPE][\"server_id\"];\n",
              "    }\n",
              "  }\n",
              "\n",
              "  function register_renderer(events, OutputArea) {\n",
              "\n",
              "    function append_mime(data, metadata, element) {\n",
              "      // create a DOM node to render to\n",
              "      var toinsert = this.create_output_subarea(\n",
              "        metadata,\n",
              "        CLASS_NAME,\n",
              "        EXEC_MIME_TYPE\n",
              "      );\n",
              "      this.keyboard_manager.register_events(toinsert);\n",
              "      // Render to node\n",
              "      var props = {data: data, metadata: metadata[EXEC_MIME_TYPE]};\n",
              "      render(props, toinsert[toinsert.length - 1]);\n",
              "      element.append(toinsert);\n",
              "      return toinsert\n",
              "    }\n",
              "\n",
              "    /* Handle when an output is cleared or removed */\n",
              "    events.on('clear_output.CodeCell', handleClearOutput);\n",
              "    events.on('delete.Cell', handleClearOutput);\n",
              "\n",
              "    /* Handle when a new output is added */\n",
              "    events.on('output_added.OutputArea', handleAddOutput);\n",
              "\n",
              "    /**\n",
              "     * Register the mime type and append_mime function with output_area\n",
              "     */\n",
              "    OutputArea.prototype.register_mime_type(EXEC_MIME_TYPE, append_mime, {\n",
              "      /* Is output safe? */\n",
              "      safe: true,\n",
              "      /* Index of renderer in `output_area.display_order` */\n",
              "      index: 0\n",
              "    });\n",
              "  }\n",
              "\n",
              "  // register the mime type if in Jupyter Notebook environment and previously unregistered\n",
              "  if (root.Jupyter !== undefined) {\n",
              "    var events = require('base/js/events');\n",
              "    var OutputArea = require('notebook/js/outputarea').OutputArea;\n",
              "\n",
              "    if (OutputArea.prototype.mime_types().indexOf(EXEC_MIME_TYPE) == -1) {\n",
              "      register_renderer(events, OutputArea);\n",
              "    }\n",
              "  }\n",
              "\n",
              "  \n",
              "  if (typeof (root._bokeh_timeout) === \"undefined\" || force === true) {\n",
              "    root._bokeh_timeout = Date.now() + 5000;\n",
              "    root._bokeh_failed_load = false;\n",
              "  }\n",
              "\n",
              "  var NB_LOAD_WARNING = {'data': {'text/html':\n",
              "     \"<div style='background-color: #fdd'>\\n\"+\n",
              "     \"<p>\\n\"+\n",
              "     \"BokehJS does not appear to have successfully loaded. If loading BokehJS from CDN, this \\n\"+\n",
              "     \"may be due to a slow or bad network connection. Possible fixes:\\n\"+\n",
              "     \"</p>\\n\"+\n",
              "     \"<ul>\\n\"+\n",
              "     \"<li>re-rerun `output_notebook()` to attempt to load from CDN again, or</li>\\n\"+\n",
              "     \"<li>use INLINE resources instead, as so:</li>\\n\"+\n",
              "     \"</ul>\\n\"+\n",
              "     \"<code>\\n\"+\n",
              "     \"from bokeh.resources import INLINE\\n\"+\n",
              "     \"output_notebook(resources=INLINE)\\n\"+\n",
              "     \"</code>\\n\"+\n",
              "     \"</div>\"}};\n",
              "\n",
              "  function display_loaded() {\n",
              "    var el = document.getElementById(null);\n",
              "    if (el != null) {\n",
              "      el.textContent = \"BokehJS is loading...\";\n",
              "    }\n",
              "    if (root.Bokeh !== undefined) {\n",
              "      if (el != null) {\n",
              "        el.textContent = \"BokehJS \" + root.Bokeh.version + \" successfully loaded.\";\n",
              "      }\n",
              "    } else if (Date.now() < root._bokeh_timeout) {\n",
              "      setTimeout(display_loaded, 100)\n",
              "    }\n",
              "  }\n",
              "\n",
              "\n",
              "  function run_callbacks() {\n",
              "    try {\n",
              "      root._bokeh_onload_callbacks.forEach(function(callback) {\n",
              "        if (callback != null)\n",
              "          callback();\n",
              "      });\n",
              "    } finally {\n",
              "      delete root._bokeh_onload_callbacks\n",
              "    }\n",
              "    console.debug(\"Bokeh: all callbacks have finished\");\n",
              "  }\n",
              "\n",
              "  function load_libs(css_urls, js_urls, callback) {\n",
              "    if (css_urls == null) css_urls = [];\n",
              "    if (js_urls == null) js_urls = [];\n",
              "\n",
              "    root._bokeh_onload_callbacks.push(callback);\n",
              "    if (root._bokeh_is_loading > 0) {\n",
              "      console.debug(\"Bokeh: BokehJS is being loaded, scheduling callback at\", now());\n",
              "      return null;\n",
              "    }\n",
              "    if (js_urls == null || js_urls.length === 0) {\n",
              "      run_callbacks();\n",
              "      return null;\n",
              "    }\n",
              "    console.debug(\"Bokeh: BokehJS not loaded, scheduling load and callback at\", now());\n",
              "    root._bokeh_is_loading = css_urls.length + js_urls.length;\n",
              "\n",
              "    function on_load() {\n",
              "      root._bokeh_is_loading--;\n",
              "      if (root._bokeh_is_loading === 0) {\n",
              "        console.debug(\"Bokeh: all BokehJS libraries/stylesheets loaded\");\n",
              "        run_callbacks()\n",
              "      }\n",
              "    }\n",
              "\n",
              "    function on_error() {\n",
              "      console.error(\"failed to load \" + url);\n",
              "    }\n",
              "\n",
              "    for (var i = 0; i < css_urls.length; i++) {\n",
              "      var url = css_urls[i];\n",
              "      const element = document.createElement(\"link\");\n",
              "      element.onload = on_load;\n",
              "      element.onerror = on_error;\n",
              "      element.rel = \"stylesheet\";\n",
              "      element.type = \"text/css\";\n",
              "      element.href = url;\n",
              "      console.debug(\"Bokeh: injecting link tag for BokehJS stylesheet: \", url);\n",
              "      document.body.appendChild(element);\n",
              "    }\n",
              "\n",
              "    const hashes = {\"https://cdn.bokeh.org/bokeh/release/bokeh-2.1.1.min.js\": \"kLr4fYcqcSpbuI95brIH3vnnYCquzzSxHPU6XGQCIkQRGJwhg0StNbj1eegrHs12\", \"https://cdn.bokeh.org/bokeh/release/bokeh-widgets-2.1.1.min.js\": \"xIGPmVtaOm+z0BqfSOMn4lOR6ciex448GIKG4eE61LsAvmGj48XcMQZtKcE/UXZe\", \"https://cdn.bokeh.org/bokeh/release/bokeh-tables-2.1.1.min.js\": \"Dc9u1wF/0zApGIWoBbH77iWEHtdmkuYWG839Uzmv8y8yBLXebjO9ZnERsde5Ln/P\", \"https://cdn.bokeh.org/bokeh/release/bokeh-gl-2.1.1.min.js\": \"cT9JaBz7GiRXdENrJLZNSC6eMNF3nh3fa5fTF51Svp+ukxPdwcU5kGXGPBgDCa2j\"};\n",
              "\n",
              "    for (var i = 0; i < js_urls.length; i++) {\n",
              "      var url = js_urls[i];\n",
              "      var element = document.createElement('script');\n",
              "      element.onload = on_load;\n",
              "      element.onerror = on_error;\n",
              "      element.async = false;\n",
              "      element.src = url;\n",
              "      if (url in hashes) {\n",
              "        element.crossOrigin = \"anonymous\";\n",
              "        element.integrity = \"sha384-\" + hashes[url];\n",
              "      }\n",
              "      console.debug(\"Bokeh: injecting script tag for BokehJS library: \", url);\n",
              "      document.head.appendChild(element);\n",
              "    }\n",
              "  };\n",
              "\n",
              "  function inject_raw_css(css) {\n",
              "    const element = document.createElement(\"style\");\n",
              "    element.appendChild(document.createTextNode(css));\n",
              "    document.body.appendChild(element);\n",
              "  }\n",
              "\n",
              "  \n",
              "  var js_urls = [\"https://cdn.bokeh.org/bokeh/release/bokeh-2.1.1.min.js\", \"https://cdn.bokeh.org/bokeh/release/bokeh-widgets-2.1.1.min.js\", \"https://cdn.bokeh.org/bokeh/release/bokeh-tables-2.1.1.min.js\", \"https://cdn.bokeh.org/bokeh/release/bokeh-gl-2.1.1.min.js\"];\n",
              "  var css_urls = [];\n",
              "  \n",
              "\n",
              "  var inline_js = [\n",
              "    function(Bokeh) {\n",
              "      Bokeh.set_log_level(\"info\");\n",
              "    },\n",
              "    function(Bokeh) {\n",
              "    \n",
              "    \n",
              "    }\n",
              "  ];\n",
              "\n",
              "  function run_inline_js() {\n",
              "    \n",
              "    if (root.Bokeh !== undefined || force === true) {\n",
              "      \n",
              "    for (var i = 0; i < inline_js.length; i++) {\n",
              "      inline_js[i].call(root, root.Bokeh);\n",
              "    }\n",
              "    } else if (Date.now() < root._bokeh_timeout) {\n",
              "      setTimeout(run_inline_js, 100);\n",
              "    } else if (!root._bokeh_failed_load) {\n",
              "      console.log(\"Bokeh: BokehJS failed to load within specified timeout.\");\n",
              "      root._bokeh_failed_load = true;\n",
              "    } else if (force !== true) {\n",
              "      var cell = $(document.getElementById(null)).parents('.cell').data().cell;\n",
              "      cell.output_area.append_execute_result(NB_LOAD_WARNING)\n",
              "    }\n",
              "\n",
              "  }\n",
              "\n",
              "  if (root._bokeh_is_loading === 0) {\n",
              "    console.debug(\"Bokeh: BokehJS loaded, going straight to plotting\");\n",
              "    run_inline_js();\n",
              "  } else {\n",
              "    load_libs(css_urls, js_urls, function() {\n",
              "      console.debug(\"Bokeh: BokehJS plotting callback run at\", now());\n",
              "      run_inline_js();\n",
              "    });\n",
              "  }\n",
              "}(window));"
            ],
            "application/vnd.bokehjs_load.v0+json": "\n(function(root) {\n  function now() {\n    return new Date();\n  }\n\n  var force = true;\n\n  if (typeof root._bokeh_onload_callbacks === \"undefined\" || force === true) {\n    root._bokeh_onload_callbacks = [];\n    root._bokeh_is_loading = undefined;\n  }\n\n  \n\n  \n  if (typeof (root._bokeh_timeout) === \"undefined\" || force === true) {\n    root._bokeh_timeout = Date.now() + 5000;\n    root._bokeh_failed_load = false;\n  }\n\n  var NB_LOAD_WARNING = {'data': {'text/html':\n     \"<div style='background-color: #fdd'>\\n\"+\n     \"<p>\\n\"+\n     \"BokehJS does not appear to have successfully loaded. If loading BokehJS from CDN, this \\n\"+\n     \"may be due to a slow or bad network connection. Possible fixes:\\n\"+\n     \"</p>\\n\"+\n     \"<ul>\\n\"+\n     \"<li>re-rerun `output_notebook()` to attempt to load from CDN again, or</li>\\n\"+\n     \"<li>use INLINE resources instead, as so:</li>\\n\"+\n     \"</ul>\\n\"+\n     \"<code>\\n\"+\n     \"from bokeh.resources import INLINE\\n\"+\n     \"output_notebook(resources=INLINE)\\n\"+\n     \"</code>\\n\"+\n     \"</div>\"}};\n\n  function display_loaded() {\n    var el = document.getElementById(null);\n    if (el != null) {\n      el.textContent = \"BokehJS is loading...\";\n    }\n    if (root.Bokeh !== undefined) {\n      if (el != null) {\n        el.textContent = \"BokehJS \" + root.Bokeh.version + \" successfully loaded.\";\n      }\n    } else if (Date.now() < root._bokeh_timeout) {\n      setTimeout(display_loaded, 100)\n    }\n  }\n\n\n  function run_callbacks() {\n    try {\n      root._bokeh_onload_callbacks.forEach(function(callback) {\n        if (callback != null)\n          callback();\n      });\n    } finally {\n      delete root._bokeh_onload_callbacks\n    }\n    console.debug(\"Bokeh: all callbacks have finished\");\n  }\n\n  function load_libs(css_urls, js_urls, callback) {\n    if (css_urls == null) css_urls = [];\n    if (js_urls == null) js_urls = [];\n\n    root._bokeh_onload_callbacks.push(callback);\n    if (root._bokeh_is_loading > 0) {\n      console.debug(\"Bokeh: BokehJS is being loaded, scheduling callback at\", now());\n      return null;\n    }\n    if (js_urls == null || js_urls.length === 0) {\n      run_callbacks();\n      return null;\n    }\n    console.debug(\"Bokeh: BokehJS not loaded, scheduling load and callback at\", now());\n    root._bokeh_is_loading = css_urls.length + js_urls.length;\n\n    function on_load() {\n      root._bokeh_is_loading--;\n      if (root._bokeh_is_loading === 0) {\n        console.debug(\"Bokeh: all BokehJS libraries/stylesheets loaded\");\n        run_callbacks()\n      }\n    }\n\n    function on_error() {\n      console.error(\"failed to load \" + url);\n    }\n\n    for (var i = 0; i < css_urls.length; i++) {\n      var url = css_urls[i];\n      const element = document.createElement(\"link\");\n      element.onload = on_load;\n      element.onerror = on_error;\n      element.rel = \"stylesheet\";\n      element.type = \"text/css\";\n      element.href = url;\n      console.debug(\"Bokeh: injecting link tag for BokehJS stylesheet: \", url);\n      document.body.appendChild(element);\n    }\n\n    const hashes = {\"https://cdn.bokeh.org/bokeh/release/bokeh-2.1.1.min.js\": \"kLr4fYcqcSpbuI95brIH3vnnYCquzzSxHPU6XGQCIkQRGJwhg0StNbj1eegrHs12\", \"https://cdn.bokeh.org/bokeh/release/bokeh-widgets-2.1.1.min.js\": \"xIGPmVtaOm+z0BqfSOMn4lOR6ciex448GIKG4eE61LsAvmGj48XcMQZtKcE/UXZe\", \"https://cdn.bokeh.org/bokeh/release/bokeh-tables-2.1.1.min.js\": \"Dc9u1wF/0zApGIWoBbH77iWEHtdmkuYWG839Uzmv8y8yBLXebjO9ZnERsde5Ln/P\", \"https://cdn.bokeh.org/bokeh/release/bokeh-gl-2.1.1.min.js\": \"cT9JaBz7GiRXdENrJLZNSC6eMNF3nh3fa5fTF51Svp+ukxPdwcU5kGXGPBgDCa2j\"};\n\n    for (var i = 0; i < js_urls.length; i++) {\n      var url = js_urls[i];\n      var element = document.createElement('script');\n      element.onload = on_load;\n      element.onerror = on_error;\n      element.async = false;\n      element.src = url;\n      if (url in hashes) {\n        element.crossOrigin = \"anonymous\";\n        element.integrity = \"sha384-\" + hashes[url];\n      }\n      console.debug(\"Bokeh: injecting script tag for BokehJS library: \", url);\n      document.head.appendChild(element);\n    }\n  };\n\n  function inject_raw_css(css) {\n    const element = document.createElement(\"style\");\n    element.appendChild(document.createTextNode(css));\n    document.body.appendChild(element);\n  }\n\n  \n  var js_urls = [\"https://cdn.bokeh.org/bokeh/release/bokeh-2.1.1.min.js\", \"https://cdn.bokeh.org/bokeh/release/bokeh-widgets-2.1.1.min.js\", \"https://cdn.bokeh.org/bokeh/release/bokeh-tables-2.1.1.min.js\", \"https://cdn.bokeh.org/bokeh/release/bokeh-gl-2.1.1.min.js\"];\n  var css_urls = [];\n  \n\n  var inline_js = [\n    function(Bokeh) {\n      Bokeh.set_log_level(\"info\");\n    },\n    function(Bokeh) {\n    \n    \n    }\n  ];\n\n  function run_inline_js() {\n    \n    if (root.Bokeh !== undefined || force === true) {\n      \n    for (var i = 0; i < inline_js.length; i++) {\n      inline_js[i].call(root, root.Bokeh);\n    }\n    } else if (Date.now() < root._bokeh_timeout) {\n      setTimeout(run_inline_js, 100);\n    } else if (!root._bokeh_failed_load) {\n      console.log(\"Bokeh: BokehJS failed to load within specified timeout.\");\n      root._bokeh_failed_load = true;\n    } else if (force !== true) {\n      var cell = $(document.getElementById(null)).parents('.cell').data().cell;\n      cell.output_area.append_execute_result(NB_LOAD_WARNING)\n    }\n\n  }\n\n  if (root._bokeh_is_loading === 0) {\n    console.debug(\"Bokeh: BokehJS loaded, going straight to plotting\");\n    run_inline_js();\n  } else {\n    load_libs(css_urls, js_urls, function() {\n      console.debug(\"Bokeh: BokehJS plotting callback run at\", now());\n      run_inline_js();\n    });\n  }\n}(window));"
          },
          "metadata": {
            "tags": []
          }
        },
        {
          "output_type": "display_data",
          "data": {
            "text/html": [
              "\n",
              "\n",
              "\n",
              "\n",
              "\n",
              "\n",
              "  <div class=\"bk-root\" id=\"17c73744-fe7d-4b42-b789-a5d8d3cde07d\" data-root-id=\"1347\"></div>\n"
            ]
          },
          "metadata": {
            "tags": []
          }
        },
        {
          "output_type": "display_data",
          "data": {
            "application/javascript": [
              "(function(root) {\n",
              "  function embed_document(root) {\n",
              "    \n",
              "  var docs_json = {\"7fbd2ea5-8965-49b6-a61b-4ba745057088\":{\"roots\":{\"references\":[{\"attributes\":{\"below\":[{\"id\":\"1356\"}],\"center\":[{\"id\":\"1359\"},{\"id\":\"1363\"}],\"left\":[{\"id\":\"1360\"}],\"plot_height\":400,\"plot_width\":500,\"renderers\":[{\"id\":\"1381\"}],\"title\":{\"id\":\"1412\"},\"toolbar\":{\"id\":\"1371\"},\"x_range\":{\"id\":\"1348\"},\"x_scale\":{\"id\":\"1352\"},\"y_range\":{\"id\":\"1350\"},\"y_scale\":{\"id\":\"1354\"}},\"id\":\"1347\",\"subtype\":\"Figure\",\"type\":\"Plot\"},{\"attributes\":{\"data\":{\"color\":[\"blueviolet\",\"blueviolet\",\"blueviolet\",\"blueviolet\",\"blueviolet\",\"blueviolet\",\"blueviolet\",\"blueviolet\",\"blueviolet\",\"blueviolet\",\"blueviolet\",\"blueviolet\",\"blueviolet\",\"blueviolet\",\"blueviolet\",\"blueviolet\",\"blueviolet\",\"blueviolet\",\"blueviolet\",\"blueviolet\",\"blueviolet\",\"blueviolet\",\"blueviolet\",\"blueviolet\",\"blueviolet\",\"blueviolet\",\"blueviolet\",\"blueviolet\",\"blueviolet\",\"blueviolet\",\"blueviolet\",\"blueviolet\",\"blueviolet\",\"blueviolet\",\"blueviolet\",\"blueviolet\",\"blueviolet\",\"blueviolet\",\"blueviolet\",\"blueviolet\",\"blueviolet\",\"blueviolet\",\"blueviolet\",\"blueviolet\",\"blueviolet\",\"blueviolet\",\"blueviolet\",\"blueviolet\",\"blueviolet\",\"blueviolet\",\"blueviolet\",\"blueviolet\",\"blueviolet\",\"blueviolet\",\"blueviolet\",\"blueviolet\",\"blueviolet\",\"blueviolet\",\"blueviolet\",\"blueviolet\",\"blueviolet\",\"blueviolet\",\"blueviolet\",\"blueviolet\",\"blueviolet\",\"blueviolet\",\"blueviolet\",\"blueviolet\",\"blueviolet\",\"blueviolet\",\"blueviolet\",\"blueviolet\",\"blueviolet\",\"blueviolet\",\"blueviolet\",\"blueviolet\",\"blueviolet\",\"blueviolet\",\"blueviolet\",\"blueviolet\",\"blueviolet\",\"blueviolet\",\"blueviolet\",\"blueviolet\",\"blueviolet\",\"blueviolet\",\"blueviolet\",\"blueviolet\",\"blueviolet\",\"blueviolet\",\"blueviolet\",\"blueviolet\",\"blueviolet\",\"blueviolet\",\"blueviolet\",\"blueviolet\",\"blueviolet\",\"blueviolet\",\"blueviolet\",\"blueviolet\",\"blueviolet\",\"blueviolet\",\"blueviolet\",\"blueviolet\",\"blueviolet\",\"blueviolet\",\"blueviolet\",\"blueviolet\",\"blueviolet\",\"blueviolet\",\"blueviolet\",\"blueviolet\",\"blueviolet\",\"blueviolet\",\"blueviolet\",\"blueviolet\",\"blueviolet\",\"blueviolet\",\"blueviolet\",\"blueviolet\",\"blueviolet\",\"blueviolet\",\"blueviolet\",\"blueviolet\",\"blueviolet\",\"blueviolet\",\"blueviolet\",\"blueviolet\",\"blueviolet\",\"blueviolet\",\"blueviolet\",\"blueviolet\",\"blueviolet\",\"blueviolet\",\"blueviolet\",\"blueviolet\",\"blueviolet\",\"blueviolet\",\"blueviolet\",\"blueviolet\",\"blueviolet\",\"blueviolet\",\"blueviolet\",\"blueviolet\",\"blueviolet\",\"blueviolet\",\"blueviolet\",\"blueviolet\",\"blueviolet\",\"blueviolet\",\"blueviolet\",\"blueviolet\",\"blueviolet\",\"blueviolet\",\"blueviolet\",\"blueviolet\",\"blueviolet\",\"blueviolet\",\"blueviolet\",\"blueviolet\",\"blueviolet\",\"blueviolet\",\"blueviolet\",\"blueviolet\",\"blueviolet\",\"blueviolet\",\"blueviolet\",\"blueviolet\",\"blueviolet\",\"blueviolet\",\"blueviolet\",\"blueviolet\",\"blueviolet\",\"blueviolet\",\"blueviolet\",\"blueviolet\",\"blueviolet\",\"blueviolet\",\"blueviolet\",\"blueviolet\",\"blueviolet\",\"blueviolet\",\"blueviolet\",\"blueviolet\",\"blueviolet\",\"blueviolet\",\"blueviolet\",\"blueviolet\",\"blueviolet\",\"blueviolet\",\"blueviolet\",\"blueviolet\",\"blueviolet\",\"blueviolet\",\"blueviolet\",\"blueviolet\",\"blueviolet\",\"blueviolet\",\"blueviolet\",\"blueviolet\",\"blueviolet\",\"blueviolet\",\"blueviolet\",\"blueviolet\",\"blueviolet\",\"blueviolet\",\"blueviolet\",\"blueviolet\",\"blueviolet\",\"blueviolet\",\"blueviolet\",\"blueviolet\",\"blueviolet\",\"blueviolet\",\"blueviolet\",\"blueviolet\",\"blueviolet\",\"blueviolet\",\"blueviolet\",\"blueviolet\",\"blueviolet\",\"blueviolet\",\"blueviolet\",\"blueviolet\",\"blueviolet\",\"blueviolet\",\"blueviolet\",\"blueviolet\",\"blueviolet\",\"blueviolet\",\"blueviolet\",\"blueviolet\",\"blueviolet\",\"blueviolet\",\"blueviolet\",\"blueviolet\",\"blueviolet\",\"blueviolet\",\"blueviolet\",\"blueviolet\",\"blueviolet\",\"blueviolet\",\"blueviolet\",\"blueviolet\",\"blueviolet\",\"blueviolet\",\"blueviolet\",\"blueviolet\",\"blueviolet\",\"blueviolet\",\"blueviolet\",\"blueviolet\",\"blueviolet\",\"blueviolet\",\"blueviolet\",\"blueviolet\",\"blueviolet\",\"blueviolet\",\"blueviolet\",\"blueviolet\",\"blueviolet\",\"blueviolet\",\"blueviolet\",\"blueviolet\",\"blueviolet\",\"blueviolet\",\"blueviolet\",\"blueviolet\",\"blueviolet\",\"blueviolet\",\"blueviolet\",\"blueviolet\",\"blueviolet\",\"blueviolet\",\"blueviolet\",\"blueviolet\",\"blueviolet\",\"blueviolet\",\"blueviolet\",\"blueviolet\",\"blueviolet\",\"blueviolet\",\"blueviolet\",\"blueviolet\",\"blueviolet\",\"blueviolet\",\"blueviolet\",\"blueviolet\",\"blueviolet\",\"blueviolet\",\"blueviolet\",\"blueviolet\",\"blueviolet\",\"blueviolet\",\"blueviolet\",\"blueviolet\",\"blueviolet\",\"blueviolet\",\"blueviolet\",\"blueviolet\",\"blueviolet\",\"blueviolet\",\"blueviolet\",\"blueviolet\",\"blueviolet\",\"blueviolet\",\"blueviolet\",\"blueviolet\",\"blueviolet\",\"blueviolet\",\"blueviolet\",\"blueviolet\",\"blueviolet\",\"blueviolet\",\"blueviolet\",\"blueviolet\",\"blueviolet\",\"blueviolet\",\"blueviolet\",\"blueviolet\",\"blueviolet\",\"blueviolet\",\"blueviolet\",\"blueviolet\",\"blueviolet\",\"blueviolet\",\"blueviolet\",\"blueviolet\",\"blueviolet\",\"blueviolet\",\"blueviolet\",\"blueviolet\",\"blueviolet\",\"blueviolet\",\"blueviolet\",\"blueviolet\",\"blueviolet\",\"blueviolet\",\"blueviolet\",\"blueviolet\",\"blueviolet\",\"blueviolet\",\"blueviolet\",\"blueviolet\",\"blueviolet\",\"blueviolet\",\"blueviolet\",\"blueviolet\",\"blueviolet\",\"blueviolet\",\"blueviolet\",\"blueviolet\",\"blueviolet\",\"blueviolet\",\"blueviolet\",\"blueviolet\",\"blueviolet\",\"blueviolet\",\"blueviolet\",\"blueviolet\",\"blueviolet\",\"blueviolet\",\"blueviolet\",\"blueviolet\",\"blueviolet\",\"blueviolet\",\"blueviolet\",\"blueviolet\",\"blueviolet\",\"blueviolet\",\"blueviolet\",\"blueviolet\",\"blueviolet\",\"blueviolet\",\"blueviolet\",\"blueviolet\",\"blueviolet\",\"blueviolet\",\"blueviolet\",\"blueviolet\",\"blueviolet\",\"blueviolet\",\"blueviolet\",\"blueviolet\",\"blueviolet\",\"blueviolet\",\"blueviolet\",\"blueviolet\",\"blueviolet\",\"blueviolet\",\"blueviolet\",\"blueviolet\",\"blueviolet\",\"blueviolet\",\"blueviolet\",\"blueviolet\",\"blueviolet\",\"blueviolet\",\"blueviolet\",\"blueviolet\",\"blueviolet\",\"blueviolet\",\"blueviolet\",\"blueviolet\",\"blueviolet\",\"blueviolet\",\"blueviolet\",\"blueviolet\",\"blueviolet\",\"blueviolet\",\"blueviolet\",\"blueviolet\",\"blueviolet\",\"blueviolet\",\"blueviolet\",\"blueviolet\",\"blueviolet\",\"blueviolet\",\"blueviolet\",\"blueviolet\",\"blueviolet\",\"blueviolet\",\"blueviolet\",\"blueviolet\",\"blueviolet\",\"blueviolet\",\"blueviolet\",\"blueviolet\",\"blueviolet\",\"blueviolet\",\"blueviolet\",\"blueviolet\",\"blueviolet\",\"blueviolet\",\"blueviolet\",\"blueviolet\",\"blueviolet\",\"blueviolet\",\"blueviolet\",\"blueviolet\",\"blueviolet\",\"blueviolet\",\"blueviolet\",\"blueviolet\",\"blueviolet\",\"blueviolet\",\"blueviolet\",\"blueviolet\",\"blueviolet\",\"blueviolet\",\"blueviolet\",\"blueviolet\",\"blueviolet\",\"blueviolet\",\"blueviolet\",\"blueviolet\",\"blueviolet\",\"blueviolet\",\"blueviolet\",\"blueviolet\",\"blueviolet\",\"blueviolet\",\"blueviolet\",\"blueviolet\",\"blueviolet\",\"blueviolet\",\"blueviolet\",\"blueviolet\",\"blueviolet\",\"blueviolet\",\"blueviolet\",\"blueviolet\",\"blueviolet\",\"blueviolet\",\"blueviolet\",\"blueviolet\",\"blueviolet\",\"blueviolet\",\"blueviolet\",\"blueviolet\",\"blueviolet\",\"blueviolet\",\"blueviolet\",\"blueviolet\",\"blueviolet\",\"blueviolet\",\"blueviolet\",\"blueviolet\",\"blueviolet\",\"blueviolet\",\"blueviolet\",\"blueviolet\",\"blueviolet\",\"blueviolet\",\"blueviolet\",\"blueviolet\",\"blueviolet\",\"blueviolet\",\"blueviolet\",\"blueviolet\",\"blueviolet\",\"blueviolet\",\"blueviolet\",\"blueviolet\",\"blueviolet\",\"blueviolet\",\"blueviolet\",\"blueviolet\",\"blueviolet\",\"blueviolet\",\"blueviolet\",\"blueviolet\",\"blueviolet\",\"blueviolet\",\"blueviolet\",\"blueviolet\",\"blueviolet\",\"blueviolet\",\"blueviolet\",\"blueviolet\",\"blueviolet\",\"blueviolet\",\"blueviolet\",\"blueviolet\",\"blueviolet\",\"blueviolet\",\"blueviolet\",\"blueviolet\",\"blueviolet\",\"blueviolet\",\"blueviolet\",\"blueviolet\",\"blueviolet\",\"blueviolet\",\"blueviolet\",\"blueviolet\",\"blueviolet\",\"blueviolet\",\"blueviolet\",\"blueviolet\",\"blueviolet\",\"blueviolet\",\"blueviolet\",\"blueviolet\",\"blueviolet\",\"blueviolet\",\"blueviolet\",\"blueviolet\",\"blueviolet\",\"blueviolet\",\"blueviolet\",\"blueviolet\",\"blueviolet\",\"blueviolet\",\"blueviolet\",\"blueviolet\",\"blueviolet\",\"blueviolet\",\"blueviolet\",\"blueviolet\",\"blueviolet\",\"blueviolet\",\"blueviolet\",\"blueviolet\",\"blueviolet\",\"blueviolet\",\"blueviolet\",\"blueviolet\",\"blueviolet\",\"blueviolet\",\"blueviolet\",\"blueviolet\",\"blueviolet\",\"blueviolet\",\"blueviolet\",\"blueviolet\",\"blueviolet\",\"blueviolet\",\"blueviolet\",\"blueviolet\",\"blueviolet\",\"blueviolet\",\"blueviolet\",\"blueviolet\",\"blueviolet\",\"blueviolet\",\"blueviolet\",\"blueviolet\",\"blueviolet\",\"blueviolet\",\"blueviolet\",\"blueviolet\",\"blueviolet\",\"blueviolet\",\"blueviolet\",\"blueviolet\",\"blueviolet\",\"blueviolet\",\"blueviolet\",\"blueviolet\",\"blueviolet\",\"blueviolet\",\"blueviolet\",\"blueviolet\",\"blueviolet\",\"blueviolet\",\"blueviolet\",\"blueviolet\",\"blueviolet\",\"blueviolet\",\"blueviolet\",\"blueviolet\",\"blueviolet\",\"blueviolet\",\"blueviolet\",\"blueviolet\",\"blueviolet\",\"blueviolet\",\"blueviolet\",\"blueviolet\",\"blueviolet\",\"blueviolet\",\"blueviolet\",\"blueviolet\",\"blueviolet\",\"blueviolet\",\"blueviolet\",\"blueviolet\",\"blueviolet\",\"blueviolet\",\"blueviolet\",\"blueviolet\",\"blueviolet\",\"blueviolet\",\"blueviolet\",\"blueviolet\",\"blueviolet\",\"blueviolet\",\"blueviolet\",\"blueviolet\",\"blueviolet\",\"blueviolet\",\"blueviolet\",\"blueviolet\",\"blueviolet\",\"blueviolet\",\"blueviolet\",\"blueviolet\",\"blueviolet\",\"blueviolet\",\"blueviolet\",\"blueviolet\",\"blueviolet\",\"blueviolet\",\"blueviolet\",\"blueviolet\",\"blueviolet\",\"blueviolet\",\"blueviolet\",\"blueviolet\",\"blueviolet\",\"blueviolet\",\"blueviolet\",\"blueviolet\",\"blueviolet\",\"blueviolet\",\"blueviolet\",\"blueviolet\",\"blueviolet\",\"blueviolet\",\"blueviolet\",\"blueviolet\",\"blueviolet\",\"blueviolet\",\"blueviolet\",\"blueviolet\",\"blueviolet\",\"blueviolet\",\"blueviolet\",\"blueviolet\",\"blueviolet\",\"blueviolet\",\"blueviolet\",\"blueviolet\",\"blueviolet\",\"blueviolet\",\"blueviolet\",\"blueviolet\",\"blueviolet\",\"blueviolet\",\"blueviolet\",\"blueviolet\",\"blueviolet\",\"blueviolet\",\"blueviolet\",\"blueviolet\",\"blueviolet\",\"blueviolet\",\"blueviolet\",\"blueviolet\",\"blueviolet\",\"blueviolet\",\"blueviolet\",\"blueviolet\",\"blueviolet\",\"blueviolet\",\"blueviolet\",\"blueviolet\",\"blueviolet\",\"blueviolet\",\"blueviolet\",\"blueviolet\",\"blueviolet\",\"blueviolet\",\"blueviolet\",\"blueviolet\",\"blueviolet\",\"blueviolet\",\"blueviolet\",\"blueviolet\",\"blueviolet\",\"blueviolet\",\"blueviolet\",\"blueviolet\",\"blueviolet\",\"blueviolet\",\"blueviolet\",\"blueviolet\",\"blueviolet\",\"blueviolet\",\"blueviolet\",\"blueviolet\",\"blueviolet\",\"blueviolet\",\"blueviolet\",\"blueviolet\",\"blueviolet\",\"blueviolet\",\"blueviolet\",\"blueviolet\",\"blueviolet\",\"blueviolet\",\"blueviolet\",\"blueviolet\",\"blueviolet\",\"blueviolet\",\"blueviolet\",\"blueviolet\",\"blueviolet\",\"blueviolet\",\"blueviolet\",\"blueviolet\",\"blueviolet\",\"blueviolet\",\"blueviolet\",\"blueviolet\",\"blueviolet\",\"blueviolet\",\"blueviolet\",\"blueviolet\",\"blueviolet\",\"blueviolet\",\"blueviolet\",\"blueviolet\",\"blueviolet\",\"blueviolet\",\"blueviolet\",\"blueviolet\",\"blueviolet\",\"blueviolet\",\"blueviolet\",\"blueviolet\",\"blueviolet\",\"blueviolet\",\"blueviolet\",\"blueviolet\",\"blueviolet\",\"blueviolet\",\"blueviolet\",\"blueviolet\",\"blueviolet\",\"blueviolet\",\"blueviolet\",\"blueviolet\",\"blueviolet\",\"blueviolet\",\"blueviolet\",\"blueviolet\",\"blueviolet\",\"blueviolet\",\"blueviolet\",\"blueviolet\",\"blueviolet\",\"blueviolet\",\"blueviolet\",\"blueviolet\",\"blueviolet\",\"blueviolet\",\"blueviolet\",\"blueviolet\",\"blueviolet\",\"blueviolet\",\"blueviolet\",\"blueviolet\",\"blueviolet\",\"blueviolet\",\"blueviolet\",\"blueviolet\",\"blueviolet\",\"blueviolet\",\"blueviolet\",\"blueviolet\",\"blueviolet\",\"blueviolet\",\"blueviolet\",\"blueviolet\",\"blueviolet\",\"blueviolet\",\"blueviolet\",\"blueviolet\",\"blueviolet\",\"blueviolet\",\"blueviolet\",\"blueviolet\",\"blueviolet\",\"blueviolet\",\"blueviolet\",\"blueviolet\",\"blueviolet\",\"blueviolet\",\"blueviolet\",\"blueviolet\",\"blueviolet\",\"blueviolet\",\"blueviolet\",\"blueviolet\",\"blueviolet\",\"blueviolet\",\"blueviolet\",\"blueviolet\",\"blueviolet\",\"blueviolet\",\"blueviolet\",\"blueviolet\",\"blueviolet\",\"blueviolet\",\"blueviolet\",\"blueviolet\",\"blueviolet\",\"blueviolet\",\"blueviolet\",\"blueviolet\",\"blueviolet\",\"blueviolet\",\"blueviolet\",\"blueviolet\",\"blueviolet\",\"blueviolet\",\"blueviolet\",\"blueviolet\",\"blueviolet\",\"blueviolet\",\"blueviolet\",\"blueviolet\",\"blueviolet\",\"blueviolet\",\"blueviolet\",\"blueviolet\",\"blueviolet\",\"blueviolet\",\"blueviolet\",\"blueviolet\",\"blueviolet\",\"blueviolet\",\"blueviolet\",\"blueviolet\",\"blueviolet\",\"blueviolet\",\"blueviolet\",\"blueviolet\",\"blueviolet\",\"blueviolet\",\"blueviolet\",\"blueviolet\",\"blueviolet\",\"blueviolet\",\"blueviolet\",\"blueviolet\",\"blueviolet\",\"blueviolet\",\"blueviolet\",\"blueviolet\",\"blueviolet\",\"blueviolet\",\"blueviolet\",\"blueviolet\",\"blueviolet\",\"blueviolet\",\"blueviolet\",\"blueviolet\",\"blueviolet\",\"blueviolet\",\"blueviolet\",\"blueviolet\",\"blueviolet\",\"blueviolet\",\"blueviolet\",\"blueviolet\",\"blueviolet\",\"blueviolet\",\"blueviolet\",\"blueviolet\",\"blueviolet\",\"blueviolet\",\"blueviolet\",\"blueviolet\",\"blueviolet\",\"blueviolet\",\"blueviolet\",\"blueviolet\",\"blueviolet\",\"blueviolet\",\"blueviolet\",\"blueviolet\",\"blueviolet\",\"blueviolet\",\"blueviolet\",\"blueviolet\",\"blueviolet\",\"blueviolet\",\"blueviolet\",\"blueviolet\",\"blueviolet\",\"blueviolet\",\"blueviolet\",\"blueviolet\",\"blueviolet\",\"blueviolet\",\"blueviolet\",\"blueviolet\",\"blueviolet\",\"blueviolet\",\"blueviolet\",\"blueviolet\",\"blueviolet\",\"blueviolet\",\"blueviolet\",\"blueviolet\",\"blueviolet\",\"blueviolet\",\"blueviolet\",\"blueviolet\",\"blueviolet\",\"blueviolet\",\"blueviolet\",\"blueviolet\",\"blueviolet\",\"blueviolet\",\"blueviolet\",\"blueviolet\",\"blueviolet\",\"blueviolet\",\"blueviolet\",\"blueviolet\",\"blueviolet\",\"blueviolet\",\"blueviolet\",\"blueviolet\",\"blueviolet\",\"blueviolet\",\"blueviolet\",\"blueviolet\",\"blueviolet\",\"blueviolet\",\"blueviolet\",\"blueviolet\",\"blueviolet\",\"blueviolet\",\"blueviolet\",\"blueviolet\",\"blueviolet\",\"blueviolet\",\"blueviolet\",\"blueviolet\",\"blueviolet\",\"blueviolet\",\"blueviolet\",\"blueviolet\",\"blueviolet\",\"blueviolet\",\"blueviolet\",\"blueviolet\",\"blueviolet\",\"blueviolet\",\"blueviolet\",\"blueviolet\",\"blueviolet\",\"blueviolet\",\"blueviolet\",\"blueviolet\"],\"token\":[\"p\",\"code\",\"gt\",\"lt\",\"pre\",\"android\",\"string\",\"class\",\"com\",\"java\",\"file\",\"name\",\"error\",\"value\",\"data\",\"using\",\"id\",\"return\",\"function\",\"c\",\"like\",\"want\",\"user\",\"public\",\"python\",\"array\",\"type\",\"text\",\"strong\",\"li\",\"div\",\"list\",\"x\",\"href\",\"html\",\"j\",\"number\",\"import\",\"image\",\"input\",\"void\",\"int\",\"need\",\"work\",\"object\",\"help\",\"line\",\"would\",\"javascript\",\"true\",\"button\",\"print\",\"system\",\"app\",\"time\",\"n\",\"test\",\"php\",\"table\",\"stack\",\"method\",\"h\",\"rel\",\"view\",\"r\",\"result\",\"example\",\"main\",\"org\",\"null\",\"trying\",\"amp\",\"noreferrer\",\"false\",\"e\",\"imgur\",\"else\",\"know\",\"date\",\"png\",\"create\",\"form\",\"please\",\"b\",\"make\",\"server\",\"item\",\"node\",\"find\",\"get\",\"layout\",\"json\",\"following\",\"project\",\"problem\",\"first\",\"output\",\"version\",\"script\",\"content\",\"enter\",\"size\",\"tried\",\"application\",\"column\",\"variable\",\"question\",\"module\",\"private\",\"console\",\"src\",\"google\",\"thanks\",\"page\",\"build\",\"row\",\"select\",\"show\",\"option\",\"react\",\"net\",\"self\",\"change\",\"post\",\"width\",\"database\",\"message\",\"v\",\"index\",\"case\",\"request\",\"working\",\"static\",\"window\",\"query\",\"include\",\"component\",\"element\",\"start\",\"program\",\"td\",\"color\",\"br\",\"log\",\"service\",\"also\",\"call\",\"angular\",\"new\",\"something\",\"io\",\"could\",\"style\",\"key\",\"loop\",\"em\",\"package\",\"path\",\"length\",\"command\",\"height\",\"default\",\"title\",\"add\",\"model\",\"blockquote\",\"img\",\"read\",\"core\",\"password\",\"char\",\"lang\",\"found\",\"getting\",\"px\",\"description\",\"cs\",\"check\",\"write\",\"email\",\"right\",\"studio\",\"count\",\"url\",\"println\",\"word\",\"f\",\"sql\",\"std\",\"display\",\"link\",\"click\",\"label\",\"const\",\"echo\",\"mysql\",\"document\",\"used\",\"state\",\"open\",\"cout\",\"api\",\"different\",\"field\",\"without\",\"jquery\",\"run\",\"library\",\"another\",\"lib\",\"second\",\"response\",\"event\",\"access\",\"issue\",\"possible\",\"double\",\"update\",\"however\",\"support\",\"context\",\"cannot\",\"integer\",\"client\",\"format\",\"var\",\"docker\",\"github\",\"set\",\"running\",\"match\",\"convert\",\"look\",\"ul\",\"answer\",\"header\",\"property\",\"next\",\"span\",\"map\",\"parent\",\"www\",\"swift\",\"wrong\",\"info\",\"exception\",\"py\",\"point\",\"body\",\"activity\",\"simple\",\"solution\",\"printf\",\"anyone\",\"g\",\"last\",\"container\",\"spring\",\"left\",\"source\",\"give\",\"task\",\"order\",\"install\",\"search\",\"action\",\"background\",\"gradle\",\"username\",\"parameter\",\"able\",\"idea\",\"alt\",\"native\",\"group\",\"load\",\"local\",\"position\",\"multiple\",\"created\",\"understand\",\"internal\",\"web\",\"inside\",\"location\",\"character\",\"current\",\"product\",\"statement\",\"login\",\"random\",\"insert\",\"doc\",\"store\",\"even\",\"str\",\"remove\",\"apache\",\"child\",\"snippet\",\"font\",\"col\",\"break\",\"l\",\"dependency\",\"u\",\"status\",\"template\",\"failed\",\"none\",\"part\",\"mean\",\"home\",\"long\",\"reference\",\"range\",\"visual\",\"num\",\"thank\",\"process\",\"nofollow\",\"thing\",\"config\",\"still\",\"folder\",\"every\",\"regex\",\"final\",\"take\",\"w\",\"seems\",\"asp\",\"db\",\"address\",\"intent\",\"jpg\",\"instance\",\"root\",\"tr\",\"one\",\"directory\",\"firebase\",\"step\",\"compile\",\"instead\",\"many\",\"sure\",\"end\",\"execute\",\"connection\",\"pas\",\"ruby\",\"fine\",\"txt\",\"someone\",\"total\",\"float\",\"thread\",\"k\",\"advance\",\"language\",\"close\",\"delete\",\"website\",\"setting\",\"site\",\"args\",\"already\",\"send\",\"tostring\",\"correct\",\"hello\",\"difference\",\"token\",\"tool\",\"control\",\"endl\",\"menu\",\"replace\",\"target\",\"widget\",\"textview\",\"cell\",\"vector\",\"back\",\"export\",\"based\",\"o\",\"connect\",\"called\",\"single\",\"base\",\"given\",\"temp\",\"information\",\"save\",\"head\",\"required\",\"specific\",\"custom\",\"framework\",\"frame\",\"release\",\"session\",\"price\",\"split\",\"contains\",\"func\",\"init\",\"screen\",\"wrap\",\"arraylist\",\"device\",\"tag\",\"center\",\"must\",\"day\",\"done\",\"filter\",\"year\",\"xcode\",\"really\",\"typescript\",\"empty\",\"bundle\",\"util\",\"best\",\"z\",\"linux\",\"xml\",\"argument\",\"findviewbyid\",\"debug\",\"catch\",\"push\",\"max\",\"struct\",\"plugin\",\"constructor\",\"resource\",\"override\",\"foo\",\"warning\",\"extends\",\"syntax\",\"jar\",\"icon\",\"expected\",\"block\",\"re\",\"implement\",\"err\",\"pointer\",\"microsoft\",\"etc\",\"append\",\"bootstrap\",\"browser\",\"btn\",\"super\",\"copy\",\"boolean\",\"activitythread\",\"creating\",\"since\",\"appreciated\",\"memory\",\"auto\",\"require\",\"keep\",\"figure\",\"currently\",\"well\",\"excel\",\"think\",\"val\",\"entry\",\"usr\",\"th\",\"controller\",\"let\",\"always\",\"configuration\",\"looking\",\"mysqli\",\"prop\",\"month\",\"min\",\"operator\",\"developer\",\"account\",\"missing\",\"sort\",\"webpack\",\"much\",\"level\",\"record\",\"player\",\"interface\",\"submit\",\"way\",\"game\",\"student\",\"good\",\"hide\",\"space\",\"join\",\"t\",\"detail\",\"video\",\"throw\",\"ol\",\"boot\",\"tell\",\"attribute\",\"laravel\",\"host\",\"category\",\"seem\",\"top\",\"flutter\",\"go\",\"chrome\",\"springframework\",\"equal\",\"django\",\"math\",\"onclick\",\"border\",\"note\",\"sample\",\"datetime\",\"parse\",\"fetch\",\"expression\",\"installed\",\"arr\",\"route\",\"dp\",\"say\",\"within\",\"alert\",\"permission\",\"anything\",\"added\",\"extension\",\"localhost\",\"nbsp\",\"df\",\"dictionary\",\"byte\",\"panda\",\"fragment\",\"place\",\"reason\",\"letter\",\"margin\",\"feature\",\"environment\",\"filename\",\"exit\",\"ajax\",\"schema\",\"router\",\"invalid\",\"solve\",\"dataframe\",\"defined\",\"switch\",\"define\",\"sum\",\"nothing\",\"scanner\",\"kotlin\",\"move\",\"score\",\"port\",\"bin\",\"use\",\"everything\",\"handler\",\"implementation\",\"phone\",\"structure\",\"testing\",\"begin\",\"play\",\"documentation\",\"section\",\"en\",\"handle\",\"better\",\"undefined\",\"stackoverflow\",\"render\",\"git\",\"machine\",\"cache\",\"condition\",\"stream\",\"unable\",\"learning\",\"q\",\"amount\",\"valid\",\"grid\",\"resolve\",\"basic\",\"side\",\"explain\",\"book\",\"collection\",\"foreach\",\"namespace\",\"come\",\"common\",\"admin\",\"person\",\"compiler\",\"rest\",\"similar\",\"pattern\",\"tensorflow\",\"hour\",\"amazon\",\"oncreate\",\"sheet\",\"available\",\"mode\",\"master\",\"bool\",\"started\",\"going\",\"card\",\"bar\",\"cloud\",\"three\",\"adding\",\"made\",\"padding\",\"scope\",\"put\",\"protected\",\"setup\",\"getelementbyid\",\"spark\",\"contact\",\"reactjs\",\"selected\",\"success\",\"utf\",\"edit\",\"invoke\",\"operation\",\"member\",\"npm\",\"network\",\"counter\",\"active\",\"csv\",\"bottom\",\"box\",\"download\",\"generate\",\"stop\",\"security\",\"apply\",\"full\",\"align\",\"global\",\"vue\",\"dev\",\"auth\",\"us\",\"babel\",\"achieve\",\"either\",\"entity\",\"toast\",\"comment\",\"facebook\",\"generated\",\"unit\",\"rb\",\"repository\",\"writeline\",\"design\",\"lambda\",\"making\",\"clear\",\"programming\",\"execution\",\"tutorial\",\"white\",\"around\",\"savedinstancestate\",\"platform\",\"async\",\"ubuntu\",\"customer\",\"matrix\",\"actually\",\"loader\",\"notification\",\"employee\",\"symbol\",\"edittext\",\"exist\",\"azure\",\"apps\",\"tree\",\"gem\",\"algorithm\",\"settext\",\"batch\",\"upload\",\"bash\",\"weight\",\"prettyprint\",\"mobile\",\"age\",\"checked\",\"textbox\",\"scala\",\"latest\",\"asset\",\"maven\",\"fill\",\"len\",\"showing\",\"domain\",\"rail\",\"hash\",\"curl\",\"md\",\"non\",\"numpy\",\"area\",\"allow\",\"sqlite\",\"obj\",\"cpp\",\"builder\",\"conn\",\"groupid\",\"profile\",\"listview\",\"selenium\",\"hidden\",\"reading\",\"flag\",\"exists\",\"varchar\",\"correctly\",\"driver\",\"kind\",\"standard\",\"artifactid\",\"development\",\"writing\",\"unique\",\"country\",\"dynamic\",\"starting\",\"tab\",\"zero\",\"register\",\"try\",\"city\",\"ui\",\"binary\",\"role\",\"theme\",\"duplicate\",\"article\",\"changed\",\"cli\",\"gettext\",\"written\",\"checkbox\",\"wondering\",\"runtime\",\"building\",\"sender\",\"dont\",\"xmlns\",\"plot\",\"apple\",\"learn\",\"np\",\"branch\",\"rule\",\"approach\",\"digit\",\"primary\",\"mainactivity\",\"maybe\",\"placeholder\",\"recyclerview\",\"material\",\"extract\",\"normal\",\"navigation\",\"real\",\"choice\",\"validation\",\"loading\",\"cursor\",\"unknown\",\"reflect\",\"provider\",\"contain\",\"ng\",\"train\",\"bean\",\"stored\",\"params\",\"storage\",\"tmp\",\"win\",\"calling\",\"aws\",\"picture\",\"named\",\"graph\",\"world\",\"drawable\",\"env\",\"thought\",\"desktop\",\"mm\",\"small\",\"shared\",\"meta\",\"updated\",\"shape\",\"bit\",\"short\",\"tf\",\"might\",\"bind\",\"callback\",\"nested\",\"calculate\",\"automatically\",\"jenkins\",\"oracle\",\"whole\",\"previous\",\"course\",\"compare\",\"provide\",\"yes\",\"buffer\",\"sizeof\",\"layer\",\"certain\",\"suggestion\",\"apk\",\"cant\",\"param\",\"job\",\"red\",\"computer\",\"imageview\",\"zygoteinit\",\"though\",\"dialog\",\"dir\",\"exactly\",\"complete\",\"people\",\"virtual\",\"black\",\"getstring\",\"con\",\"authentication\",\"nav\",\"successfully\",\"properly\",\"generic\",\"shell\",\"remote\",\"logging\",\"socket\",\"promise\",\"dict\",\"company\",\"external\",\"cmd\",\"editor\",\"basically\",\"original\",\"channel\",\"decimal\",\"m\",\"abc\",\"ctx\",\"dd\",\"performance\",\"limit\",\"fa\",\"transform\",\"engine\",\"layoutinflater\",\"whether\",\"report\",\"encoding\",\"crash\",\"constraint\",\"blue\",\"merge\",\"annotation\",\"adapter\",\"medium\",\"present\",\"elif\",\"dist\",\"wordpress\",\"share\",\"mark\",\"redirect\",\"sub\",\"assign\",\"minute\",\"related\",\"sequence\",\"cl\",\"queue\",\"redux\",\"cause\",\"simply\",\"several\",\"exe\",\"msg\",\"definition\",\"javax\",\"drop\",\"await\",\"wanted\",\"firstname\",\"two\",\"disable\",\"separate\",\"never\",\"sign\",\"enable\",\"free\",\"guess\",\"mvc\",\"ch\",\"large\",\"binding\",\"stuff\",\"follows\",\"attempt\",\"expect\",\"scanf\",\"online\",\"eclipse\",\"modal\",\"guide\",\"shown\",\"loaded\",\"draw\",\"express\",\"average\",\"circle\",\"ptr\",\"except\",\"timestamp\",\"easy\",\"exec\",\"behavior\",\"logic\",\"lastname\",\"term\",\"dataset\",\"mail\",\"changing\",\"sdk\",\"calendar\",\"selector\",\"turn\",\"ok\",\"constant\",\"little\",\"visible\",\"particular\",\"worked\",\"le\",\"proxy\",\"existing\",\"iostream\",\"subject\",\"worker\",\"blob\",\"requirement\",\"enabled\",\"seen\"],\"x\":{\"__ndarray__\":\"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\",\"dtype\":\"float32\",\"order\":\"little\",\"shape\":[1000]},\"y\":{\"__ndarray__\":\"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\",\"dtype\":\"float32\",\"order\":\"little\",\"shape\":[1000]}},\"selected\":{\"id\":\"1419\"},\"selection_policy\":{\"id\":\"1418\"}},\"id\":\"1346\",\"type\":\"ColumnDataSource\"},{\"attributes\":{\"callback\":null,\"tooltips\":[[\"token\",\"@token\"]]},\"id\":\"1383\",\"type\":\"HoverTool\"},{\"attributes\":{\"active_drag\":\"auto\",\"active_inspect\":\"auto\",\"active_multi\":null,\"active_scroll\":{\"id\":\"1365\"},\"active_tap\":\"auto\",\"tools\":[{\"id\":\"1364\"},{\"id\":\"1365\"},{\"id\":\"1366\"},{\"id\":\"1367\"},{\"id\":\"1368\"},{\"id\":\"1369\"},{\"id\":\"1383\"}]},\"id\":\"1371\",\"type\":\"Toolbar\"},{\"attributes\":{},\"id\":\"1354\",\"type\":\"LinearScale\"},{\"attributes\":{\"text\":\"\"},\"id\":\"1412\",\"type\":\"Title\"},{\"attributes\":{},\"id\":\"1367\",\"type\":\"SaveTool\"},{\"attributes\":{},\"id\":\"1414\",\"type\":\"BasicTickFormatter\"},{\"attributes\":{},\"id\":\"1419\",\"type\":\"Selection\"},{\"attributes\":{},\"id\":\"1416\",\"type\":\"BasicTickFormatter\"},{\"attributes\":{\"formatter\":{\"id\":\"1414\"},\"ticker\":{\"id\":\"1361\"}},\"id\":\"1360\",\"type\":\"LinearAxis\"},{\"attributes\":{},\"id\":\"1357\",\"type\":\"BasicTicker\"},{\"attributes\":{},\"id\":\"1365\",\"type\":\"WheelZoomTool\"},{\"attributes\":{\"formatter\":{\"id\":\"1416\"},\"ticker\":{\"id\":\"1357\"}},\"id\":\"1356\",\"type\":\"LinearAxis\"},{\"attributes\":{},\"id\":\"1368\",\"type\":\"ResetTool\"},{\"attributes\":{\"axis\":{\"id\":\"1356\"},\"ticker\":null},\"id\":\"1359\",\"type\":\"Grid\"},{\"attributes\":{\"axis\":{\"id\":\"1360\"},\"dimension\":1,\"ticker\":null},\"id\":\"1363\",\"type\":\"Grid\"},{\"attributes\":{},\"id\":\"1364\",\"type\":\"PanTool\"},{\"attributes\":{},\"id\":\"1352\",\"type\":\"LinearScale\"},{\"attributes\":{\"fill_alpha\":{\"value\":0.25},\"fill_color\":{\"field\":\"color\"},\"line_alpha\":{\"value\":0.25},\"line_color\":{\"field\":\"color\"},\"size\":{\"units\":\"screen\",\"value\":10},\"x\":{\"field\":\"x\"},\"y\":{\"field\":\"y\"}},\"id\":\"1379\",\"type\":\"Scatter\"},{\"attributes\":{},\"id\":\"1350\",\"type\":\"DataRange1d\"},{\"attributes\":{},\"id\":\"1348\",\"type\":\"DataRange1d\"},{\"attributes\":{\"overlay\":{\"id\":\"1370\"}},\"id\":\"1366\",\"type\":\"BoxZoomTool\"},{\"attributes\":{},\"id\":\"1418\",\"type\":\"UnionRenderers\"},{\"attributes\":{\"source\":{\"id\":\"1346\"}},\"id\":\"1382\",\"type\":\"CDSView\"},{\"attributes\":{},\"id\":\"1369\",\"type\":\"HelpTool\"},{\"attributes\":{},\"id\":\"1361\",\"type\":\"BasicTicker\"},{\"attributes\":{\"bottom_units\":\"screen\",\"fill_alpha\":0.5,\"fill_color\":\"lightgrey\",\"left_units\":\"screen\",\"level\":\"overlay\",\"line_alpha\":1.0,\"line_color\":\"black\",\"line_dash\":[4,4],\"line_width\":2,\"right_units\":\"screen\",\"top_units\":\"screen\"},\"id\":\"1370\",\"type\":\"BoxAnnotation\"},{\"attributes\":{\"fill_alpha\":{\"value\":0.1},\"fill_color\":{\"field\":\"color\"},\"line_alpha\":{\"value\":0.1},\"line_color\":{\"field\":\"color\"},\"size\":{\"units\":\"screen\",\"value\":10},\"x\":{\"field\":\"x\"},\"y\":{\"field\":\"y\"}},\"id\":\"1380\",\"type\":\"Scatter\"},{\"attributes\":{\"data_source\":{\"id\":\"1346\"},\"glyph\":{\"id\":\"1379\"},\"hover_glyph\":null,\"muted_glyph\":null,\"nonselection_glyph\":{\"id\":\"1380\"},\"selection_glyph\":null,\"view\":{\"id\":\"1382\"}},\"id\":\"1381\",\"type\":\"GlyphRenderer\"}],\"root_ids\":[\"1347\"]},\"title\":\"Bokeh Application\",\"version\":\"2.1.1\"}};\n",
              "  var render_items = [{\"docid\":\"7fbd2ea5-8965-49b6-a61b-4ba745057088\",\"root_ids\":[\"1347\"],\"roots\":{\"1347\":\"17c73744-fe7d-4b42-b789-a5d8d3cde07d\"}}];\n",
              "  root.Bokeh.embed.embed_items_notebook(docs_json, render_items);\n",
              "\n",
              "  }\n",
              "  if (root.Bokeh !== undefined) {\n",
              "    embed_document(root);\n",
              "  } else {\n",
              "    var attempts = 0;\n",
              "    var timer = setInterval(function(root) {\n",
              "      if (root.Bokeh !== undefined) {\n",
              "        clearInterval(timer);\n",
              "        embed_document(root);\n",
              "      } else {\n",
              "        attempts++;\n",
              "        if (attempts > 100) {\n",
              "          clearInterval(timer);\n",
              "          console.log(\"Bokeh: ERROR: Unable to run BokehJS code because BokehJS library is missing\");\n",
              "        }\n",
              "      }\n",
              "    }, 10, root)\n",
              "  }\n",
              "})(window);"
            ],
            "application/vnd.bokehjs_exec.v0+json": ""
          },
          "metadata": {
            "tags": [],
            "application/vnd.bokehjs_exec.v0+json": {
              "id": "1347"
            }
          }
        },
        {
          "output_type": "execute_result",
          "data": {
            "text/html": [
              "<div style=\"display: table;\"><div style=\"display: table-row;\"><div style=\"display: table-cell;\"><b title=\"bokeh.plotting.figure.Figure\">Figure</b>(</div><div style=\"display: table-cell;\">id&nbsp;=&nbsp;'1347', <span id=\"1476\" style=\"cursor: pointer;\">&hellip;)</span></div></div><div class=\"1475\" style=\"display: none;\"><div style=\"display: table-cell;\"></div><div style=\"display: table-cell;\">above&nbsp;=&nbsp;[],</div></div><div class=\"1475\" style=\"display: none;\"><div style=\"display: table-cell;\"></div><div style=\"display: table-cell;\">align&nbsp;=&nbsp;'start',</div></div><div class=\"1475\" style=\"display: none;\"><div style=\"display: table-cell;\"></div><div style=\"display: table-cell;\">aspect_ratio&nbsp;=&nbsp;None,</div></div><div class=\"1475\" style=\"display: none;\"><div style=\"display: table-cell;\"></div><div style=\"display: table-cell;\">aspect_scale&nbsp;=&nbsp;1,</div></div><div class=\"1475\" style=\"display: none;\"><div style=\"display: table-cell;\"></div><div style=\"display: table-cell;\">background&nbsp;=&nbsp;None,</div></div><div class=\"1475\" style=\"display: none;\"><div style=\"display: table-cell;\"></div><div style=\"display: table-cell;\">background_fill_alpha&nbsp;=&nbsp;1.0,</div></div><div class=\"1475\" style=\"display: none;\"><div style=\"display: table-cell;\"></div><div style=\"display: table-cell;\">background_fill_color&nbsp;=&nbsp;'#ffffff',</div></div><div class=\"1475\" style=\"display: none;\"><div style=\"display: table-cell;\"></div><div style=\"display: table-cell;\">below&nbsp;=&nbsp;[LinearAxis(id='1356', ...)],</div></div><div class=\"1475\" style=\"display: none;\"><div style=\"display: table-cell;\"></div><div style=\"display: table-cell;\">border_fill_alpha&nbsp;=&nbsp;1.0,</div></div><div class=\"1475\" style=\"display: none;\"><div style=\"display: table-cell;\"></div><div style=\"display: table-cell;\">border_fill_color&nbsp;=&nbsp;'#ffffff',</div></div><div class=\"1475\" style=\"display: none;\"><div style=\"display: table-cell;\"></div><div style=\"display: table-cell;\">center&nbsp;=&nbsp;[Grid(id='1359', ...), Grid(id='1363', ...)],</div></div><div class=\"1475\" style=\"display: none;\"><div style=\"display: table-cell;\"></div><div style=\"display: table-cell;\">css_classes&nbsp;=&nbsp;[],</div></div><div class=\"1475\" style=\"display: none;\"><div style=\"display: table-cell;\"></div><div style=\"display: table-cell;\">disabled&nbsp;=&nbsp;False,</div></div><div class=\"1475\" style=\"display: none;\"><div style=\"display: table-cell;\"></div><div style=\"display: table-cell;\">extra_x_ranges&nbsp;=&nbsp;{},</div></div><div class=\"1475\" style=\"display: none;\"><div style=\"display: table-cell;\"></div><div style=\"display: table-cell;\">extra_y_ranges&nbsp;=&nbsp;{},</div></div><div class=\"1475\" style=\"display: none;\"><div style=\"display: table-cell;\"></div><div style=\"display: table-cell;\">frame_height&nbsp;=&nbsp;None,</div></div><div class=\"1475\" style=\"display: none;\"><div style=\"display: table-cell;\"></div><div style=\"display: table-cell;\">frame_width&nbsp;=&nbsp;None,</div></div><div class=\"1475\" style=\"display: none;\"><div style=\"display: table-cell;\"></div><div style=\"display: table-cell;\">height&nbsp;=&nbsp;None,</div></div><div class=\"1475\" style=\"display: none;\"><div style=\"display: table-cell;\"></div><div style=\"display: table-cell;\">height_policy&nbsp;=&nbsp;'auto',</div></div><div class=\"1475\" style=\"display: none;\"><div style=\"display: table-cell;\"></div><div style=\"display: table-cell;\">hidpi&nbsp;=&nbsp;True,</div></div><div class=\"1475\" style=\"display: none;\"><div style=\"display: table-cell;\"></div><div style=\"display: table-cell;\">js_event_callbacks&nbsp;=&nbsp;{},</div></div><div class=\"1475\" style=\"display: none;\"><div style=\"display: table-cell;\"></div><div style=\"display: table-cell;\">js_property_callbacks&nbsp;=&nbsp;{},</div></div><div class=\"1475\" style=\"display: none;\"><div style=\"display: table-cell;\"></div><div style=\"display: table-cell;\">left&nbsp;=&nbsp;[LinearAxis(id='1360', ...)],</div></div><div class=\"1475\" style=\"display: none;\"><div style=\"display: table-cell;\"></div><div style=\"display: table-cell;\">lod_factor&nbsp;=&nbsp;10,</div></div><div class=\"1475\" style=\"display: none;\"><div style=\"display: table-cell;\"></div><div style=\"display: table-cell;\">lod_interval&nbsp;=&nbsp;300,</div></div><div class=\"1475\" style=\"display: none;\"><div style=\"display: table-cell;\"></div><div style=\"display: table-cell;\">lod_threshold&nbsp;=&nbsp;2000,</div></div><div class=\"1475\" style=\"display: none;\"><div style=\"display: table-cell;\"></div><div style=\"display: table-cell;\">lod_timeout&nbsp;=&nbsp;500,</div></div><div class=\"1475\" style=\"display: none;\"><div style=\"display: table-cell;\"></div><div style=\"display: table-cell;\">margin&nbsp;=&nbsp;(0, 0, 0, 0),</div></div><div class=\"1475\" style=\"display: none;\"><div style=\"display: table-cell;\"></div><div style=\"display: table-cell;\">match_aspect&nbsp;=&nbsp;False,</div></div><div class=\"1475\" style=\"display: none;\"><div style=\"display: table-cell;\"></div><div style=\"display: table-cell;\">max_height&nbsp;=&nbsp;None,</div></div><div class=\"1475\" style=\"display: none;\"><div style=\"display: table-cell;\"></div><div style=\"display: table-cell;\">max_width&nbsp;=&nbsp;None,</div></div><div class=\"1475\" style=\"display: none;\"><div style=\"display: table-cell;\"></div><div style=\"display: table-cell;\">min_border&nbsp;=&nbsp;5,</div></div><div class=\"1475\" style=\"display: none;\"><div style=\"display: table-cell;\"></div><div style=\"display: table-cell;\">min_border_bottom&nbsp;=&nbsp;None,</div></div><div class=\"1475\" style=\"display: none;\"><div style=\"display: table-cell;\"></div><div style=\"display: table-cell;\">min_border_left&nbsp;=&nbsp;None,</div></div><div class=\"1475\" style=\"display: none;\"><div style=\"display: table-cell;\"></div><div style=\"display: table-cell;\">min_border_right&nbsp;=&nbsp;None,</div></div><div class=\"1475\" style=\"display: none;\"><div style=\"display: table-cell;\"></div><div style=\"display: table-cell;\">min_border_top&nbsp;=&nbsp;None,</div></div><div class=\"1475\" style=\"display: none;\"><div style=\"display: table-cell;\"></div><div style=\"display: table-cell;\">min_height&nbsp;=&nbsp;None,</div></div><div class=\"1475\" style=\"display: none;\"><div style=\"display: table-cell;\"></div><div style=\"display: table-cell;\">min_width&nbsp;=&nbsp;None,</div></div><div class=\"1475\" style=\"display: none;\"><div style=\"display: table-cell;\"></div><div style=\"display: table-cell;\">name&nbsp;=&nbsp;None,</div></div><div class=\"1475\" style=\"display: none;\"><div style=\"display: table-cell;\"></div><div style=\"display: table-cell;\">outline_line_alpha&nbsp;=&nbsp;1.0,</div></div><div class=\"1475\" style=\"display: none;\"><div style=\"display: table-cell;\"></div><div style=\"display: table-cell;\">outline_line_cap&nbsp;=&nbsp;'butt',</div></div><div class=\"1475\" style=\"display: none;\"><div style=\"display: table-cell;\"></div><div style=\"display: table-cell;\">outline_line_color&nbsp;=&nbsp;'#e5e5e5',</div></div><div class=\"1475\" style=\"display: none;\"><div style=\"display: table-cell;\"></div><div style=\"display: table-cell;\">outline_line_dash&nbsp;=&nbsp;[],</div></div><div class=\"1475\" style=\"display: none;\"><div style=\"display: table-cell;\"></div><div style=\"display: table-cell;\">outline_line_dash_offset&nbsp;=&nbsp;0,</div></div><div class=\"1475\" style=\"display: none;\"><div style=\"display: table-cell;\"></div><div style=\"display: table-cell;\">outline_line_join&nbsp;=&nbsp;'bevel',</div></div><div class=\"1475\" style=\"display: none;\"><div style=\"display: table-cell;\"></div><div style=\"display: table-cell;\">outline_line_width&nbsp;=&nbsp;1,</div></div><div class=\"1475\" style=\"display: none;\"><div style=\"display: table-cell;\"></div><div style=\"display: table-cell;\">output_backend&nbsp;=&nbsp;'canvas',</div></div><div class=\"1475\" style=\"display: none;\"><div style=\"display: table-cell;\"></div><div style=\"display: table-cell;\">plot_height&nbsp;=&nbsp;400,</div></div><div class=\"1475\" style=\"display: none;\"><div style=\"display: table-cell;\"></div><div style=\"display: table-cell;\">plot_width&nbsp;=&nbsp;500,</div></div><div class=\"1475\" style=\"display: none;\"><div style=\"display: table-cell;\"></div><div style=\"display: table-cell;\">renderers&nbsp;=&nbsp;[GlyphRenderer(id='1381', ...)],</div></div><div class=\"1475\" style=\"display: none;\"><div style=\"display: table-cell;\"></div><div style=\"display: table-cell;\">reset_policy&nbsp;=&nbsp;'standard',</div></div><div class=\"1475\" style=\"display: none;\"><div style=\"display: table-cell;\"></div><div style=\"display: table-cell;\">right&nbsp;=&nbsp;[],</div></div><div class=\"1475\" style=\"display: none;\"><div style=\"display: table-cell;\"></div><div style=\"display: table-cell;\">sizing_mode&nbsp;=&nbsp;None,</div></div><div class=\"1475\" style=\"display: none;\"><div style=\"display: table-cell;\"></div><div style=\"display: table-cell;\">subscribed_events&nbsp;=&nbsp;[],</div></div><div class=\"1475\" style=\"display: none;\"><div style=\"display: table-cell;\"></div><div style=\"display: table-cell;\">tags&nbsp;=&nbsp;[],</div></div><div class=\"1475\" style=\"display: none;\"><div style=\"display: table-cell;\"></div><div style=\"display: table-cell;\">title&nbsp;=&nbsp;Title(id='1412', ...),</div></div><div class=\"1475\" style=\"display: none;\"><div style=\"display: table-cell;\"></div><div style=\"display: table-cell;\">title_location&nbsp;=&nbsp;'above',</div></div><div class=\"1475\" style=\"display: none;\"><div style=\"display: table-cell;\"></div><div style=\"display: table-cell;\">toolbar&nbsp;=&nbsp;Toolbar(id='1371', ...),</div></div><div class=\"1475\" style=\"display: none;\"><div style=\"display: table-cell;\"></div><div style=\"display: table-cell;\">toolbar_location&nbsp;=&nbsp;'right',</div></div><div class=\"1475\" style=\"display: none;\"><div style=\"display: table-cell;\"></div><div style=\"display: table-cell;\">toolbar_sticky&nbsp;=&nbsp;True,</div></div><div class=\"1475\" style=\"display: none;\"><div style=\"display: table-cell;\"></div><div style=\"display: table-cell;\">visible&nbsp;=&nbsp;True,</div></div><div class=\"1475\" style=\"display: none;\"><div style=\"display: table-cell;\"></div><div style=\"display: table-cell;\">width&nbsp;=&nbsp;None,</div></div><div class=\"1475\" style=\"display: none;\"><div style=\"display: table-cell;\"></div><div style=\"display: table-cell;\">width_policy&nbsp;=&nbsp;'auto',</div></div><div class=\"1475\" style=\"display: none;\"><div style=\"display: table-cell;\"></div><div style=\"display: table-cell;\">x_range&nbsp;=&nbsp;DataRange1d(id='1348', ...),</div></div><div class=\"1475\" style=\"display: none;\"><div style=\"display: table-cell;\"></div><div style=\"display: table-cell;\">x_scale&nbsp;=&nbsp;LinearScale(id='1352', ...),</div></div><div class=\"1475\" style=\"display: none;\"><div style=\"display: table-cell;\"></div><div style=\"display: table-cell;\">y_range&nbsp;=&nbsp;DataRange1d(id='1350', ...),</div></div><div class=\"1475\" style=\"display: none;\"><div style=\"display: table-cell;\"></div><div style=\"display: table-cell;\">y_scale&nbsp;=&nbsp;LinearScale(id='1354', ...))</div></div></div>\n",
              "<script>\n",
              "(function() {\n",
              "  var expanded = false;\n",
              "  var ellipsis = document.getElementById(\"1476\");\n",
              "  ellipsis.addEventListener(\"click\", function() {\n",
              "    var rows = document.getElementsByClassName(\"1475\");\n",
              "    for (var i = 0; i < rows.length; i++) {\n",
              "      var el = rows[i];\n",
              "      el.style.display = expanded ? \"none\" : \"table-row\";\n",
              "    }\n",
              "    ellipsis.innerHTML = expanded ? \"&hellip;)\" : \"&lsaquo;&lsaquo;&lsaquo;\";\n",
              "    expanded = !expanded;\n",
              "  });\n",
              "})();\n",
              "</script>\n"
            ],
            "text/plain": [
              "Figure(id='1347', ...)"
            ]
          },
          "metadata": {
            "tags": []
          },
          "execution_count": 43
        }
      ]
    },
    {
      "cell_type": "code",
      "metadata": {
        "id": "_TdpheB9Ccwv"
      },
      "source": [
        "X_train_word2vec, X_test_word2vec, y_train_word2vec, y_test_word2vec = train_test_split(train_word2vec, target, test_size = 0.25, random_state = 42)"
      ],
      "execution_count": null,
      "outputs": []
    },
    {
      "cell_type": "markdown",
      "metadata": {
        "id": "tgWHactphBLa"
      },
      "source": [
        "*KNN*"
      ]
    },
    {
      "cell_type": "code",
      "metadata": {
        "id": "x0dqIxXFCdKf"
      },
      "source": [
        "gs = GridSearchCV(KNeighborsClassifier(), param_grid = {\n",
        "    'n_neighbors': range(6, 20, 2)}, \n",
        "    cv = 5, \n",
        "    n_jobs = -1)\n",
        "gs.fit(train_word2vec, target)  \n",
        "gs.best_score_, gs.best_params_  \n",
        "\n",
        "md = KNeighborsClassifier(**gs.best_params_).fit(X_train_word2vec, y_train_word2vec) \n",
        "acc = np.mean(md.predict(X_train_word2vec) == y_train_word2vec)\n",
        "test_acc = np.mean(md.predict(X_test_word2vec) == y_test_word2vec)\n",
        "print(f\"Train Accuracy: {acc}, Test Accuracy: { test_acc}\") #Train Accuracy: 0.83, Test Accuracy: 0.75"
      ],
      "execution_count": null,
      "outputs": []
    },
    {
      "cell_type": "markdown",
      "metadata": {
        "id": "qfbhdEQdhCtX"
      },
      "source": [
        "*SVM*"
      ]
    },
    {
      "cell_type": "code",
      "metadata": {
        "id": "l1ztsXmvCcmv"
      },
      "source": [
        "gs = GridSearchCV(SVC(), param_grid = {\n",
        "    'gamma': [0.00001, 0.0001, 0.1, 1, 10, 100], \n",
        "    'C': range(1,5)}, \n",
        "    n_jobs=-1)\n",
        "gs.fit(train_word2vec, target)  \n",
        "gs.best_score_, gs.best_params_  \n",
        "\n",
        "md = SVC(**gs.best_params_).fit(X_train_word2vec, y_train_word2vec) \n",
        "acc = np.mean(md.predict(X_train_word2vec) == y_train_word2vec)\n",
        "test_acc = np.mean(md.predict(X_test_word2vec) == y_test_word2vec)\n",
        "print(f\"Train Accuracy: {acc}, Test Accuracy: { test_acc}\") #Train Accuracy: 0.87, Test Accuracy: 0.859"
      ],
      "execution_count": null,
      "outputs": []
    },
    {
      "cell_type": "markdown",
      "metadata": {
        "id": "cjKTGoVchE46"
      },
      "source": [
        "*Random Forest*"
      ]
    },
    {
      "cell_type": "code",
      "metadata": {
        "id": "i3yr0HDRDGaf"
      },
      "source": [
        "gs = GridSearchCV(RandomForestClassifier(), param_grid = { \n",
        "    \"criterion\" : [\"gini\", \"entropy\"], \n",
        "    \"max_depth\" : range(12,20,2), \n",
        "    \"n_estimators\": range(100,1000,100)}, \n",
        "    n_jobs=-1)\n",
        "gs.fit(train_word2vec, target)  \n",
        "gs.best_score_, gs.best_params_  \n",
        "\n",
        "md = RandomForestClassifier(**gs.best_params_).fit(X_train_word2vec, y_train_word2vec) \n",
        "acc = np.mean(md.predict(X_train_word2vec) == y_train_word2vec)\n",
        "test_acc = np.mean(md.predict(X_test_word2vec) == y_test_word2vec)\n",
        "print(f\"Train Accuracy: {acc}, Test Accuracy: { test_acc}\") #Train Accuracy: 1.0, Test Accuracy: 0.84"
      ],
      "execution_count": null,
      "outputs": []
    },
    {
      "cell_type": "markdown",
      "metadata": {
        "id": "5HXO2FpIhHCa"
      },
      "source": [
        "*Decision tree*"
      ]
    },
    {
      "cell_type": "code",
      "metadata": {
        "id": "D38ttpLvDRLR"
      },
      "source": [
        "gs = GridSearchCV(DecisionTreeClassifier(), param_grid = {\n",
        "    'min_samples_leaf':range(20,100,5), \n",
        "    'min_samples_split':range(20,100,5), \n",
        "    'max_depth':range(2,50),\n",
        "    'criterion':['gini','entropy']}, \n",
        "    n_jobs=-1)\n",
        "gs.fit(train_word2vec, target)  \n",
        "gs.best_score_, gs.best_params_  \n",
        "\n",
        "md = DecisionTreeClassifier(**gs.best_params_).fit(X_train_word2vec, y_train_word2vec) \n",
        "acc = np.mean(md.predict(X_train_word2vec) == y_train_word2vec)\n",
        "test_acc = np.mean(md.predict(X_test_word2vec) == y_test_word2vec)\n",
        "print(f\"Train Accuracy: {acc}, Test Accuracy: { test_acc}\") #Train Accuracy: 1.0, Test Accuracy: 0.73"
      ],
      "execution_count": null,
      "outputs": []
    },
    {
      "cell_type": "markdown",
      "metadata": {
        "id": "IOSKb47bhJZw"
      },
      "source": [
        "*Boosting*"
      ]
    },
    {
      "cell_type": "code",
      "metadata": {
        "id": "zBcc0EL6DZf3"
      },
      "source": [
        "gs = GridSearchCV(AdaBoostClassifier(),param_grid = {\n",
        "    'n_estimators': range(50,1000,50)}, \n",
        "    n_jobs=-1)\n",
        "gs.fit(train_word2vec, target)  \n",
        "gs.best_score_, gs.best_params_  \n",
        "\n",
        "md = AdaBoostClassifier(**gs.best_params_).fit(X_train_word2vec, y_train_word2vec) \n",
        "acc = np.mean(md.predict(X_train_word2vec) == y_train_word2vec)\n",
        "test_acc = np.mean(md.predict(X_test_word2vec) == y_test_word2vec)\n",
        "print(f\"Train Accuracy: {acc}, Test Accuracy: { test_acc}\") #Train Accuracy: 0.78, Test Accuracy: 0.78"
      ],
      "execution_count": null,
      "outputs": []
    },
    {
      "cell_type": "markdown",
      "metadata": {
        "id": "5jYO8oIbhL3n"
      },
      "source": [
        "*Bagging*"
      ]
    },
    {
      "cell_type": "code",
      "metadata": {
        "id": "kdVmprvZDh4H"
      },
      "source": [
        "gs = GridSearchCV(BaggingClassifier(),param_grid = {\n",
        "    'n_estimators': range(10,100,10)}, \n",
        "    n_jobs=-1)\n",
        "gs.fit(train_word2vec, target)  \n",
        "gs.best_score_, gs.best_params_  \n",
        "\n",
        "md = BaggingClassifier(**gs.best_params_).fit(X_train_word2vec, y_train_word2vec) \n",
        "acc = np.mean(md.predict(X_train_word2vec) == y_train_word2vec)\n",
        "test_acc = np.mean(md.predict(X_test_word2vec) == y_test_word2vec)\n",
        "print(f\"Train Accuracy: {acc}, Test Accuracy: { test_acc}\") #Train Accuracy: 0.99, Test Accuracy: 0.81"
      ],
      "execution_count": null,
      "outputs": []
    },
    {
      "cell_type": "markdown",
      "metadata": {
        "id": "OLJn4FuaeTtd"
      },
      "source": [
        "**Вывод:** В данном случае мы получили лучший результат, так как векторное представление основывается на контекстной близости"
      ]
    },
    {
      "cell_type": "markdown",
      "metadata": {
        "id": "AzXmUl0YDsW5"
      },
      "source": [
        "**Pre Fast Text**"
      ]
    },
    {
      "cell_type": "code",
      "metadata": {
        "id": "KBz_vozvEZax"
      },
      "source": [
        "def get_fasttext_vectors(corpus, model):    \n",
        "    \n",
        "    def get_vector(sentence):   \n",
        "        word_tokens = word_tokenize(\" \".join(sentence))\n",
        "        vector = 0\n",
        "        for w in word_tokens:\n",
        "            try: \n",
        "                vector += model.wv[w]\n",
        "            except:\n",
        "                continue\n",
        "        return vector\n",
        "    \n",
        "    out_corpus = np.stack(corpus.apply(lambda x: get_vector(x)).to_numpy())\n",
        "    \n",
        "    return out_corpus"
      ],
      "execution_count": null,
      "outputs": []
    },
    {
      "cell_type": "code",
      "metadata": {
        "id": "28ZLGyv2EGaO"
      },
      "source": [
        "modelWiki = KeyedVectors.load_word2vec_format('/content/drive/MyDrive/nlp/wiki.en.vec')"
      ],
      "execution_count": null,
      "outputs": []
    },
    {
      "cell_type": "code",
      "metadata": {
        "id": "uYLPuwHxDu_g"
      },
      "source": [
        "train_fasttext_vectors = get_fasttext_vectors(train.Body, modelWiki)\n",
        "test_fasttext_vectors = get_fasttext_vectors(test.Body, modelWiki)"
      ],
      "execution_count": null,
      "outputs": []
    },
    {
      "cell_type": "code",
      "metadata": {
        "id": "CWUKqEB3DqdH"
      },
      "source": [
        "X_train_ft_wiki, X_test_ft_wiki, y_train_ft_wiki, y_test_ft_wiki = train_test_split(train_fasttext_vectors, target, test_size = 0.25, random_state = 42)"
      ],
      "execution_count": null,
      "outputs": []
    },
    {
      "cell_type": "markdown",
      "metadata": {
        "id": "GVUmh8Bigr_q"
      },
      "source": [
        "*KNN*"
      ]
    },
    {
      "cell_type": "code",
      "metadata": {
        "id": "Z3oB8V1hEm3_"
      },
      "source": [
        "gs = GridSearchCV(KNeighborsClassifier(), param_grid = {\n",
        "    'n_neighbors': range(6, 20)}, \n",
        "    cv = 5, \n",
        "    n_jobs = -1)\n",
        "gs.fit(train_fasttext_vectors, target)  \n",
        "gs.best_score_, gs.best_params_  \n",
        "\n",
        "md = KNeighborsClassifier(**gs.best_params_).fit(X_train_ft_wiki, y_train_ft_wiki) \n",
        "acc = np.mean(md.predict(X_train_ft_wiki) == y_train_ft_wiki)\n",
        "test_acc = np.mean(md.predict(X_test_ft_wiki) == y_test_ft_wiki)\n",
        "print(f\"Train Accuracy: {acc}, Test Accuracy: { test_acc}\") #Train Accuracy: 0.739, Test Accuracy: 0.63"
      ],
      "execution_count": null,
      "outputs": []
    },
    {
      "cell_type": "markdown",
      "metadata": {
        "id": "BDp_2LvMgufB"
      },
      "source": [
        "*SVM*"
      ]
    },
    {
      "cell_type": "code",
      "metadata": {
        "id": "c2ETCTQuE9BP"
      },
      "source": [
        "gs = GridSearchCV(SVC(), param_grid = {\n",
        "    'gamma': [0.00001, 0.0001, 0.1, 1, 10, 100], \n",
        "    'C': range(1,5)}, \n",
        "    n_jobs=-1)\n",
        "gs.fit(train_fasttext_vectors, target)  \n",
        "gs.best_score_, gs.best_params_  \n",
        "\n",
        "md = SVC(**gs.best_params_).fit(X_train_ft_wiki, y_train_ft_wiki) \n",
        "acc = np.mean(md.predict(X_train_ft_wiki) == y_train_ft_wiki)\n",
        "test_acc = np.mean(md.predict(X_test_ft_wiki) == y_test_ft_wiki)\n",
        "print(f\"Train Accuracy: {acc}, Test Accuracy: { test_acc}\") #Train Accuracy: 0.72, Test Accuracy: 0.708"
      ],
      "execution_count": null,
      "outputs": []
    },
    {
      "cell_type": "markdown",
      "metadata": {
        "id": "2BRKeAvAgwKx"
      },
      "source": [
        "*Random Forest*"
      ]
    },
    {
      "cell_type": "code",
      "metadata": {
        "id": "RVQdkOh0FIrH"
      },
      "source": [
        "gs = GridSearchCV(RandomForestClassifier(), param_grid = { \n",
        "    \"criterion\" : [\"gini\", \"entropy\"], \n",
        "    \"max_depth\" : range(12,20,2), \n",
        "    \"n_estimators\": range(100,1000,100)}, \n",
        "    n_jobs=-1)\n",
        "gs.fit(train_fasttext_vectors, target)  \n",
        "gs.best_score_, gs.best_params_  \n",
        "\n",
        "md = RandomForestClassifier(**gs.best_params_).fit(X_train_ft_wiki, y_train_ft_wiki) \n",
        "acc = np.mean(md.predict(X_train_ft_wiki) == y_train_ft_wiki)\n",
        "test_acc = np.mean(md.predict(X_test_ft_wiki) == y_test_ft_wiki)\n",
        "print(f\"Train Accuracy: {acc}, Test Accuracy: { test_acc}\") #Train Accuracy: 1.0, Test Accuracy: 0.66"
      ],
      "execution_count": null,
      "outputs": []
    },
    {
      "cell_type": "markdown",
      "metadata": {
        "id": "XC7JHB16g4Lf"
      },
      "source": [
        "*Decision tree*"
      ]
    },
    {
      "cell_type": "code",
      "metadata": {
        "id": "y2xpP3EjFsoC"
      },
      "source": [
        "gs = GridSearchCV(DecisionTreeClassifier(), param_grid = {\n",
        "    'min_samples_leaf':range(20,100,5), \n",
        "    'min_samples_split':range(20,100,5), \n",
        "    'max_depth':range(2,48,2), \n",
        "    'criterion':['gini','entropy']}, \n",
        "    n_jobs=-1)\n",
        "gs.fit(train_fasttext_vectors, target)  \n",
        "gs.best_score_, gs.best_params_  \n",
        "\n",
        "md = DecisionTreeClassifier(**gs.best_params_).fit(X_train_ft_wiki, y_train_ft_wiki) \n",
        "acc = np.mean(md.predict(X_train_ft_wiki) == y_train_ft_wiki)\n",
        "test_acc = np.mean(md.predict(X_test_ft_wiki) == y_test_ft_wiki)\n",
        "print(f\"Train Accuracy: {acc}, Test Accuracy: { test_acc}\") #Train Accuracy: 1.0, Test Accuracy: 0.50"
      ],
      "execution_count": null,
      "outputs": []
    },
    {
      "cell_type": "markdown",
      "metadata": {
        "id": "fgDO_2OIg7SD"
      },
      "source": [
        "*Boosting*"
      ]
    },
    {
      "cell_type": "code",
      "metadata": {
        "id": "M9iaPMgDFwEr"
      },
      "source": [
        "gs = GridSearchCV(AdaBoostClassifier(),param_grid = {\n",
        "    'n_estimators': range(50,1000,50)},\n",
        "    n_jobs=-1)\n",
        "gs.fit(train_fasttext_vectors, target)  \n",
        "gs.best_score_, gs.best_params_  \n",
        "\n",
        "md = AdaBoostClassifier(**gs.best_params_).fit(X_train_ft_wiki, y_train_ft_wiki) \n",
        "acc = np.mean(md.predict(X_train_ft_wiki) == y_train_ft_wiki)\n",
        "test_acc = np.mean(md.predict(X_test_ft_wiki) == y_test_ft_wiki)\n",
        "print(f\"Train Accuracy: {acc}, Test Accuracy: { test_acc}\") #Train Accuracy: 0.628 Test Accuracy: 0.619"
      ],
      "execution_count": null,
      "outputs": []
    },
    {
      "cell_type": "markdown",
      "metadata": {
        "id": "njnuAwuGg9qq"
      },
      "source": [
        "*Bagging*"
      ]
    },
    {
      "cell_type": "code",
      "metadata": {
        "id": "9Dk27IJ5F6aS"
      },
      "source": [
        "gs = GridSearchCV(BaggingClassifier(),param_grid = {\n",
        "    'n_estimators': range(10,100,10)}, \n",
        "    n_jobs=-1)\n",
        "gs.fit(train_fasttext_vectors, target)  \n",
        "gs.best_score_, gs.best_params_  \n",
        "\n",
        "md = BaggingClassifier(**gs.best_params_).fit(X_train_ft_wiki, y_train_ft_wiki) \n",
        "acc = np.mean(md.predict(X_train_ft_wiki) == y_train_ft_wiki)\n",
        "test_acc = np.mean(md.predict(X_test_ft_wiki) == y_test_ft_wiki)\n",
        "print(f\"Train Accuracy: {acc}, Test Accuracy: { test_acc}\") #Train Accuracy: 0.98, Test Accuracy: 0.60"
      ],
      "execution_count": null,
      "outputs": []
    },
    {
      "cell_type": "markdown",
      "metadata": {
        "id": "KjzoflQwf11a"
      },
      "source": [
        "**Вывод:** Есть смысл сравнить с Pretrained Word2Vec, так как wiki-модель более обширная, чем twitter-модель, поэтому результаты здесь оказались лучше  \n"
      ]
    },
    {
      "cell_type": "markdown",
      "metadata": {
        "id": "Hvj8zHEK700h"
      },
      "source": [
        "**Fast Text Own**"
      ]
    },
    {
      "cell_type": "code",
      "metadata": {
        "id": "pyeIqWFSLjxb"
      },
      "source": [
        "fasttext_train_samples = train['str'].to_list()\n",
        "fasttext_train_samples = [x.split(' ') for x in fasttext_train_samples]"
      ],
      "execution_count": 44,
      "outputs": []
    },
    {
      "cell_type": "code",
      "metadata": {
        "id": "3m0CA19_Llni"
      },
      "source": [
        "fasttext_test_samples = test['str'].to_list()\n",
        "fasttext_test_samples = [x.split(' ') for x in fasttext_test_samples]"
      ],
      "execution_count": 45,
      "outputs": []
    },
    {
      "cell_type": "code",
      "metadata": {
        "id": "qctee_JULmgH"
      },
      "source": [
        "fasttext_sentences = fasttext_train_samples + fasttext_test_samples"
      ],
      "execution_count": 46,
      "outputs": []
    },
    {
      "cell_type": "code",
      "metadata": {
        "id": "zlpg4J5JLnm_"
      },
      "source": [
        "our_FastText = FT_trainable(size=300)\n",
        "our_FastText.build_vocab(sentences=fasttext_sentences)\n",
        "our_FastText.train(\n",
        "    sentences=fasttext_sentences, epochs=our_FastText.epochs,\n",
        "    total_examples=our_FastText.corpus_count, \n",
        "    total_words=our_FastText.corpus_total_words\n",
        ")"
      ],
      "execution_count": 47,
      "outputs": []
    },
    {
      "cell_type": "code",
      "metadata": {
        "id": "UX7kPoCoLo7H"
      },
      "source": [
        "def get_fasttext_vectors(corpus, model):    \n",
        "    \n",
        "    def get_vector(sentence):   \n",
        "        word_tokens = word_tokenize(sentence)\n",
        "        vector = 0\n",
        "        for w in word_tokens:\n",
        "            try: \n",
        "                vector += model.wv[w]\n",
        "            except:\n",
        "                continue\n",
        "        return vector\n",
        "    \n",
        "    vectorized = corpus.apply(lambda x: get_vector(x)).to_numpy()\n",
        "\n",
        "    target = vectorized[0].shape[0]\n",
        "    mismatches = {}\n",
        "    for i in range(len(vectorized)):\n",
        "      try:\n",
        "        if vectorized[i].shape[0] != target:\n",
        "          mismatches[i] = vectorized[i].shape[0]\n",
        "      except Exception as e:\n",
        "        mismatches[i] = str(e)\n",
        "        continue\n",
        "    print(mismatches)\n",
        "\n",
        "    for i in mismatches.keys():\n",
        "      vectorized = np.delete(vectorized, i)\n",
        "\n",
        "    out_corpus = np.stack(vectorized)\n",
        "    \n",
        "    return out_corpus"
      ],
      "execution_count": 48,
      "outputs": []
    },
    {
      "cell_type": "code",
      "metadata": {
        "id": "74odW3pzLrIe",
        "colab": {
          "base_uri": "https://localhost:8080/"
        },
        "outputId": "3c54fb35-859b-4194-bab0-f5e0636c57ac"
      },
      "source": [
        "own_ft_train_vectors = get_fasttext_vectors(train['str'], \n",
        "                                            our_FastText)\n",
        "\n",
        "own_ft_test_vectors = get_fasttext_vectors(test['str'], \n",
        "                                           our_FastText)"
      ],
      "execution_count": 49,
      "outputs": [
        {
          "output_type": "stream",
          "text": [
            "{}\n",
            "{}\n"
          ],
          "name": "stdout"
        }
      ]
    },
    {
      "cell_type": "code",
      "metadata": {
        "id": "Ifmdz7W4fDoT"
      },
      "source": [
        "\n",
        "words = sorted(model.wv.vocab.keys(), \n",
        "               key=lambda word: model.wv.vocab[word].count,\n",
        "               reverse=True)[:1000]"
      ],
      "execution_count": 50,
      "outputs": []
    },
    {
      "cell_type": "code",
      "metadata": {
        "id": "8Q-xQp6PfZ_a"
      },
      "source": [
        "word_vectors = np.array([model.wv.get_vector(vector) for vector in words])\n",
        "\n",
        "pca = PCA(n_components=2)\n",
        "pca.fit(word_vectors)\n",
        "word_vectors_pca = pca.transform(word_vectors)\n",
        "word_vectors_pca = (word_vectors_pca - word_vectors_pca.mean(axis=0)) / word_vectors_pca.std(axis=0)"
      ],
      "execution_count": 51,
      "outputs": []
    },
    {
      "cell_type": "code",
      "metadata": {
        "id": "d2beXE0ofbGa"
      },
      "source": [
        "def draw_vectors(x, y, radius=10, alpha=0.25, color='blueviolet',\n",
        "                 width=500, height=400, show=True, **kwargs):\n",
        "\n",
        "    if isinstance(color, str): color = [color] * len(x)\n",
        "    data_source = bm.ColumnDataSource({ 'x' : x, 'y' : y, 'color': color, **kwargs })\n",
        "\n",
        "    fig = pl.figure(active_scroll='wheel_zoom', width=width, height=height)\n",
        "    fig.scatter('x', 'y', size=radius, color='color', alpha=alpha, source=data_source)\n",
        "\n",
        "    fig.add_tools(bm.HoverTool(tooltips=[(key, \"@\" + key) for key in kwargs.keys()]))\n",
        "    if show: pl.show(fig)\n",
        "    return fig"
      ],
      "execution_count": 52,
      "outputs": []
    },
    {
      "cell_type": "code",
      "metadata": {
        "colab": {
          "base_uri": "https://localhost:8080/",
          "height": 434
        },
        "id": "lkxlhGQWfhxf",
        "outputId": "528a67bb-cfb2-4a94-f41c-0dcea4b165ef"
      },
      "source": [
        "draw_vectors(word_vectors_pca[:, 0], word_vectors_pca[:, 1], token=words)"
      ],
      "execution_count": 53,
      "outputs": [
        {
          "output_type": "display_data",
          "data": {
            "application/javascript": [
              "\n",
              "(function(root) {\n",
              "  function now() {\n",
              "    return new Date();\n",
              "  }\n",
              "\n",
              "  var force = true;\n",
              "\n",
              "  if (typeof root._bokeh_onload_callbacks === \"undefined\" || force === true) {\n",
              "    root._bokeh_onload_callbacks = [];\n",
              "    root._bokeh_is_loading = undefined;\n",
              "  }\n",
              "\n",
              "  var JS_MIME_TYPE = 'application/javascript';\n",
              "  var HTML_MIME_TYPE = 'text/html';\n",
              "  var EXEC_MIME_TYPE = 'application/vnd.bokehjs_exec.v0+json';\n",
              "  var CLASS_NAME = 'output_bokeh rendered_html';\n",
              "\n",
              "  /**\n",
              "   * Render data to the DOM node\n",
              "   */\n",
              "  function render(props, node) {\n",
              "    var script = document.createElement(\"script\");\n",
              "    node.appendChild(script);\n",
              "  }\n",
              "\n",
              "  /**\n",
              "   * Handle when an output is cleared or removed\n",
              "   */\n",
              "  function handleClearOutput(event, handle) {\n",
              "    var cell = handle.cell;\n",
              "\n",
              "    var id = cell.output_area._bokeh_element_id;\n",
              "    var server_id = cell.output_area._bokeh_server_id;\n",
              "    // Clean up Bokeh references\n",
              "    if (id != null && id in Bokeh.index) {\n",
              "      Bokeh.index[id].model.document.clear();\n",
              "      delete Bokeh.index[id];\n",
              "    }\n",
              "\n",
              "    if (server_id !== undefined) {\n",
              "      // Clean up Bokeh references\n",
              "      var cmd = \"from bokeh.io.state import curstate; print(curstate().uuid_to_server['\" + server_id + \"'].get_sessions()[0].document.roots[0]._id)\";\n",
              "      cell.notebook.kernel.execute(cmd, {\n",
              "        iopub: {\n",
              "          output: function(msg) {\n",
              "            var id = msg.content.text.trim();\n",
              "            if (id in Bokeh.index) {\n",
              "              Bokeh.index[id].model.document.clear();\n",
              "              delete Bokeh.index[id];\n",
              "            }\n",
              "          }\n",
              "        }\n",
              "      });\n",
              "      // Destroy server and session\n",
              "      var cmd = \"import bokeh.io.notebook as ion; ion.destroy_server('\" + server_id + \"')\";\n",
              "      cell.notebook.kernel.execute(cmd);\n",
              "    }\n",
              "  }\n",
              "\n",
              "  /**\n",
              "   * Handle when a new output is added\n",
              "   */\n",
              "  function handleAddOutput(event, handle) {\n",
              "    var output_area = handle.output_area;\n",
              "    var output = handle.output;\n",
              "\n",
              "    // limit handleAddOutput to display_data with EXEC_MIME_TYPE content only\n",
              "    if ((output.output_type != \"display_data\") || (!output.data.hasOwnProperty(EXEC_MIME_TYPE))) {\n",
              "      return\n",
              "    }\n",
              "\n",
              "    var toinsert = output_area.element.find(\".\" + CLASS_NAME.split(' ')[0]);\n",
              "\n",
              "    if (output.metadata[EXEC_MIME_TYPE][\"id\"] !== undefined) {\n",
              "      toinsert[toinsert.length - 1].firstChild.textContent = output.data[JS_MIME_TYPE];\n",
              "      // store reference to embed id on output_area\n",
              "      output_area._bokeh_element_id = output.metadata[EXEC_MIME_TYPE][\"id\"];\n",
              "    }\n",
              "    if (output.metadata[EXEC_MIME_TYPE][\"server_id\"] !== undefined) {\n",
              "      var bk_div = document.createElement(\"div\");\n",
              "      bk_div.innerHTML = output.data[HTML_MIME_TYPE];\n",
              "      var script_attrs = bk_div.children[0].attributes;\n",
              "      for (var i = 0; i < script_attrs.length; i++) {\n",
              "        toinsert[toinsert.length - 1].firstChild.setAttribute(script_attrs[i].name, script_attrs[i].value);\n",
              "        toinsert[toinsert.length - 1].firstChild.textContent = bk_div.children[0].textContent\n",
              "      }\n",
              "      // store reference to server id on output_area\n",
              "      output_area._bokeh_server_id = output.metadata[EXEC_MIME_TYPE][\"server_id\"];\n",
              "    }\n",
              "  }\n",
              "\n",
              "  function register_renderer(events, OutputArea) {\n",
              "\n",
              "    function append_mime(data, metadata, element) {\n",
              "      // create a DOM node to render to\n",
              "      var toinsert = this.create_output_subarea(\n",
              "        metadata,\n",
              "        CLASS_NAME,\n",
              "        EXEC_MIME_TYPE\n",
              "      );\n",
              "      this.keyboard_manager.register_events(toinsert);\n",
              "      // Render to node\n",
              "      var props = {data: data, metadata: metadata[EXEC_MIME_TYPE]};\n",
              "      render(props, toinsert[toinsert.length - 1]);\n",
              "      element.append(toinsert);\n",
              "      return toinsert\n",
              "    }\n",
              "\n",
              "    /* Handle when an output is cleared or removed */\n",
              "    events.on('clear_output.CodeCell', handleClearOutput);\n",
              "    events.on('delete.Cell', handleClearOutput);\n",
              "\n",
              "    /* Handle when a new output is added */\n",
              "    events.on('output_added.OutputArea', handleAddOutput);\n",
              "\n",
              "    /**\n",
              "     * Register the mime type and append_mime function with output_area\n",
              "     */\n",
              "    OutputArea.prototype.register_mime_type(EXEC_MIME_TYPE, append_mime, {\n",
              "      /* Is output safe? */\n",
              "      safe: true,\n",
              "      /* Index of renderer in `output_area.display_order` */\n",
              "      index: 0\n",
              "    });\n",
              "  }\n",
              "\n",
              "  // register the mime type if in Jupyter Notebook environment and previously unregistered\n",
              "  if (root.Jupyter !== undefined) {\n",
              "    var events = require('base/js/events');\n",
              "    var OutputArea = require('notebook/js/outputarea').OutputArea;\n",
              "\n",
              "    if (OutputArea.prototype.mime_types().indexOf(EXEC_MIME_TYPE) == -1) {\n",
              "      register_renderer(events, OutputArea);\n",
              "    }\n",
              "  }\n",
              "\n",
              "  \n",
              "  if (typeof (root._bokeh_timeout) === \"undefined\" || force === true) {\n",
              "    root._bokeh_timeout = Date.now() + 5000;\n",
              "    root._bokeh_failed_load = false;\n",
              "  }\n",
              "\n",
              "  var NB_LOAD_WARNING = {'data': {'text/html':\n",
              "     \"<div style='background-color: #fdd'>\\n\"+\n",
              "     \"<p>\\n\"+\n",
              "     \"BokehJS does not appear to have successfully loaded. If loading BokehJS from CDN, this \\n\"+\n",
              "     \"may be due to a slow or bad network connection. Possible fixes:\\n\"+\n",
              "     \"</p>\\n\"+\n",
              "     \"<ul>\\n\"+\n",
              "     \"<li>re-rerun `output_notebook()` to attempt to load from CDN again, or</li>\\n\"+\n",
              "     \"<li>use INLINE resources instead, as so:</li>\\n\"+\n",
              "     \"</ul>\\n\"+\n",
              "     \"<code>\\n\"+\n",
              "     \"from bokeh.resources import INLINE\\n\"+\n",
              "     \"output_notebook(resources=INLINE)\\n\"+\n",
              "     \"</code>\\n\"+\n",
              "     \"</div>\"}};\n",
              "\n",
              "  function display_loaded() {\n",
              "    var el = document.getElementById(null);\n",
              "    if (el != null) {\n",
              "      el.textContent = \"BokehJS is loading...\";\n",
              "    }\n",
              "    if (root.Bokeh !== undefined) {\n",
              "      if (el != null) {\n",
              "        el.textContent = \"BokehJS \" + root.Bokeh.version + \" successfully loaded.\";\n",
              "      }\n",
              "    } else if (Date.now() < root._bokeh_timeout) {\n",
              "      setTimeout(display_loaded, 100)\n",
              "    }\n",
              "  }\n",
              "\n",
              "\n",
              "  function run_callbacks() {\n",
              "    try {\n",
              "      root._bokeh_onload_callbacks.forEach(function(callback) {\n",
              "        if (callback != null)\n",
              "          callback();\n",
              "      });\n",
              "    } finally {\n",
              "      delete root._bokeh_onload_callbacks\n",
              "    }\n",
              "    console.debug(\"Bokeh: all callbacks have finished\");\n",
              "  }\n",
              "\n",
              "  function load_libs(css_urls, js_urls, callback) {\n",
              "    if (css_urls == null) css_urls = [];\n",
              "    if (js_urls == null) js_urls = [];\n",
              "\n",
              "    root._bokeh_onload_callbacks.push(callback);\n",
              "    if (root._bokeh_is_loading > 0) {\n",
              "      console.debug(\"Bokeh: BokehJS is being loaded, scheduling callback at\", now());\n",
              "      return null;\n",
              "    }\n",
              "    if (js_urls == null || js_urls.length === 0) {\n",
              "      run_callbacks();\n",
              "      return null;\n",
              "    }\n",
              "    console.debug(\"Bokeh: BokehJS not loaded, scheduling load and callback at\", now());\n",
              "    root._bokeh_is_loading = css_urls.length + js_urls.length;\n",
              "\n",
              "    function on_load() {\n",
              "      root._bokeh_is_loading--;\n",
              "      if (root._bokeh_is_loading === 0) {\n",
              "        console.debug(\"Bokeh: all BokehJS libraries/stylesheets loaded\");\n",
              "        run_callbacks()\n",
              "      }\n",
              "    }\n",
              "\n",
              "    function on_error() {\n",
              "      console.error(\"failed to load \" + url);\n",
              "    }\n",
              "\n",
              "    for (var i = 0; i < css_urls.length; i++) {\n",
              "      var url = css_urls[i];\n",
              "      const element = document.createElement(\"link\");\n",
              "      element.onload = on_load;\n",
              "      element.onerror = on_error;\n",
              "      element.rel = \"stylesheet\";\n",
              "      element.type = \"text/css\";\n",
              "      element.href = url;\n",
              "      console.debug(\"Bokeh: injecting link tag for BokehJS stylesheet: \", url);\n",
              "      document.body.appendChild(element);\n",
              "    }\n",
              "\n",
              "    const hashes = {\"https://cdn.bokeh.org/bokeh/release/bokeh-2.1.1.min.js\": \"kLr4fYcqcSpbuI95brIH3vnnYCquzzSxHPU6XGQCIkQRGJwhg0StNbj1eegrHs12\", \"https://cdn.bokeh.org/bokeh/release/bokeh-widgets-2.1.1.min.js\": \"xIGPmVtaOm+z0BqfSOMn4lOR6ciex448GIKG4eE61LsAvmGj48XcMQZtKcE/UXZe\", \"https://cdn.bokeh.org/bokeh/release/bokeh-tables-2.1.1.min.js\": \"Dc9u1wF/0zApGIWoBbH77iWEHtdmkuYWG839Uzmv8y8yBLXebjO9ZnERsde5Ln/P\", \"https://cdn.bokeh.org/bokeh/release/bokeh-gl-2.1.1.min.js\": \"cT9JaBz7GiRXdENrJLZNSC6eMNF3nh3fa5fTF51Svp+ukxPdwcU5kGXGPBgDCa2j\"};\n",
              "\n",
              "    for (var i = 0; i < js_urls.length; i++) {\n",
              "      var url = js_urls[i];\n",
              "      var element = document.createElement('script');\n",
              "      element.onload = on_load;\n",
              "      element.onerror = on_error;\n",
              "      element.async = false;\n",
              "      element.src = url;\n",
              "      if (url in hashes) {\n",
              "        element.crossOrigin = \"anonymous\";\n",
              "        element.integrity = \"sha384-\" + hashes[url];\n",
              "      }\n",
              "      console.debug(\"Bokeh: injecting script tag for BokehJS library: \", url);\n",
              "      document.head.appendChild(element);\n",
              "    }\n",
              "  };\n",
              "\n",
              "  function inject_raw_css(css) {\n",
              "    const element = document.createElement(\"style\");\n",
              "    element.appendChild(document.createTextNode(css));\n",
              "    document.body.appendChild(element);\n",
              "  }\n",
              "\n",
              "  \n",
              "  var js_urls = [\"https://cdn.bokeh.org/bokeh/release/bokeh-2.1.1.min.js\", \"https://cdn.bokeh.org/bokeh/release/bokeh-widgets-2.1.1.min.js\", \"https://cdn.bokeh.org/bokeh/release/bokeh-tables-2.1.1.min.js\", \"https://cdn.bokeh.org/bokeh/release/bokeh-gl-2.1.1.min.js\"];\n",
              "  var css_urls = [];\n",
              "  \n",
              "\n",
              "  var inline_js = [\n",
              "    function(Bokeh) {\n",
              "      Bokeh.set_log_level(\"info\");\n",
              "    },\n",
              "    function(Bokeh) {\n",
              "    \n",
              "    \n",
              "    }\n",
              "  ];\n",
              "\n",
              "  function run_inline_js() {\n",
              "    \n",
              "    if (root.Bokeh !== undefined || force === true) {\n",
              "      \n",
              "    for (var i = 0; i < inline_js.length; i++) {\n",
              "      inline_js[i].call(root, root.Bokeh);\n",
              "    }\n",
              "    } else if (Date.now() < root._bokeh_timeout) {\n",
              "      setTimeout(run_inline_js, 100);\n",
              "    } else if (!root._bokeh_failed_load) {\n",
              "      console.log(\"Bokeh: BokehJS failed to load within specified timeout.\");\n",
              "      root._bokeh_failed_load = true;\n",
              "    } else if (force !== true) {\n",
              "      var cell = $(document.getElementById(null)).parents('.cell').data().cell;\n",
              "      cell.output_area.append_execute_result(NB_LOAD_WARNING)\n",
              "    }\n",
              "\n",
              "  }\n",
              "\n",
              "  if (root._bokeh_is_loading === 0) {\n",
              "    console.debug(\"Bokeh: BokehJS loaded, going straight to plotting\");\n",
              "    run_inline_js();\n",
              "  } else {\n",
              "    load_libs(css_urls, js_urls, function() {\n",
              "      console.debug(\"Bokeh: BokehJS plotting callback run at\", now());\n",
              "      run_inline_js();\n",
              "    });\n",
              "  }\n",
              "}(window));"
            ],
            "application/vnd.bokehjs_load.v0+json": "\n(function(root) {\n  function now() {\n    return new Date();\n  }\n\n  var force = true;\n\n  if (typeof root._bokeh_onload_callbacks === \"undefined\" || force === true) {\n    root._bokeh_onload_callbacks = [];\n    root._bokeh_is_loading = undefined;\n  }\n\n  \n\n  \n  if (typeof (root._bokeh_timeout) === \"undefined\" || force === true) {\n    root._bokeh_timeout = Date.now() + 5000;\n    root._bokeh_failed_load = false;\n  }\n\n  var NB_LOAD_WARNING = {'data': {'text/html':\n     \"<div style='background-color: #fdd'>\\n\"+\n     \"<p>\\n\"+\n     \"BokehJS does not appear to have successfully loaded. If loading BokehJS from CDN, this \\n\"+\n     \"may be due to a slow or bad network connection. Possible fixes:\\n\"+\n     \"</p>\\n\"+\n     \"<ul>\\n\"+\n     \"<li>re-rerun `output_notebook()` to attempt to load from CDN again, or</li>\\n\"+\n     \"<li>use INLINE resources instead, as so:</li>\\n\"+\n     \"</ul>\\n\"+\n     \"<code>\\n\"+\n     \"from bokeh.resources import INLINE\\n\"+\n     \"output_notebook(resources=INLINE)\\n\"+\n     \"</code>\\n\"+\n     \"</div>\"}};\n\n  function display_loaded() {\n    var el = document.getElementById(null);\n    if (el != null) {\n      el.textContent = \"BokehJS is loading...\";\n    }\n    if (root.Bokeh !== undefined) {\n      if (el != null) {\n        el.textContent = \"BokehJS \" + root.Bokeh.version + \" successfully loaded.\";\n      }\n    } else if (Date.now() < root._bokeh_timeout) {\n      setTimeout(display_loaded, 100)\n    }\n  }\n\n\n  function run_callbacks() {\n    try {\n      root._bokeh_onload_callbacks.forEach(function(callback) {\n        if (callback != null)\n          callback();\n      });\n    } finally {\n      delete root._bokeh_onload_callbacks\n    }\n    console.debug(\"Bokeh: all callbacks have finished\");\n  }\n\n  function load_libs(css_urls, js_urls, callback) {\n    if (css_urls == null) css_urls = [];\n    if (js_urls == null) js_urls = [];\n\n    root._bokeh_onload_callbacks.push(callback);\n    if (root._bokeh_is_loading > 0) {\n      console.debug(\"Bokeh: BokehJS is being loaded, scheduling callback at\", now());\n      return null;\n    }\n    if (js_urls == null || js_urls.length === 0) {\n      run_callbacks();\n      return null;\n    }\n    console.debug(\"Bokeh: BokehJS not loaded, scheduling load and callback at\", now());\n    root._bokeh_is_loading = css_urls.length + js_urls.length;\n\n    function on_load() {\n      root._bokeh_is_loading--;\n      if (root._bokeh_is_loading === 0) {\n        console.debug(\"Bokeh: all BokehJS libraries/stylesheets loaded\");\n        run_callbacks()\n      }\n    }\n\n    function on_error() {\n      console.error(\"failed to load \" + url);\n    }\n\n    for (var i = 0; i < css_urls.length; i++) {\n      var url = css_urls[i];\n      const element = document.createElement(\"link\");\n      element.onload = on_load;\n      element.onerror = on_error;\n      element.rel = \"stylesheet\";\n      element.type = \"text/css\";\n      element.href = url;\n      console.debug(\"Bokeh: injecting link tag for BokehJS stylesheet: \", url);\n      document.body.appendChild(element);\n    }\n\n    const hashes = {\"https://cdn.bokeh.org/bokeh/release/bokeh-2.1.1.min.js\": \"kLr4fYcqcSpbuI95brIH3vnnYCquzzSxHPU6XGQCIkQRGJwhg0StNbj1eegrHs12\", \"https://cdn.bokeh.org/bokeh/release/bokeh-widgets-2.1.1.min.js\": \"xIGPmVtaOm+z0BqfSOMn4lOR6ciex448GIKG4eE61LsAvmGj48XcMQZtKcE/UXZe\", \"https://cdn.bokeh.org/bokeh/release/bokeh-tables-2.1.1.min.js\": \"Dc9u1wF/0zApGIWoBbH77iWEHtdmkuYWG839Uzmv8y8yBLXebjO9ZnERsde5Ln/P\", \"https://cdn.bokeh.org/bokeh/release/bokeh-gl-2.1.1.min.js\": \"cT9JaBz7GiRXdENrJLZNSC6eMNF3nh3fa5fTF51Svp+ukxPdwcU5kGXGPBgDCa2j\"};\n\n    for (var i = 0; i < js_urls.length; i++) {\n      var url = js_urls[i];\n      var element = document.createElement('script');\n      element.onload = on_load;\n      element.onerror = on_error;\n      element.async = false;\n      element.src = url;\n      if (url in hashes) {\n        element.crossOrigin = \"anonymous\";\n        element.integrity = \"sha384-\" + hashes[url];\n      }\n      console.debug(\"Bokeh: injecting script tag for BokehJS library: \", url);\n      document.head.appendChild(element);\n    }\n  };\n\n  function inject_raw_css(css) {\n    const element = document.createElement(\"style\");\n    element.appendChild(document.createTextNode(css));\n    document.body.appendChild(element);\n  }\n\n  \n  var js_urls = [\"https://cdn.bokeh.org/bokeh/release/bokeh-2.1.1.min.js\", \"https://cdn.bokeh.org/bokeh/release/bokeh-widgets-2.1.1.min.js\", \"https://cdn.bokeh.org/bokeh/release/bokeh-tables-2.1.1.min.js\", \"https://cdn.bokeh.org/bokeh/release/bokeh-gl-2.1.1.min.js\"];\n  var css_urls = [];\n  \n\n  var inline_js = [\n    function(Bokeh) {\n      Bokeh.set_log_level(\"info\");\n    },\n    function(Bokeh) {\n    \n    \n    }\n  ];\n\n  function run_inline_js() {\n    \n    if (root.Bokeh !== undefined || force === true) {\n      \n    for (var i = 0; i < inline_js.length; i++) {\n      inline_js[i].call(root, root.Bokeh);\n    }\n    } else if (Date.now() < root._bokeh_timeout) {\n      setTimeout(run_inline_js, 100);\n    } else if (!root._bokeh_failed_load) {\n      console.log(\"Bokeh: BokehJS failed to load within specified timeout.\");\n      root._bokeh_failed_load = true;\n    } else if (force !== true) {\n      var cell = $(document.getElementById(null)).parents('.cell').data().cell;\n      cell.output_area.append_execute_result(NB_LOAD_WARNING)\n    }\n\n  }\n\n  if (root._bokeh_is_loading === 0) {\n    console.debug(\"Bokeh: BokehJS loaded, going straight to plotting\");\n    run_inline_js();\n  } else {\n    load_libs(css_urls, js_urls, function() {\n      console.debug(\"Bokeh: BokehJS plotting callback run at\", now());\n      run_inline_js();\n    });\n  }\n}(window));"
          },
          "metadata": {
            "tags": []
          }
        },
        {
          "output_type": "display_data",
          "data": {
            "text/html": [
              "\n",
              "\n",
              "\n",
              "\n",
              "\n",
              "\n",
              "  <div class=\"bk-root\" id=\"751a54c8-c12e-4033-b28f-b58fdfe9cf0e\" data-root-id=\"1480\"></div>\n"
            ]
          },
          "metadata": {
            "tags": []
          }
        },
        {
          "output_type": "display_data",
          "data": {
            "application/javascript": [
              "(function(root) {\n",
              "  function embed_document(root) {\n",
              "    \n",
              "  var docs_json = {\"fdb1668b-dbdc-4b35-9d5d-56691e17204c\":{\"roots\":{\"references\":[{\"attributes\":{\"below\":[{\"id\":\"1489\"}],\"center\":[{\"id\":\"1492\"},{\"id\":\"1496\"}],\"left\":[{\"id\":\"1493\"}],\"plot_height\":400,\"plot_width\":500,\"renderers\":[{\"id\":\"1514\"}],\"title\":{\"id\":\"1554\"},\"toolbar\":{\"id\":\"1504\"},\"x_range\":{\"id\":\"1481\"},\"x_scale\":{\"id\":\"1485\"},\"y_range\":{\"id\":\"1483\"},\"y_scale\":{\"id\":\"1487\"}},\"id\":\"1480\",\"subtype\":\"Figure\",\"type\":\"Plot\"},{\"attributes\":{\"formatter\":{\"id\":\"1558\"},\"ticker\":{\"id\":\"1490\"}},\"id\":\"1489\",\"type\":\"LinearAxis\"},{\"attributes\":{\"callback\":null,\"tooltips\":[[\"token\",\"@token\"]]},\"id\":\"1516\",\"type\":\"HoverTool\"},{\"attributes\":{},\"id\":\"1490\",\"type\":\"BasicTicker\"},{\"attributes\":{\"axis\":{\"id\":\"1489\"},\"ticker\":null},\"id\":\"1492\",\"type\":\"Grid\"},{\"attributes\":{\"fill_alpha\":{\"value\":0.25},\"fill_color\":{\"field\":\"color\"},\"line_alpha\":{\"value\":0.25},\"line_color\":{\"field\":\"color\"},\"size\":{\"units\":\"screen\",\"value\":10},\"x\":{\"field\":\"x\"},\"y\":{\"field\":\"y\"}},\"id\":\"1512\",\"type\":\"Scatter\"},{\"attributes\":{\"formatter\":{\"id\":\"1556\"},\"ticker\":{\"id\":\"1494\"}},\"id\":\"1493\",\"type\":\"LinearAxis\"},{\"attributes\":{\"source\":{\"id\":\"1479\"}},\"id\":\"1515\",\"type\":\"CDSView\"},{\"attributes\":{},\"id\":\"1556\",\"type\":\"BasicTickFormatter\"},{\"attributes\":{},\"id\":\"1494\",\"type\":\"BasicTicker\"},{\"attributes\":{},\"id\":\"1558\",\"type\":\"BasicTickFormatter\"},{\"attributes\":{\"axis\":{\"id\":\"1493\"},\"dimension\":1,\"ticker\":null},\"id\":\"1496\",\"type\":\"Grid\"},{\"attributes\":{},\"id\":\"1560\",\"type\":\"UnionRenderers\"},{\"attributes\":{\"text\":\"\"},\"id\":\"1554\",\"type\":\"Title\"},{\"attributes\":{},\"id\":\"1561\",\"type\":\"Selection\"},{\"attributes\":{},\"id\":\"1497\",\"type\":\"PanTool\"},{\"attributes\":{},\"id\":\"1498\",\"type\":\"WheelZoomTool\"},{\"attributes\":{\"overlay\":{\"id\":\"1503\"}},\"id\":\"1499\",\"type\":\"BoxZoomTool\"},{\"attributes\":{\"data\":{\"color\":[\"blueviolet\",\"blueviolet\",\"blueviolet\",\"blueviolet\",\"blueviolet\",\"blueviolet\",\"blueviolet\",\"blueviolet\",\"blueviolet\",\"blueviolet\",\"blueviolet\",\"blueviolet\",\"blueviolet\",\"blueviolet\",\"blueviolet\",\"blueviolet\",\"blueviolet\",\"blueviolet\",\"blueviolet\",\"blueviolet\",\"blueviolet\",\"blueviolet\",\"blueviolet\",\"blueviolet\",\"blueviolet\",\"blueviolet\",\"blueviolet\",\"blueviolet\",\"blueviolet\",\"blueviolet\",\"blueviolet\",\"blueviolet\",\"blueviolet\",\"blueviolet\",\"blueviolet\",\"blueviolet\",\"blueviolet\",\"blueviolet\",\"blueviolet\",\"blueviolet\",\"blueviolet\",\"blueviolet\",\"blueviolet\",\"blueviolet\",\"blueviolet\",\"blueviolet\",\"blueviolet\",\"blueviolet\",\"blueviolet\",\"blueviolet\",\"blueviolet\",\"blueviolet\",\"blueviolet\",\"blueviolet\",\"blueviolet\",\"blueviolet\",\"blueviolet\",\"blueviolet\",\"blueviolet\",\"blueviolet\",\"blueviolet\",\"blueviolet\",\"blueviolet\",\"blueviolet\",\"blueviolet\",\"blueviolet\",\"blueviolet\",\"blueviolet\",\"blueviolet\",\"blueviolet\",\"blueviolet\",\"blueviolet\",\"blueviolet\",\"blueviolet\",\"blueviolet\",\"blueviolet\",\"blueviolet\",\"blueviolet\",\"blueviolet\",\"blueviolet\",\"blueviolet\",\"blueviolet\",\"blueviolet\",\"blueviolet\",\"blueviolet\",\"blueviolet\",\"blueviolet\",\"blueviolet\",\"blueviolet\",\"blueviolet\",\"blueviolet\",\"blueviolet\",\"blueviolet\",\"blueviolet\",\"blueviolet\",\"blueviolet\",\"blueviolet\",\"blueviolet\",\"blueviolet\",\"blueviolet\",\"blueviolet\",\"blueviolet\",\"blueviolet\",\"blueviolet\",\"blueviolet\",\"blueviolet\",\"blueviolet\",\"blueviolet\",\"blueviolet\",\"blueviolet\",\"blueviolet\",\"blueviolet\",\"blueviolet\",\"blueviolet\",\"blueviolet\",\"blueviolet\",\"blueviolet\",\"blueviolet\",\"blueviolet\",\"blueviolet\",\"blueviolet\",\"blueviolet\",\"blueviolet\",\"blueviolet\",\"blueviolet\",\"blueviolet\",\"blueviolet\",\"blueviolet\",\"blueviolet\",\"blueviolet\",\"blueviolet\",\"blueviolet\",\"blueviolet\",\"blueviolet\",\"blueviolet\",\"blueviolet\",\"blueviolet\",\"blueviolet\",\"blueviolet\",\"blueviolet\",\"blueviolet\",\"blueviolet\",\"blueviolet\",\"blueviolet\",\"blueviolet\",\"blueviolet\",\"blueviolet\",\"blueviolet\",\"blueviolet\",\"blueviolet\",\"blueviolet\",\"blueviolet\",\"blueviolet\",\"blueviolet\",\"blueviolet\",\"blueviolet\",\"blueviolet\",\"blueviolet\",\"blueviolet\",\"blueviolet\",\"blueviolet\",\"blueviolet\",\"blueviolet\",\"blueviolet\",\"blueviolet\",\"blueviolet\",\"blueviolet\",\"blueviolet\",\"blueviolet\",\"blueviolet\",\"blueviolet\",\"blueviolet\",\"blueviolet\",\"blueviolet\",\"blueviolet\",\"blueviolet\",\"blueviolet\",\"blueviolet\",\"blueviolet\",\"blueviolet\",\"blueviolet\",\"blueviolet\",\"blueviolet\",\"blueviolet\",\"blueviolet\",\"blueviolet\",\"blueviolet\",\"blueviolet\",\"blueviolet\",\"blueviolet\",\"blueviolet\",\"blueviolet\",\"blueviolet\",\"blueviolet\",\"blueviolet\",\"blueviolet\",\"blueviolet\",\"blueviolet\",\"blueviolet\",\"blueviolet\",\"blueviolet\",\"blueviolet\",\"blueviolet\",\"blueviolet\",\"blueviolet\",\"blueviolet\",\"blueviolet\",\"blueviolet\",\"blueviolet\",\"blueviolet\",\"blueviolet\",\"blueviolet\",\"blueviolet\",\"blueviolet\",\"blueviolet\",\"blueviolet\",\"blueviolet\",\"blueviolet\",\"blueviolet\",\"blueviolet\",\"blueviolet\",\"blueviolet\",\"blueviolet\",\"blueviolet\",\"blueviolet\",\"blueviolet\",\"blueviolet\",\"blueviolet\",\"blueviolet\",\"blueviolet\",\"blueviolet\",\"blueviolet\",\"blueviolet\",\"blueviolet\",\"blueviolet\",\"blueviolet\",\"blueviolet\",\"blueviolet\",\"blueviolet\",\"blueviolet\",\"blueviolet\",\"blueviolet\",\"blueviolet\",\"blueviolet\",\"blueviolet\",\"blueviolet\",\"blueviolet\",\"blueviolet\",\"blueviolet\",\"blueviolet\",\"blueviolet\",\"blueviolet\",\"blueviolet\",\"blueviolet\",\"blueviolet\",\"blueviolet\",\"blueviolet\",\"blueviolet\",\"blueviolet\",\"blueviolet\",\"blueviolet\",\"blueviolet\",\"blueviolet\",\"blueviolet\",\"blueviolet\",\"blueviolet\",\"blueviolet\",\"blueviolet\",\"blueviolet\",\"blueviolet\",\"blueviolet\",\"blueviolet\",\"blueviolet\",\"blueviolet\",\"blueviolet\",\"blueviolet\",\"blueviolet\",\"blueviolet\",\"blueviolet\",\"blueviolet\",\"blueviolet\",\"blueviolet\",\"blueviolet\",\"blueviolet\",\"blueviolet\",\"blueviolet\",\"blueviolet\",\"blueviolet\",\"blueviolet\",\"blueviolet\",\"blueviolet\",\"blueviolet\",\"blueviolet\",\"blueviolet\",\"blueviolet\",\"blueviolet\",\"blueviolet\",\"blueviolet\",\"blueviolet\",\"blueviolet\",\"blueviolet\",\"blueviolet\",\"blueviolet\",\"blueviolet\",\"blueviolet\",\"blueviolet\",\"blueviolet\",\"blueviolet\",\"blueviolet\",\"blueviolet\",\"blueviolet\",\"blueviolet\",\"blueviolet\",\"blueviolet\",\"blueviolet\",\"blueviolet\",\"blueviolet\",\"blueviolet\",\"blueviolet\",\"blueviolet\",\"blueviolet\",\"blueviolet\",\"blueviolet\",\"blueviolet\",\"blueviolet\",\"blueviolet\",\"blueviolet\",\"blueviolet\",\"blueviolet\",\"blueviolet\",\"blueviolet\",\"blueviolet\",\"blueviolet\",\"blueviolet\",\"blueviolet\",\"blueviolet\",\"blueviolet\",\"blueviolet\",\"blueviolet\",\"blueviolet\",\"blueviolet\",\"blueviolet\",\"blueviolet\",\"blueviolet\",\"blueviolet\",\"blueviolet\",\"blueviolet\",\"blueviolet\",\"blueviolet\",\"blueviolet\",\"blueviolet\",\"blueviolet\",\"blueviolet\",\"blueviolet\",\"blueviolet\",\"blueviolet\",\"blueviolet\",\"blueviolet\",\"blueviolet\",\"blueviolet\",\"blueviolet\",\"blueviolet\",\"blueviolet\",\"blueviolet\",\"blueviolet\",\"blueviolet\",\"blueviolet\",\"blueviolet\",\"blueviolet\",\"blueviolet\",\"blueviolet\",\"blueviolet\",\"blueviolet\",\"blueviolet\",\"blueviolet\",\"blueviolet\",\"blueviolet\",\"blueviolet\",\"blueviolet\",\"blueviolet\",\"blueviolet\",\"blueviolet\",\"blueviolet\",\"blueviolet\",\"blueviolet\",\"blueviolet\",\"blueviolet\",\"blueviolet\",\"blueviolet\",\"blueviolet\",\"blueviolet\",\"blueviolet\",\"blueviolet\",\"blueviolet\",\"blueviolet\",\"blueviolet\",\"blueviolet\",\"blueviolet\",\"blueviolet\",\"blueviolet\",\"blueviolet\",\"blueviolet\",\"blueviolet\",\"blueviolet\",\"blueviolet\",\"blueviolet\",\"blueviolet\",\"blueviolet\",\"blueviolet\",\"blueviolet\",\"blueviolet\",\"blueviolet\",\"blueviolet\",\"blueviolet\",\"blueviolet\",\"blueviolet\",\"blueviolet\",\"blueviolet\",\"blueviolet\",\"blueviolet\",\"blueviolet\",\"blueviolet\",\"blueviolet\",\"blueviolet\",\"blueviolet\",\"blueviolet\",\"blueviolet\",\"blueviolet\",\"blueviolet\",\"blueviolet\",\"blueviolet\",\"blueviolet\",\"blueviolet\",\"blueviolet\",\"blueviolet\",\"blueviolet\",\"blueviolet\",\"blueviolet\",\"blueviolet\",\"blueviolet\",\"blueviolet\",\"blueviolet\",\"blueviolet\",\"blueviolet\",\"blueviolet\",\"blueviolet\",\"blueviolet\",\"blueviolet\",\"blueviolet\",\"blueviolet\",\"blueviolet\",\"blueviolet\",\"blueviolet\",\"blueviolet\",\"blueviolet\",\"blueviolet\",\"blueviolet\",\"blueviolet\",\"blueviolet\",\"blueviolet\",\"blueviolet\",\"blueviolet\",\"blueviolet\",\"blueviolet\",\"blueviolet\",\"blueviolet\",\"blueviolet\",\"blueviolet\",\"blueviolet\",\"blueviolet\",\"blueviolet\",\"blueviolet\",\"blueviolet\",\"blueviolet\",\"blueviolet\",\"blueviolet\",\"blueviolet\",\"blueviolet\",\"blueviolet\",\"blueviolet\",\"blueviolet\",\"blueviolet\",\"blueviolet\",\"blueviolet\",\"blueviolet\",\"blueviolet\",\"blueviolet\",\"blueviolet\",\"blueviolet\",\"blueviolet\",\"blueviolet\",\"blueviolet\",\"blueviolet\",\"blueviolet\",\"blueviolet\",\"blueviolet\",\"blueviolet\",\"blueviolet\",\"blueviolet\",\"blueviolet\",\"blueviolet\",\"blueviolet\",\"blueviolet\",\"blueviolet\",\"blueviolet\",\"blueviolet\",\"blueviolet\",\"blueviolet\",\"blueviolet\",\"blueviolet\",\"blueviolet\",\"blueviolet\",\"blueviolet\",\"blueviolet\",\"blueviolet\",\"blueviolet\",\"blueviolet\",\"blueviolet\",\"blueviolet\",\"blueviolet\",\"blueviolet\",\"blueviolet\",\"blueviolet\",\"blueviolet\",\"blueviolet\",\"blueviolet\",\"blueviolet\",\"blueviolet\",\"blueviolet\",\"blueviolet\",\"blueviolet\",\"blueviolet\",\"blueviolet\",\"blueviolet\",\"blueviolet\",\"blueviolet\",\"blueviolet\",\"blueviolet\",\"blueviolet\",\"blueviolet\",\"blueviolet\",\"blueviolet\",\"blueviolet\",\"blueviolet\",\"blueviolet\",\"blueviolet\",\"blueviolet\",\"blueviolet\",\"blueviolet\",\"blueviolet\",\"blueviolet\",\"blueviolet\",\"blueviolet\",\"blueviolet\",\"blueviolet\",\"blueviolet\",\"blueviolet\",\"blueviolet\",\"blueviolet\",\"blueviolet\",\"blueviolet\",\"blueviolet\",\"blueviolet\",\"blueviolet\",\"blueviolet\",\"blueviolet\",\"blueviolet\",\"blueviolet\",\"blueviolet\",\"blueviolet\",\"blueviolet\",\"blueviolet\",\"blueviolet\",\"blueviolet\",\"blueviolet\",\"blueviolet\",\"blueviolet\",\"blueviolet\",\"blueviolet\",\"blueviolet\",\"blueviolet\",\"blueviolet\",\"blueviolet\",\"blueviolet\",\"blueviolet\",\"blueviolet\",\"blueviolet\",\"blueviolet\",\"blueviolet\",\"blueviolet\",\"blueviolet\",\"blueviolet\",\"blueviolet\",\"blueviolet\",\"blueviolet\",\"blueviolet\",\"blueviolet\",\"blueviolet\",\"blueviolet\",\"blueviolet\",\"blueviolet\",\"blueviolet\",\"blueviolet\",\"blueviolet\",\"blueviolet\",\"blueviolet\",\"blueviolet\",\"blueviolet\",\"blueviolet\",\"blueviolet\",\"blueviolet\",\"blueviolet\",\"blueviolet\",\"blueviolet\",\"blueviolet\",\"blueviolet\",\"blueviolet\",\"blueviolet\",\"blueviolet\",\"blueviolet\",\"blueviolet\",\"blueviolet\",\"blueviolet\",\"blueviolet\",\"blueviolet\",\"blueviolet\",\"blueviolet\",\"blueviolet\",\"blueviolet\",\"blueviolet\",\"blueviolet\",\"blueviolet\",\"blueviolet\",\"blueviolet\",\"blueviolet\",\"blueviolet\",\"blueviolet\",\"blueviolet\",\"blueviolet\",\"blueviolet\",\"blueviolet\",\"blueviolet\",\"blueviolet\",\"blueviolet\",\"blueviolet\",\"blueviolet\",\"blueviolet\",\"blueviolet\",\"blueviolet\",\"blueviolet\",\"blueviolet\",\"blueviolet\",\"blueviolet\",\"blueviolet\",\"blueviolet\",\"blueviolet\",\"blueviolet\",\"blueviolet\",\"blueviolet\",\"blueviolet\",\"blueviolet\",\"blueviolet\",\"blueviolet\",\"blueviolet\",\"blueviolet\",\"blueviolet\",\"blueviolet\",\"blueviolet\",\"blueviolet\",\"blueviolet\",\"blueviolet\",\"blueviolet\",\"blueviolet\",\"blueviolet\",\"blueviolet\",\"blueviolet\",\"blueviolet\",\"blueviolet\",\"blueviolet\",\"blueviolet\",\"blueviolet\",\"blueviolet\",\"blueviolet\",\"blueviolet\",\"blueviolet\",\"blueviolet\",\"blueviolet\",\"blueviolet\",\"blueviolet\",\"blueviolet\",\"blueviolet\",\"blueviolet\",\"blueviolet\",\"blueviolet\",\"blueviolet\",\"blueviolet\",\"blueviolet\",\"blueviolet\",\"blueviolet\",\"blueviolet\",\"blueviolet\",\"blueviolet\",\"blueviolet\",\"blueviolet\",\"blueviolet\",\"blueviolet\",\"blueviolet\",\"blueviolet\",\"blueviolet\",\"blueviolet\",\"blueviolet\",\"blueviolet\",\"blueviolet\",\"blueviolet\",\"blueviolet\",\"blueviolet\",\"blueviolet\",\"blueviolet\",\"blueviolet\",\"blueviolet\",\"blueviolet\",\"blueviolet\",\"blueviolet\",\"blueviolet\",\"blueviolet\",\"blueviolet\",\"blueviolet\",\"blueviolet\",\"blueviolet\",\"blueviolet\",\"blueviolet\",\"blueviolet\",\"blueviolet\",\"blueviolet\",\"blueviolet\",\"blueviolet\",\"blueviolet\",\"blueviolet\",\"blueviolet\",\"blueviolet\",\"blueviolet\",\"blueviolet\",\"blueviolet\",\"blueviolet\",\"blueviolet\",\"blueviolet\",\"blueviolet\",\"blueviolet\",\"blueviolet\",\"blueviolet\",\"blueviolet\",\"blueviolet\",\"blueviolet\",\"blueviolet\",\"blueviolet\",\"blueviolet\",\"blueviolet\",\"blueviolet\",\"blueviolet\",\"blueviolet\",\"blueviolet\",\"blueviolet\",\"blueviolet\",\"blueviolet\",\"blueviolet\",\"blueviolet\",\"blueviolet\",\"blueviolet\",\"blueviolet\",\"blueviolet\",\"blueviolet\",\"blueviolet\",\"blueviolet\",\"blueviolet\",\"blueviolet\",\"blueviolet\",\"blueviolet\",\"blueviolet\",\"blueviolet\",\"blueviolet\",\"blueviolet\",\"blueviolet\",\"blueviolet\",\"blueviolet\",\"blueviolet\",\"blueviolet\",\"blueviolet\",\"blueviolet\",\"blueviolet\",\"blueviolet\",\"blueviolet\",\"blueviolet\",\"blueviolet\",\"blueviolet\",\"blueviolet\",\"blueviolet\",\"blueviolet\",\"blueviolet\",\"blueviolet\",\"blueviolet\",\"blueviolet\",\"blueviolet\",\"blueviolet\",\"blueviolet\",\"blueviolet\",\"blueviolet\",\"blueviolet\",\"blueviolet\",\"blueviolet\",\"blueviolet\",\"blueviolet\",\"blueviolet\",\"blueviolet\",\"blueviolet\",\"blueviolet\",\"blueviolet\",\"blueviolet\",\"blueviolet\",\"blueviolet\",\"blueviolet\",\"blueviolet\",\"blueviolet\",\"blueviolet\",\"blueviolet\",\"blueviolet\",\"blueviolet\",\"blueviolet\",\"blueviolet\",\"blueviolet\",\"blueviolet\",\"blueviolet\",\"blueviolet\",\"blueviolet\",\"blueviolet\",\"blueviolet\",\"blueviolet\",\"blueviolet\",\"blueviolet\",\"blueviolet\",\"blueviolet\",\"blueviolet\",\"blueviolet\",\"blueviolet\",\"blueviolet\",\"blueviolet\",\"blueviolet\",\"blueviolet\",\"blueviolet\",\"blueviolet\",\"blueviolet\",\"blueviolet\",\"blueviolet\",\"blueviolet\",\"blueviolet\",\"blueviolet\",\"blueviolet\",\"blueviolet\",\"blueviolet\",\"blueviolet\",\"blueviolet\",\"blueviolet\",\"blueviolet\",\"blueviolet\",\"blueviolet\",\"blueviolet\",\"blueviolet\",\"blueviolet\",\"blueviolet\",\"blueviolet\",\"blueviolet\",\"blueviolet\",\"blueviolet\",\"blueviolet\",\"blueviolet\",\"blueviolet\",\"blueviolet\",\"blueviolet\",\"blueviolet\",\"blueviolet\",\"blueviolet\",\"blueviolet\",\"blueviolet\",\"blueviolet\",\"blueviolet\",\"blueviolet\",\"blueviolet\",\"blueviolet\",\"blueviolet\",\"blueviolet\",\"blueviolet\",\"blueviolet\",\"blueviolet\",\"blueviolet\",\"blueviolet\",\"blueviolet\",\"blueviolet\",\"blueviolet\",\"blueviolet\",\"blueviolet\",\"blueviolet\",\"blueviolet\",\"blueviolet\",\"blueviolet\",\"blueviolet\",\"blueviolet\",\"blueviolet\",\"blueviolet\",\"blueviolet\",\"blueviolet\",\"blueviolet\",\"blueviolet\",\"blueviolet\",\"blueviolet\",\"blueviolet\",\"blueviolet\",\"blueviolet\",\"blueviolet\",\"blueviolet\",\"blueviolet\",\"blueviolet\",\"blueviolet\",\"blueviolet\",\"blueviolet\",\"blueviolet\",\"blueviolet\",\"blueviolet\",\"blueviolet\",\"blueviolet\",\"blueviolet\",\"blueviolet\",\"blueviolet\",\"blueviolet\",\"blueviolet\",\"blueviolet\",\"blueviolet\",\"blueviolet\",\"blueviolet\",\"blueviolet\",\"blueviolet\",\"blueviolet\",\"blueviolet\",\"blueviolet\",\"blueviolet\",\"blueviolet\",\"blueviolet\",\"blueviolet\",\"blueviolet\",\"blueviolet\",\"blueviolet\",\"blueviolet\",\"blueviolet\",\"blueviolet\",\"blueviolet\",\"blueviolet\",\"blueviolet\",\"blueviolet\",\"blueviolet\",\"blueviolet\",\"blueviolet\",\"blueviolet\",\"blueviolet\",\"blueviolet\",\"blueviolet\",\"blueviolet\",\"blueviolet\",\"blueviolet\",\"blueviolet\",\"blueviolet\",\"blueviolet\",\"blueviolet\",\"blueviolet\",\"blueviolet\",\"blueviolet\",\"blueviolet\",\"blueviolet\",\"blueviolet\",\"blueviolet\",\"blueviolet\",\"blueviolet\",\"blueviolet\",\"blueviolet\",\"blueviolet\",\"blueviolet\",\"blueviolet\",\"blueviolet\",\"blueviolet\",\"blueviolet\",\"blueviolet\",\"blueviolet\",\"blueviolet\",\"blueviolet\",\"blueviolet\",\"blueviolet\",\"blueviolet\",\"blueviolet\",\"blueviolet\",\"blueviolet\",\"blueviolet\",\"blueviolet\",\"blueviolet\"],\"token\":[\"p\",\"code\",\"gt\",\"lt\",\"pre\",\"android\",\"string\",\"class\",\"com\",\"java\",\"file\",\"name\",\"error\",\"value\",\"data\",\"using\",\"id\",\"return\",\"function\",\"c\",\"like\",\"want\",\"user\",\"public\",\"python\",\"array\",\"type\",\"text\",\"strong\",\"li\",\"div\",\"list\",\"x\",\"href\",\"html\",\"j\",\"number\",\"import\",\"image\",\"input\",\"void\",\"int\",\"need\",\"work\",\"object\",\"help\",\"line\",\"would\",\"javascript\",\"true\",\"button\",\"print\",\"system\",\"app\",\"time\",\"n\",\"test\",\"php\",\"table\",\"stack\",\"method\",\"h\",\"rel\",\"view\",\"r\",\"result\",\"example\",\"main\",\"org\",\"null\",\"trying\",\"amp\",\"noreferrer\",\"false\",\"e\",\"imgur\",\"else\",\"know\",\"date\",\"png\",\"create\",\"form\",\"please\",\"b\",\"make\",\"server\",\"item\",\"node\",\"find\",\"get\",\"layout\",\"json\",\"following\",\"project\",\"problem\",\"first\",\"output\",\"version\",\"script\",\"content\",\"enter\",\"size\",\"tried\",\"application\",\"column\",\"variable\",\"question\",\"module\",\"private\",\"console\",\"src\",\"google\",\"thanks\",\"page\",\"build\",\"row\",\"select\",\"show\",\"option\",\"react\",\"net\",\"self\",\"change\",\"post\",\"width\",\"database\",\"message\",\"v\",\"index\",\"case\",\"request\",\"working\",\"static\",\"window\",\"query\",\"include\",\"component\",\"element\",\"start\",\"program\",\"td\",\"color\",\"br\",\"log\",\"service\",\"also\",\"call\",\"angular\",\"new\",\"something\",\"io\",\"could\",\"style\",\"key\",\"loop\",\"em\",\"package\",\"path\",\"length\",\"command\",\"height\",\"default\",\"title\",\"add\",\"model\",\"blockquote\",\"img\",\"read\",\"core\",\"password\",\"char\",\"lang\",\"found\",\"getting\",\"px\",\"description\",\"cs\",\"check\",\"write\",\"email\",\"right\",\"studio\",\"count\",\"url\",\"println\",\"word\",\"f\",\"sql\",\"std\",\"display\",\"link\",\"click\",\"label\",\"const\",\"echo\",\"mysql\",\"document\",\"used\",\"state\",\"open\",\"cout\",\"api\",\"different\",\"field\",\"without\",\"jquery\",\"run\",\"library\",\"another\",\"lib\",\"second\",\"response\",\"event\",\"access\",\"issue\",\"possible\",\"double\",\"update\",\"however\",\"support\",\"context\",\"cannot\",\"integer\",\"client\",\"format\",\"var\",\"docker\",\"github\",\"set\",\"running\",\"match\",\"convert\",\"look\",\"ul\",\"answer\",\"header\",\"property\",\"next\",\"span\",\"map\",\"parent\",\"www\",\"swift\",\"wrong\",\"info\",\"exception\",\"py\",\"point\",\"body\",\"activity\",\"simple\",\"solution\",\"printf\",\"anyone\",\"g\",\"last\",\"container\",\"spring\",\"left\",\"source\",\"give\",\"task\",\"order\",\"install\",\"search\",\"action\",\"background\",\"gradle\",\"username\",\"parameter\",\"able\",\"idea\",\"alt\",\"native\",\"group\",\"load\",\"local\",\"position\",\"multiple\",\"created\",\"understand\",\"internal\",\"web\",\"inside\",\"location\",\"character\",\"current\",\"product\",\"statement\",\"login\",\"random\",\"insert\",\"doc\",\"store\",\"even\",\"str\",\"remove\",\"apache\",\"child\",\"snippet\",\"font\",\"col\",\"break\",\"l\",\"dependency\",\"u\",\"status\",\"template\",\"failed\",\"none\",\"part\",\"mean\",\"home\",\"long\",\"reference\",\"range\",\"visual\",\"num\",\"thank\",\"process\",\"nofollow\",\"thing\",\"config\",\"still\",\"folder\",\"every\",\"regex\",\"final\",\"take\",\"w\",\"seems\",\"asp\",\"db\",\"address\",\"intent\",\"jpg\",\"instance\",\"root\",\"tr\",\"one\",\"directory\",\"firebase\",\"step\",\"compile\",\"instead\",\"many\",\"sure\",\"end\",\"execute\",\"connection\",\"pas\",\"ruby\",\"fine\",\"txt\",\"someone\",\"total\",\"float\",\"thread\",\"k\",\"advance\",\"language\",\"close\",\"delete\",\"website\",\"setting\",\"site\",\"args\",\"already\",\"send\",\"tostring\",\"correct\",\"hello\",\"difference\",\"token\",\"tool\",\"control\",\"endl\",\"menu\",\"replace\",\"target\",\"widget\",\"textview\",\"cell\",\"vector\",\"back\",\"export\",\"based\",\"o\",\"connect\",\"called\",\"single\",\"base\",\"given\",\"temp\",\"information\",\"save\",\"head\",\"required\",\"specific\",\"custom\",\"framework\",\"frame\",\"release\",\"session\",\"price\",\"split\",\"contains\",\"func\",\"init\",\"screen\",\"wrap\",\"arraylist\",\"device\",\"tag\",\"center\",\"must\",\"day\",\"done\",\"filter\",\"year\",\"xcode\",\"really\",\"typescript\",\"empty\",\"bundle\",\"util\",\"best\",\"z\",\"linux\",\"xml\",\"argument\",\"findviewbyid\",\"debug\",\"catch\",\"push\",\"max\",\"struct\",\"plugin\",\"constructor\",\"resource\",\"override\",\"foo\",\"warning\",\"extends\",\"syntax\",\"jar\",\"icon\",\"expected\",\"block\",\"re\",\"implement\",\"err\",\"pointer\",\"microsoft\",\"etc\",\"append\",\"bootstrap\",\"browser\",\"btn\",\"super\",\"copy\",\"boolean\",\"activitythread\",\"creating\",\"since\",\"appreciated\",\"memory\",\"auto\",\"require\",\"keep\",\"figure\",\"currently\",\"well\",\"excel\",\"think\",\"val\",\"entry\",\"usr\",\"th\",\"controller\",\"let\",\"always\",\"configuration\",\"looking\",\"mysqli\",\"prop\",\"month\",\"min\",\"operator\",\"developer\",\"account\",\"missing\",\"sort\",\"webpack\",\"much\",\"level\",\"record\",\"player\",\"interface\",\"submit\",\"way\",\"game\",\"student\",\"good\",\"hide\",\"space\",\"join\",\"t\",\"detail\",\"video\",\"throw\",\"ol\",\"boot\",\"tell\",\"attribute\",\"laravel\",\"host\",\"category\",\"seem\",\"top\",\"flutter\",\"go\",\"chrome\",\"springframework\",\"equal\",\"django\",\"math\",\"onclick\",\"border\",\"note\",\"sample\",\"datetime\",\"parse\",\"fetch\",\"expression\",\"installed\",\"arr\",\"route\",\"dp\",\"say\",\"within\",\"alert\",\"permission\",\"anything\",\"added\",\"extension\",\"localhost\",\"nbsp\",\"df\",\"dictionary\",\"byte\",\"panda\",\"fragment\",\"place\",\"reason\",\"letter\",\"margin\",\"feature\",\"environment\",\"filename\",\"exit\",\"ajax\",\"schema\",\"router\",\"invalid\",\"solve\",\"dataframe\",\"defined\",\"switch\",\"define\",\"sum\",\"nothing\",\"scanner\",\"kotlin\",\"move\",\"score\",\"port\",\"bin\",\"use\",\"everything\",\"handler\",\"implementation\",\"phone\",\"structure\",\"testing\",\"begin\",\"play\",\"documentation\",\"section\",\"en\",\"handle\",\"better\",\"undefined\",\"stackoverflow\",\"render\",\"git\",\"machine\",\"cache\",\"condition\",\"stream\",\"unable\",\"learning\",\"q\",\"amount\",\"valid\",\"grid\",\"resolve\",\"basic\",\"side\",\"explain\",\"book\",\"collection\",\"foreach\",\"namespace\",\"come\",\"common\",\"admin\",\"person\",\"compiler\",\"rest\",\"similar\",\"pattern\",\"tensorflow\",\"hour\",\"amazon\",\"oncreate\",\"sheet\",\"available\",\"mode\",\"master\",\"bool\",\"started\",\"going\",\"card\",\"bar\",\"cloud\",\"three\",\"adding\",\"made\",\"padding\",\"scope\",\"put\",\"protected\",\"setup\",\"getelementbyid\",\"spark\",\"contact\",\"reactjs\",\"selected\",\"success\",\"utf\",\"edit\",\"invoke\",\"operation\",\"member\",\"npm\",\"network\",\"counter\",\"active\",\"csv\",\"bottom\",\"box\",\"download\",\"generate\",\"stop\",\"security\",\"apply\",\"full\",\"align\",\"global\",\"vue\",\"dev\",\"auth\",\"us\",\"babel\",\"achieve\",\"either\",\"entity\",\"toast\",\"comment\",\"facebook\",\"generated\",\"unit\",\"rb\",\"repository\",\"writeline\",\"design\",\"lambda\",\"making\",\"clear\",\"programming\",\"execution\",\"tutorial\",\"white\",\"around\",\"savedinstancestate\",\"platform\",\"async\",\"ubuntu\",\"customer\",\"matrix\",\"actually\",\"loader\",\"notification\",\"employee\",\"symbol\",\"edittext\",\"exist\",\"azure\",\"apps\",\"tree\",\"gem\",\"algorithm\",\"settext\",\"batch\",\"upload\",\"bash\",\"weight\",\"prettyprint\",\"mobile\",\"age\",\"checked\",\"textbox\",\"scala\",\"latest\",\"asset\",\"maven\",\"fill\",\"len\",\"showing\",\"domain\",\"rail\",\"hash\",\"curl\",\"md\",\"non\",\"numpy\",\"area\",\"allow\",\"sqlite\",\"obj\",\"cpp\",\"builder\",\"conn\",\"groupid\",\"profile\",\"listview\",\"selenium\",\"hidden\",\"reading\",\"flag\",\"exists\",\"varchar\",\"correctly\",\"driver\",\"kind\",\"standard\",\"artifactid\",\"development\",\"writing\",\"unique\",\"country\",\"dynamic\",\"starting\",\"tab\",\"zero\",\"register\",\"try\",\"city\",\"ui\",\"binary\",\"role\",\"theme\",\"duplicate\",\"article\",\"changed\",\"cli\",\"gettext\",\"written\",\"checkbox\",\"wondering\",\"runtime\",\"building\",\"sender\",\"dont\",\"xmlns\",\"plot\",\"apple\",\"learn\",\"np\",\"branch\",\"rule\",\"approach\",\"digit\",\"primary\",\"mainactivity\",\"maybe\",\"placeholder\",\"recyclerview\",\"material\",\"extract\",\"normal\",\"navigation\",\"real\",\"choice\",\"validation\",\"loading\",\"cursor\",\"unknown\",\"reflect\",\"provider\",\"contain\",\"ng\",\"train\",\"bean\",\"stored\",\"params\",\"storage\",\"tmp\",\"win\",\"calling\",\"aws\",\"picture\",\"named\",\"graph\",\"world\",\"drawable\",\"env\",\"thought\",\"desktop\",\"mm\",\"small\",\"shared\",\"meta\",\"updated\",\"shape\",\"bit\",\"short\",\"tf\",\"might\",\"bind\",\"callback\",\"nested\",\"calculate\",\"automatically\",\"jenkins\",\"oracle\",\"whole\",\"previous\",\"course\",\"compare\",\"provide\",\"yes\",\"buffer\",\"sizeof\",\"layer\",\"certain\",\"suggestion\",\"apk\",\"cant\",\"param\",\"job\",\"red\",\"computer\",\"imageview\",\"zygoteinit\",\"though\",\"dialog\",\"dir\",\"exactly\",\"complete\",\"people\",\"virtual\",\"black\",\"getstring\",\"con\",\"authentication\",\"nav\",\"successfully\",\"properly\",\"generic\",\"shell\",\"remote\",\"logging\",\"socket\",\"promise\",\"dict\",\"company\",\"external\",\"cmd\",\"editor\",\"basically\",\"original\",\"channel\",\"decimal\",\"m\",\"abc\",\"ctx\",\"dd\",\"performance\",\"limit\",\"fa\",\"transform\",\"engine\",\"layoutinflater\",\"whether\",\"report\",\"encoding\",\"crash\",\"constraint\",\"blue\",\"merge\",\"annotation\",\"adapter\",\"medium\",\"present\",\"elif\",\"dist\",\"wordpress\",\"share\",\"mark\",\"redirect\",\"sub\",\"assign\",\"minute\",\"related\",\"sequence\",\"cl\",\"queue\",\"redux\",\"cause\",\"simply\",\"several\",\"exe\",\"msg\",\"definition\",\"javax\",\"drop\",\"await\",\"wanted\",\"firstname\",\"two\",\"disable\",\"separate\",\"never\",\"sign\",\"enable\",\"free\",\"guess\",\"mvc\",\"ch\",\"large\",\"binding\",\"stuff\",\"follows\",\"attempt\",\"expect\",\"scanf\",\"online\",\"eclipse\",\"modal\",\"guide\",\"shown\",\"loaded\",\"draw\",\"express\",\"average\",\"circle\",\"ptr\",\"except\",\"timestamp\",\"easy\",\"exec\",\"behavior\",\"logic\",\"lastname\",\"term\",\"dataset\",\"mail\",\"changing\",\"sdk\",\"calendar\",\"selector\",\"turn\",\"ok\",\"constant\",\"little\",\"visible\",\"particular\",\"worked\",\"le\",\"proxy\",\"existing\",\"iostream\",\"subject\",\"worker\",\"blob\",\"requirement\",\"enabled\",\"seen\"],\"x\":{\"__ndarray__\":\"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\",\"dtype\":\"float32\",\"order\":\"little\",\"shape\":[1000]},\"y\":{\"__ndarray__\":\"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\",\"dtype\":\"float32\",\"order\":\"little\",\"shape\":[1000]}},\"selected\":{\"id\":\"1561\"},\"selection_policy\":{\"id\":\"1560\"}},\"id\":\"1479\",\"type\":\"ColumnDataSource\"},{\"attributes\":{},\"id\":\"1500\",\"type\":\"SaveTool\"},{\"attributes\":{\"active_drag\":\"auto\",\"active_inspect\":\"auto\",\"active_multi\":null,\"active_scroll\":{\"id\":\"1498\"},\"active_tap\":\"auto\",\"tools\":[{\"id\":\"1497\"},{\"id\":\"1498\"},{\"id\":\"1499\"},{\"id\":\"1500\"},{\"id\":\"1501\"},{\"id\":\"1502\"},{\"id\":\"1516\"}]},\"id\":\"1504\",\"type\":\"Toolbar\"},{\"attributes\":{\"data_source\":{\"id\":\"1479\"},\"glyph\":{\"id\":\"1512\"},\"hover_glyph\":null,\"muted_glyph\":null,\"nonselection_glyph\":{\"id\":\"1513\"},\"selection_glyph\":null,\"view\":{\"id\":\"1515\"}},\"id\":\"1514\",\"type\":\"GlyphRenderer\"},{\"attributes\":{},\"id\":\"1501\",\"type\":\"ResetTool\"},{\"attributes\":{},\"id\":\"1502\",\"type\":\"HelpTool\"},{\"attributes\":{},\"id\":\"1481\",\"type\":\"DataRange1d\"},{\"attributes\":{},\"id\":\"1483\",\"type\":\"DataRange1d\"},{\"attributes\":{\"bottom_units\":\"screen\",\"fill_alpha\":0.5,\"fill_color\":\"lightgrey\",\"left_units\":\"screen\",\"level\":\"overlay\",\"line_alpha\":1.0,\"line_color\":\"black\",\"line_dash\":[4,4],\"line_width\":2,\"right_units\":\"screen\",\"top_units\":\"screen\"},\"id\":\"1503\",\"type\":\"BoxAnnotation\"},{\"attributes\":{},\"id\":\"1485\",\"type\":\"LinearScale\"},{\"attributes\":{\"fill_alpha\":{\"value\":0.1},\"fill_color\":{\"field\":\"color\"},\"line_alpha\":{\"value\":0.1},\"line_color\":{\"field\":\"color\"},\"size\":{\"units\":\"screen\",\"value\":10},\"x\":{\"field\":\"x\"},\"y\":{\"field\":\"y\"}},\"id\":\"1513\",\"type\":\"Scatter\"},{\"attributes\":{},\"id\":\"1487\",\"type\":\"LinearScale\"}],\"root_ids\":[\"1480\"]},\"title\":\"Bokeh Application\",\"version\":\"2.1.1\"}};\n",
              "  var render_items = [{\"docid\":\"fdb1668b-dbdc-4b35-9d5d-56691e17204c\",\"root_ids\":[\"1480\"],\"roots\":{\"1480\":\"751a54c8-c12e-4033-b28f-b58fdfe9cf0e\"}}];\n",
              "  root.Bokeh.embed.embed_items_notebook(docs_json, render_items);\n",
              "\n",
              "  }\n",
              "  if (root.Bokeh !== undefined) {\n",
              "    embed_document(root);\n",
              "  } else {\n",
              "    var attempts = 0;\n",
              "    var timer = setInterval(function(root) {\n",
              "      if (root.Bokeh !== undefined) {\n",
              "        clearInterval(timer);\n",
              "        embed_document(root);\n",
              "      } else {\n",
              "        attempts++;\n",
              "        if (attempts > 100) {\n",
              "          clearInterval(timer);\n",
              "          console.log(\"Bokeh: ERROR: Unable to run BokehJS code because BokehJS library is missing\");\n",
              "        }\n",
              "      }\n",
              "    }, 10, root)\n",
              "  }\n",
              "})(window);"
            ],
            "application/vnd.bokehjs_exec.v0+json": ""
          },
          "metadata": {
            "tags": [],
            "application/vnd.bokehjs_exec.v0+json": {
              "id": "1480"
            }
          }
        },
        {
          "output_type": "execute_result",
          "data": {
            "text/html": [
              "<div style=\"display: table;\"><div style=\"display: table-row;\"><div style=\"display: table-cell;\"><b title=\"bokeh.plotting.figure.Figure\">Figure</b>(</div><div style=\"display: table-cell;\">id&nbsp;=&nbsp;'1480', <span id=\"1618\" style=\"cursor: pointer;\">&hellip;)</span></div></div><div class=\"1617\" style=\"display: none;\"><div style=\"display: table-cell;\"></div><div style=\"display: table-cell;\">above&nbsp;=&nbsp;[],</div></div><div class=\"1617\" style=\"display: none;\"><div style=\"display: table-cell;\"></div><div style=\"display: table-cell;\">align&nbsp;=&nbsp;'start',</div></div><div class=\"1617\" style=\"display: none;\"><div style=\"display: table-cell;\"></div><div style=\"display: table-cell;\">aspect_ratio&nbsp;=&nbsp;None,</div></div><div class=\"1617\" style=\"display: none;\"><div style=\"display: table-cell;\"></div><div style=\"display: table-cell;\">aspect_scale&nbsp;=&nbsp;1,</div></div><div class=\"1617\" style=\"display: none;\"><div style=\"display: table-cell;\"></div><div style=\"display: table-cell;\">background&nbsp;=&nbsp;None,</div></div><div class=\"1617\" style=\"display: none;\"><div style=\"display: table-cell;\"></div><div style=\"display: table-cell;\">background_fill_alpha&nbsp;=&nbsp;1.0,</div></div><div class=\"1617\" style=\"display: none;\"><div style=\"display: table-cell;\"></div><div style=\"display: table-cell;\">background_fill_color&nbsp;=&nbsp;'#ffffff',</div></div><div class=\"1617\" style=\"display: none;\"><div style=\"display: table-cell;\"></div><div style=\"display: table-cell;\">below&nbsp;=&nbsp;[LinearAxis(id='1489', ...)],</div></div><div class=\"1617\" style=\"display: none;\"><div style=\"display: table-cell;\"></div><div style=\"display: table-cell;\">border_fill_alpha&nbsp;=&nbsp;1.0,</div></div><div class=\"1617\" style=\"display: none;\"><div style=\"display: table-cell;\"></div><div style=\"display: table-cell;\">border_fill_color&nbsp;=&nbsp;'#ffffff',</div></div><div class=\"1617\" style=\"display: none;\"><div style=\"display: table-cell;\"></div><div style=\"display: table-cell;\">center&nbsp;=&nbsp;[Grid(id='1492', ...), Grid(id='1496', ...)],</div></div><div class=\"1617\" style=\"display: none;\"><div style=\"display: table-cell;\"></div><div style=\"display: table-cell;\">css_classes&nbsp;=&nbsp;[],</div></div><div class=\"1617\" style=\"display: none;\"><div style=\"display: table-cell;\"></div><div style=\"display: table-cell;\">disabled&nbsp;=&nbsp;False,</div></div><div class=\"1617\" style=\"display: none;\"><div style=\"display: table-cell;\"></div><div style=\"display: table-cell;\">extra_x_ranges&nbsp;=&nbsp;{},</div></div><div class=\"1617\" style=\"display: none;\"><div style=\"display: table-cell;\"></div><div style=\"display: table-cell;\">extra_y_ranges&nbsp;=&nbsp;{},</div></div><div class=\"1617\" style=\"display: none;\"><div style=\"display: table-cell;\"></div><div style=\"display: table-cell;\">frame_height&nbsp;=&nbsp;None,</div></div><div class=\"1617\" style=\"display: none;\"><div style=\"display: table-cell;\"></div><div style=\"display: table-cell;\">frame_width&nbsp;=&nbsp;None,</div></div><div class=\"1617\" style=\"display: none;\"><div style=\"display: table-cell;\"></div><div style=\"display: table-cell;\">height&nbsp;=&nbsp;None,</div></div><div class=\"1617\" style=\"display: none;\"><div style=\"display: table-cell;\"></div><div style=\"display: table-cell;\">height_policy&nbsp;=&nbsp;'auto',</div></div><div class=\"1617\" style=\"display: none;\"><div style=\"display: table-cell;\"></div><div style=\"display: table-cell;\">hidpi&nbsp;=&nbsp;True,</div></div><div class=\"1617\" style=\"display: none;\"><div style=\"display: table-cell;\"></div><div style=\"display: table-cell;\">js_event_callbacks&nbsp;=&nbsp;{},</div></div><div class=\"1617\" style=\"display: none;\"><div style=\"display: table-cell;\"></div><div style=\"display: table-cell;\">js_property_callbacks&nbsp;=&nbsp;{},</div></div><div class=\"1617\" style=\"display: none;\"><div style=\"display: table-cell;\"></div><div style=\"display: table-cell;\">left&nbsp;=&nbsp;[LinearAxis(id='1493', ...)],</div></div><div class=\"1617\" style=\"display: none;\"><div style=\"display: table-cell;\"></div><div style=\"display: table-cell;\">lod_factor&nbsp;=&nbsp;10,</div></div><div class=\"1617\" style=\"display: none;\"><div style=\"display: table-cell;\"></div><div style=\"display: table-cell;\">lod_interval&nbsp;=&nbsp;300,</div></div><div class=\"1617\" style=\"display: none;\"><div style=\"display: table-cell;\"></div><div style=\"display: table-cell;\">lod_threshold&nbsp;=&nbsp;2000,</div></div><div class=\"1617\" style=\"display: none;\"><div style=\"display: table-cell;\"></div><div style=\"display: table-cell;\">lod_timeout&nbsp;=&nbsp;500,</div></div><div class=\"1617\" style=\"display: none;\"><div style=\"display: table-cell;\"></div><div style=\"display: table-cell;\">margin&nbsp;=&nbsp;(0, 0, 0, 0),</div></div><div class=\"1617\" style=\"display: none;\"><div style=\"display: table-cell;\"></div><div style=\"display: table-cell;\">match_aspect&nbsp;=&nbsp;False,</div></div><div class=\"1617\" style=\"display: none;\"><div style=\"display: table-cell;\"></div><div style=\"display: table-cell;\">max_height&nbsp;=&nbsp;None,</div></div><div class=\"1617\" style=\"display: none;\"><div style=\"display: table-cell;\"></div><div style=\"display: table-cell;\">max_width&nbsp;=&nbsp;None,</div></div><div class=\"1617\" style=\"display: none;\"><div style=\"display: table-cell;\"></div><div style=\"display: table-cell;\">min_border&nbsp;=&nbsp;5,</div></div><div class=\"1617\" style=\"display: none;\"><div style=\"display: table-cell;\"></div><div style=\"display: table-cell;\">min_border_bottom&nbsp;=&nbsp;None,</div></div><div class=\"1617\" style=\"display: none;\"><div style=\"display: table-cell;\"></div><div style=\"display: table-cell;\">min_border_left&nbsp;=&nbsp;None,</div></div><div class=\"1617\" style=\"display: none;\"><div style=\"display: table-cell;\"></div><div style=\"display: table-cell;\">min_border_right&nbsp;=&nbsp;None,</div></div><div class=\"1617\" style=\"display: none;\"><div style=\"display: table-cell;\"></div><div style=\"display: table-cell;\">min_border_top&nbsp;=&nbsp;None,</div></div><div class=\"1617\" style=\"display: none;\"><div style=\"display: table-cell;\"></div><div style=\"display: table-cell;\">min_height&nbsp;=&nbsp;None,</div></div><div class=\"1617\" style=\"display: none;\"><div style=\"display: table-cell;\"></div><div style=\"display: table-cell;\">min_width&nbsp;=&nbsp;None,</div></div><div class=\"1617\" style=\"display: none;\"><div style=\"display: table-cell;\"></div><div style=\"display: table-cell;\">name&nbsp;=&nbsp;None,</div></div><div class=\"1617\" style=\"display: none;\"><div style=\"display: table-cell;\"></div><div style=\"display: table-cell;\">outline_line_alpha&nbsp;=&nbsp;1.0,</div></div><div class=\"1617\" style=\"display: none;\"><div style=\"display: table-cell;\"></div><div style=\"display: table-cell;\">outline_line_cap&nbsp;=&nbsp;'butt',</div></div><div class=\"1617\" style=\"display: none;\"><div style=\"display: table-cell;\"></div><div style=\"display: table-cell;\">outline_line_color&nbsp;=&nbsp;'#e5e5e5',</div></div><div class=\"1617\" style=\"display: none;\"><div style=\"display: table-cell;\"></div><div style=\"display: table-cell;\">outline_line_dash&nbsp;=&nbsp;[],</div></div><div class=\"1617\" style=\"display: none;\"><div style=\"display: table-cell;\"></div><div style=\"display: table-cell;\">outline_line_dash_offset&nbsp;=&nbsp;0,</div></div><div class=\"1617\" style=\"display: none;\"><div style=\"display: table-cell;\"></div><div style=\"display: table-cell;\">outline_line_join&nbsp;=&nbsp;'bevel',</div></div><div class=\"1617\" style=\"display: none;\"><div style=\"display: table-cell;\"></div><div style=\"display: table-cell;\">outline_line_width&nbsp;=&nbsp;1,</div></div><div class=\"1617\" style=\"display: none;\"><div style=\"display: table-cell;\"></div><div style=\"display: table-cell;\">output_backend&nbsp;=&nbsp;'canvas',</div></div><div class=\"1617\" style=\"display: none;\"><div style=\"display: table-cell;\"></div><div style=\"display: table-cell;\">plot_height&nbsp;=&nbsp;400,</div></div><div class=\"1617\" style=\"display: none;\"><div style=\"display: table-cell;\"></div><div style=\"display: table-cell;\">plot_width&nbsp;=&nbsp;500,</div></div><div class=\"1617\" style=\"display: none;\"><div style=\"display: table-cell;\"></div><div style=\"display: table-cell;\">renderers&nbsp;=&nbsp;[GlyphRenderer(id='1514', ...)],</div></div><div class=\"1617\" style=\"display: none;\"><div style=\"display: table-cell;\"></div><div style=\"display: table-cell;\">reset_policy&nbsp;=&nbsp;'standard',</div></div><div class=\"1617\" style=\"display: none;\"><div style=\"display: table-cell;\"></div><div style=\"display: table-cell;\">right&nbsp;=&nbsp;[],</div></div><div class=\"1617\" style=\"display: none;\"><div style=\"display: table-cell;\"></div><div style=\"display: table-cell;\">sizing_mode&nbsp;=&nbsp;None,</div></div><div class=\"1617\" style=\"display: none;\"><div style=\"display: table-cell;\"></div><div style=\"display: table-cell;\">subscribed_events&nbsp;=&nbsp;[],</div></div><div class=\"1617\" style=\"display: none;\"><div style=\"display: table-cell;\"></div><div style=\"display: table-cell;\">tags&nbsp;=&nbsp;[],</div></div><div class=\"1617\" style=\"display: none;\"><div style=\"display: table-cell;\"></div><div style=\"display: table-cell;\">title&nbsp;=&nbsp;Title(id='1554', ...),</div></div><div class=\"1617\" style=\"display: none;\"><div style=\"display: table-cell;\"></div><div style=\"display: table-cell;\">title_location&nbsp;=&nbsp;'above',</div></div><div class=\"1617\" style=\"display: none;\"><div style=\"display: table-cell;\"></div><div style=\"display: table-cell;\">toolbar&nbsp;=&nbsp;Toolbar(id='1504', ...),</div></div><div class=\"1617\" style=\"display: none;\"><div style=\"display: table-cell;\"></div><div style=\"display: table-cell;\">toolbar_location&nbsp;=&nbsp;'right',</div></div><div class=\"1617\" style=\"display: none;\"><div style=\"display: table-cell;\"></div><div style=\"display: table-cell;\">toolbar_sticky&nbsp;=&nbsp;True,</div></div><div class=\"1617\" style=\"display: none;\"><div style=\"display: table-cell;\"></div><div style=\"display: table-cell;\">visible&nbsp;=&nbsp;True,</div></div><div class=\"1617\" style=\"display: none;\"><div style=\"display: table-cell;\"></div><div style=\"display: table-cell;\">width&nbsp;=&nbsp;None,</div></div><div class=\"1617\" style=\"display: none;\"><div style=\"display: table-cell;\"></div><div style=\"display: table-cell;\">width_policy&nbsp;=&nbsp;'auto',</div></div><div class=\"1617\" style=\"display: none;\"><div style=\"display: table-cell;\"></div><div style=\"display: table-cell;\">x_range&nbsp;=&nbsp;DataRange1d(id='1481', ...),</div></div><div class=\"1617\" style=\"display: none;\"><div style=\"display: table-cell;\"></div><div style=\"display: table-cell;\">x_scale&nbsp;=&nbsp;LinearScale(id='1485', ...),</div></div><div class=\"1617\" style=\"display: none;\"><div style=\"display: table-cell;\"></div><div style=\"display: table-cell;\">y_range&nbsp;=&nbsp;DataRange1d(id='1483', ...),</div></div><div class=\"1617\" style=\"display: none;\"><div style=\"display: table-cell;\"></div><div style=\"display: table-cell;\">y_scale&nbsp;=&nbsp;LinearScale(id='1487', ...))</div></div></div>\n",
              "<script>\n",
              "(function() {\n",
              "  var expanded = false;\n",
              "  var ellipsis = document.getElementById(\"1618\");\n",
              "  ellipsis.addEventListener(\"click\", function() {\n",
              "    var rows = document.getElementsByClassName(\"1617\");\n",
              "    for (var i = 0; i < rows.length; i++) {\n",
              "      var el = rows[i];\n",
              "      el.style.display = expanded ? \"none\" : \"table-row\";\n",
              "    }\n",
              "    ellipsis.innerHTML = expanded ? \"&hellip;)\" : \"&lsaquo;&lsaquo;&lsaquo;\";\n",
              "    expanded = !expanded;\n",
              "  });\n",
              "})();\n",
              "</script>\n"
            ],
            "text/plain": [
              "Figure(id='1480', ...)"
            ]
          },
          "metadata": {
            "tags": []
          },
          "execution_count": 53
        }
      ]
    },
    {
      "cell_type": "code",
      "metadata": {
        "id": "xzA4nPk5Lygq"
      },
      "source": [
        "X_train, X_test, y_train, y_test = train_test_split(\n",
        "    own_ft_train_vectors, \n",
        "    target, \n",
        "    test_size=0.25, \n",
        "    random_state=42)"
      ],
      "execution_count": null,
      "outputs": []
    },
    {
      "cell_type": "markdown",
      "metadata": {
        "id": "aE_CJmf_G41p"
      },
      "source": [
        "*KNN*"
      ]
    },
    {
      "cell_type": "code",
      "metadata": {
        "id": "DWZv6NpkL09w"
      },
      "source": [
        "gs = GridSearchCV(KNeighborsClassifier(), param_grid={\n",
        "    'n_neighbors': range(1, 20)}, \n",
        "    cv=5)\n",
        "gs.fit(own_ft_train_vectors, target)\n",
        "gs.best_score_, gs.best_params_\n",
        "\n",
        "knn = KNeighborsClassifier(**gs.best_params_).fit(X_train, y_train)\n",
        "\n",
        "acc_train = np.mean(knn.predict(X_train) == y_train)\n",
        "print(f\"Train Accuracy {acc_train}\")\n",
        "acc_test = np.mean(knn.predict(X_test) == y_test)\n",
        "print(f\"Test Accuracy {acc_test}\")\n",
        "\n",
        "# Train Accuracy 0.89, Test Accuracy 0.84"
      ],
      "execution_count": null,
      "outputs": []
    },
    {
      "cell_type": "markdown",
      "metadata": {
        "id": "G-Ya5sznHBiA"
      },
      "source": [
        "*SVM*"
      ]
    },
    {
      "cell_type": "code",
      "metadata": {
        "id": "tKicVUdoHCmw"
      },
      "source": [
        "clf = SVC()\n",
        "clf.fit(X_train, y_train)\n",
        "\n",
        "acc_train = np.mean(clf.predict(X_train) == y_train)\n",
        "print(f\"Train Accuracy {acc_train}\")\n",
        "acc_test = np.mean(clf.predict(X_test) == y_test)\n",
        "print(f\"Test Accuracy {acc_test}\")\n",
        "\n",
        "# Train Accuracy 0.88, Test Accuracy 0.87"
      ],
      "execution_count": null,
      "outputs": []
    },
    {
      "cell_type": "markdown",
      "metadata": {
        "id": "XgwI9PteHH-P"
      },
      "source": [
        "*Random Forest*"
      ]
    },
    {
      "cell_type": "code",
      "metadata": {
        "id": "SGeEpQfPHMmY"
      },
      "source": [
        "parameters = {'n_estimators': [5, 10, 15, 20, 25, 30], \n",
        "              'criterion': ['entropy', 'gini'],\n",
        "              'max_depth': range(1, 20)\n",
        "             }\n",
        "gs = GridSearchCV(RandomForestClassifier(), parameters)\n",
        "gs.fit(own_ft_train_vectors, target)\n",
        "gs.best_score_, gs.best_params_\n",
        "\n",
        "rdmf = RandomForestClassifier(**gs.best_params_)\n",
        "rdmf.fit(X_train, y_train)\n",
        "\n",
        "acc_train = np.mean(rdmf.predict(X_train) == y_train)\n",
        "print(f\"Train Accuracy {acc_train}\")\n",
        "acc_test = np.mean(rdmf.predict(X_test) == y_test)\n",
        "print(f\"Test Accuracy {acc_test}\")\n",
        "\n",
        "# Train Accuracy 1.0, Test Accuracy 0.859"
      ],
      "execution_count": null,
      "outputs": []
    },
    {
      "cell_type": "markdown",
      "metadata": {
        "id": "ihRReca6HUsH"
      },
      "source": [
        "*Decision tree*"
      ]
    },
    {
      "cell_type": "code",
      "metadata": {
        "id": "BTWKiNS8HXsv"
      },
      "source": [
        "parameters = {'criterion': [\"gini\", \"entropy\"], \n",
        "              'max_depth': range(1, 10),\n",
        "              'min_samples_leaf': range(2, 10)\n",
        "             }\n",
        "gs = GridSearchCV(DecisionTreeClassifier(), parameters)\n",
        "gs.fit(own_ft_train_vectors, target)\n",
        "gs.best_score_, gs.best_params_\n",
        "\n",
        "dtc = DecisionTreeClassifier(**gs.best_params_)\n",
        "dtc.fit(X_train, y_train)\n",
        "\n",
        "acc_train = np.mean(dtc.predict(X_train) == y_train)\n",
        "print(f\"Train Accuracy {acc_train}\")\n",
        "acc_test = np.mean(dtc.predict(X_test) == y_test)\n",
        "print(f\"Test Accuracy {acc_test}\")\n",
        "\n",
        "# Train Accuracy 1.0, Test Accuracy 0.77"
      ],
      "execution_count": null,
      "outputs": []
    },
    {
      "cell_type": "markdown",
      "metadata": {
        "id": "_NqTsEj5HpiH"
      },
      "source": [
        "*Boosting*"
      ]
    },
    {
      "cell_type": "code",
      "metadata": {
        "id": "gzW8rAFzHu4C"
      },
      "source": [
        "ada_boost = AdaBoostClassifier(dtc)\n",
        "ada_boost.fit(X_train, y_train)\n",
        "\n",
        "acc_train = np.mean(ada_boost.predict(X_train) == y_train)\n",
        "print(f\"Train Accuracy {acc_train}\")\n",
        "acc_test = np.mean(ada_boost.predict(X_test) == y_test)\n",
        "print(f\"Test Accuracy {acc_test}\")\n",
        "\n",
        "# Train Accuracy 0.79, Test Accuracy 0.79"
      ],
      "execution_count": null,
      "outputs": []
    },
    {
      "cell_type": "markdown",
      "metadata": {
        "id": "oby93IuFHzBZ"
      },
      "source": [
        "*Bagging*"
      ]
    },
    {
      "cell_type": "code",
      "metadata": {
        "id": "_BDquq7hH1Sr"
      },
      "source": [
        "bclf = BaggingClassifier()\n",
        "bclf.fit(X_train, y_train)\n",
        "\n",
        "acc_train = np.mean(bclf.predict(X_train) == y_train)\n",
        "print(f\"Train Accuracy {acc_train}\")\n",
        "\n",
        "acc_test = np.mean(bclf.predict(X_test) == y_test)\n",
        "print(f\"Test Accuracy {acc_test}\")\n",
        "\n",
        "# Train Accuracy 0.99, Test Accuracy 0.83"
      ],
      "execution_count": null,
      "outputs": []
    },
    {
      "cell_type": "markdown",
      "metadata": {
        "id": "jFS0cZ0JkDBK"
      },
      "source": [
        "**Вывод:** Результаты оказались близки к Word2Vec, но FastText оказался лучше"
      ]
    },
    {
      "cell_type": "markdown",
      "metadata": {
        "id": "TBlZ9fH175Ph"
      },
      "source": [
        "**TD-IDF**"
      ]
    },
    {
      "cell_type": "code",
      "metadata": {
        "id": "AtFPvN8p8zkp"
      },
      "source": [
        "tf_idf = TfidfVectorizer()\n",
        "tf_idf_vectors_train = tf_idf.fit_transform(train['str'])\n",
        "tf_idf_vectors_test = tf_idf.transform(test['str'])"
      ],
      "execution_count": null,
      "outputs": []
    },
    {
      "cell_type": "code",
      "metadata": {
        "id": "-F-L8e6683Ki"
      },
      "source": [
        "X_train, X_test, y_train, y_test = train_test_split(tf_idf_vectors_train, target, test_size=0.2, random_state=42)"
      ],
      "execution_count": null,
      "outputs": []
    },
    {
      "cell_type": "markdown",
      "metadata": {
        "id": "58Gl1BsyIHMy"
      },
      "source": [
        "*KNN*"
      ]
    },
    {
      "cell_type": "code",
      "metadata": {
        "id": "GHyjcVwZIK0q"
      },
      "source": [
        "gs = GridSearchCV(KNeighborsClassifier(), param_grid={ \n",
        "    'n_neighbors': range(1, 20)}, \n",
        "    cv=5)\n",
        "gs.fit(tf_idf_vectors_train, target)\n",
        "gs.best_score_, gs.best_params_ \n",
        "\n",
        "knn = KNeighborsClassifier(**gs.best_params_).fit(X_train, y_train)\n",
        "acc_train = np.mean(knn.predict(X_train) == y_train)\n",
        "print(f\"Train Accuracy {acc_train}\")\n",
        "acc_test = np.mean(knn.predict(X_test) == y_test)\n",
        "print(f\"Test Accuracy {acc_test}\")\n",
        "\n",
        "# Train Accuracy 0.73 Test Accuracy 0.61"
      ],
      "execution_count": null,
      "outputs": []
    },
    {
      "cell_type": "markdown",
      "metadata": {
        "id": "qE7azw-vILke"
      },
      "source": [
        "*SVM*"
      ]
    },
    {
      "cell_type": "code",
      "metadata": {
        "id": "M8C7Rpw6INYd"
      },
      "source": [
        "clf = SVC()\n",
        "clf.fit(X_train, y_train)\n",
        "\n",
        "acc_train = np.mean(clf.predict(X_train) == y_train)\n",
        "print(f\"Train Accuracy {acc_train}\")\n",
        "acc_test = np.mean(clf.predict(X_test) == y_test)\n",
        "print(f\"Test Accuracy {acc_test}\")\n",
        "\n",
        "# Train Accuracy 0.97 Test Accuracy 0.81"
      ],
      "execution_count": null,
      "outputs": []
    },
    {
      "cell_type": "markdown",
      "metadata": {
        "id": "ziJ_iT18IQj-"
      },
      "source": [
        "*Random Forest*"
      ]
    },
    {
      "cell_type": "code",
      "metadata": {
        "id": "-aRFvDfyITv9"
      },
      "source": [
        "parameters = {'n_estimators': [5, 10, 15, 20, 25, 30], \n",
        "              'criterion': ['entropy', 'gini'],\n",
        "              'max_depth': range(1, 20)\n",
        "             }\n",
        "\n",
        "gs = GridSearchCV(RandomForestClassifier(), parameters)\n",
        "gs.fit(tf_idf_vectors_train, target)\n",
        "gs.best_score_, gs.best_params_ \n",
        "\n",
        "rdmf = RandomForestClassifier(**gs.best_params_)\n",
        "rdmf.fit(X_train, y_train)\n",
        "\n",
        "acc_train = np.mean(rdmf.predict(X_train) == y_train)\n",
        "print(f\"Train Accuracy {acc_train}\")\n",
        "acc_test = np.mean(rdmf.predict(X_test) == y_test)\n",
        "print(f\"Test Accuracy {acc_test}\")\n",
        "\n",
        "# Train Accuracy 1.0 Test Accuracy 0.80"
      ],
      "execution_count": null,
      "outputs": []
    },
    {
      "cell_type": "markdown",
      "metadata": {
        "id": "YF5qHHiHIV45"
      },
      "source": [
        "*Decision tree*"
      ]
    },
    {
      "cell_type": "code",
      "metadata": {
        "id": "7JVdeVM5IYT-"
      },
      "source": [
        "parameters = {'criterion': [\"gini\", \"entropy\"], \n",
        "              'max_depth': range(1, 10),\n",
        "              'min_samples_leaf': range(2, 10)\n",
        "             }\n",
        "\n",
        "gs = GridSearchCV(DecisionTreeClassifier(), parameters)\n",
        "gs.fit(tf_idf_vectors_train, target)\n",
        "gs.best_score_, gs.best_params_ \n",
        "# 0.53, {'criterion': 'entropy', 'max_depth': 9, 'min_samples_leaf': 7}\n",
        "\n",
        "dtc = DecisionTreeClassifier(**gs.best_params_)\n",
        "dtc.fit(X_train, y_train)\n",
        "\n",
        "acc_train = np.mean(dtc.predict(X_train) == y_train)\n",
        "print(f\"Train Accuracy {acc_train}\")\n",
        "acc_test = np.mean(dtc.predict(X_test) == y_test)\n",
        "print(f\"Test Accuracy {acc_test}\")\n",
        "\n",
        "# Train Accuracy 1.0 Test Accuracy 0.74"
      ],
      "execution_count": null,
      "outputs": []
    },
    {
      "cell_type": "markdown",
      "metadata": {
        "id": "gYoDVL4GIaoV"
      },
      "source": [
        "*Boosting*"
      ]
    },
    {
      "cell_type": "code",
      "metadata": {
        "id": "SCEQYyiOIcRw"
      },
      "source": [
        "ada_boost = AdaBoostClassifier(dtc)\n",
        "ada_boost.fit(X_train, y_train)\n",
        "\n",
        "acc_train = np.mean(ada_boost.predict(X_train) == y_train)\n",
        "print(f\"Train Accuracy {acc_train}\")\n",
        "acc_test = np.mean(ada_boost.predict(X_test) == y_test)\n",
        "print(f\"Test Accuracy {acc_test}\")\n",
        "\n",
        "# Train Accuracy 0.74 Test Accuracy 0.74"
      ],
      "execution_count": null,
      "outputs": []
    },
    {
      "cell_type": "markdown",
      "metadata": {
        "id": "7aR65suqIeT_"
      },
      "source": [
        "*Bagging*"
      ]
    },
    {
      "cell_type": "code",
      "metadata": {
        "id": "snv2KXZuIfqr"
      },
      "source": [
        "bclf = BaggingClassifier()\n",
        "bclf.fit(X_train, y_train)\n",
        "\n",
        "acc_train = np.mean(bclf.predict(X_train) == y_train)\n",
        "print(f\"Train Accuracy {acc_train}\")\n",
        "acc_test = np.mean(bclf.predict(X_test) == y_test)\n",
        "print(f\"Test Accuracy {acc_test}\")\n",
        "\n",
        "# Train Accuracy 0.99 Test Accuracy 0.78"
      ],
      "execution_count": null,
      "outputs": []
    },
    {
      "cell_type": "markdown",
      "metadata": {
        "id": "55k0KEeMlZgb"
      },
      "source": [
        "**Вывод:** Данный алгоритм дал неплохие результаты, перед подсчетом мы думали,что данная модель окажется лучше остальных, так как от \"важных\" слов (слов с высоким приоритетом, например \"советую/решил\") может зависеть категория вопроса, но FastText  справился с заданной задачей лучше"
      ]
    },
    {
      "cell_type": "markdown",
      "metadata": {
        "id": "0C7ZrDVkHS75"
      },
      "source": [
        "**Нейронная сеть**"
      ]
    },
    {
      "cell_type": "code",
      "metadata": {
        "id": "MjBKgyKVHWop"
      },
      "source": [
        "X_train, X_test, y_train, y_test = train_test_split(train.str.values, target, \n",
        "                                                  stratify=target, \n",
        "                                                  random_state=42, \n",
        "                                                  test_size=0.1, shuffle=True)"
      ],
      "execution_count": 22,
      "outputs": []
    },
    {
      "cell_type": "code",
      "metadata": {
        "id": "kakgCLwgH52T"
      },
      "source": [
        "tokenizer = text.Tokenizer(num_words=None)\n",
        "max_len = 70\n",
        "tokenizer.fit_on_texts(list(X_train)+list(X_test)) #заполняем словарь\n",
        "X_train_seq = tokenizer.texts_to_sequences(X_train) #преобразуем текст в последовательность чисел\n",
        "X_test_seq = tokenizer.texts_to_sequences(X_test)\n",
        "X_train_pad = sequence.pad_sequences(X_train_seq, maxlen=max_len)#преобразуем к последовательностям одинаковой длины\n",
        "X_test_pad = sequence.pad_sequences(X_test_seq, maxlen=max_len)\n",
        "word_index = tokenizer.word_index"
      ],
      "execution_count": 23,
      "outputs": []
    },
    {
      "cell_type": "code",
      "metadata": {
        "colab": {
          "base_uri": "https://localhost:8080/"
        },
        "id": "eC0ffd47HRuL",
        "outputId": "315c05d2-2de2-4e74-babf-b11c3ca87fda"
      },
      "source": [
        "model = Sequential()\n",
        "model.add(Embedding(len(word_index) + 1, #добавляем ветктора\n",
        "                     300,\n",
        "                     input_length=max_len,\n",
        "                     trainable=False))\n",
        "model.add(SpatialDropout1D(0.3)) #отсев\n",
        "model.add(LSTM(100, dropout=0.3, recurrent_dropout=0.3)) #добавляем слой short-term памяти\n",
        "\n",
        "model.add(Dense(1024, activation='relu'))\n",
        "model.add(Dropout(0.8))\n",
        "\n",
        "model.add(Dense(1024, activation='relu'))\n",
        "model.add(Dropout(0.8))\n",
        "\n",
        "model.add(Dense(3))\n",
        "model.add(Activation('softmax')) # активация\n",
        "model.compile(loss='categorical_crossentropy', optimizer='adam',metrics=['accuracy']) #настройка модели для обучения\n",
        "model.summary()"
      ],
      "execution_count": 24,
      "outputs": [
        {
          "output_type": "stream",
          "text": [
            "Model: \"sequential\"\n",
            "_________________________________________________________________\n",
            "Layer (type)                 Output Shape              Param #   \n",
            "=================================================================\n",
            "embedding (Embedding)        (None, 70, 300)           41575800  \n",
            "_________________________________________________________________\n",
            "spatial_dropout1d (SpatialDr (None, 70, 300)           0         \n",
            "_________________________________________________________________\n",
            "lstm (LSTM)                  (None, 100)               160400    \n",
            "_________________________________________________________________\n",
            "dense (Dense)                (None, 1024)              103424    \n",
            "_________________________________________________________________\n",
            "dropout (Dropout)            (None, 1024)              0         \n",
            "_________________________________________________________________\n",
            "dense_1 (Dense)              (None, 1024)              1049600   \n",
            "_________________________________________________________________\n",
            "dropout_1 (Dropout)          (None, 1024)              0         \n",
            "_________________________________________________________________\n",
            "dense_2 (Dense)              (None, 3)                 3075      \n",
            "_________________________________________________________________\n",
            "activation (Activation)      (None, 3)                 0         \n",
            "=================================================================\n",
            "Total params: 42,892,299\n",
            "Trainable params: 1,316,499\n",
            "Non-trainable params: 41,575,800\n",
            "_________________________________________________________________\n"
          ],
          "name": "stdout"
        }
      ]
    },
    {
      "cell_type": "code",
      "metadata": {
        "id": "BCnmYFoyH-dA"
      },
      "source": [
        "y_train_enc = np_utils.to_categorical(y_train) #преобразуем вектор в матрицу\n",
        "y_test_enc = np_utils.to_categorical(y_test)"
      ],
      "execution_count": 25,
      "outputs": []
    },
    {
      "cell_type": "code",
      "metadata": {
        "id": "iX_5F-LhIDyp"
      },
      "source": [
        "import tensorflow   #callback для остановки тренировки\n",
        "es = tensorflow.keras.callbacks.EarlyStopping(\n",
        "    monitor='val_loss', min_delta=0, patience=5, verbose=0, mode='min',\n",
        "    baseline=None, restore_best_weights=True\n",
        ")\n",
        "callbacks = [es]"
      ],
      "execution_count": 26,
      "outputs": []
    },
    {
      "cell_type": "code",
      "metadata": {
        "colab": {
          "base_uri": "https://localhost:8080/"
        },
        "id": "B_mKPyWwIF6C",
        "outputId": "a0b8e66a-0006-4ac9-ae46-abb4d8066180"
      },
      "source": [
        "history = model.fit(X_train_pad,y_train_enc, batch_size=512, epochs=40, verbose=1, validation_data=(X_test_pad, y_test_enc),callbacks=callbacks)"
      ],
      "execution_count": 27,
      "outputs": [
        {
          "output_type": "stream",
          "text": [
            "Epoch 1/40\n",
            "85/85 [==============================] - 135s 2s/step - loss: 0.6357 - accuracy: 0.6691 - val_loss: 0.3838 - val_accuracy: 0.8263\n",
            "Epoch 2/40\n",
            "85/85 [==============================] - 141s 2s/step - loss: 0.4229 - accuracy: 0.8100 - val_loss: 0.3288 - val_accuracy: 0.8506\n",
            "Epoch 3/40\n",
            "85/85 [==============================] - 135s 2s/step - loss: 0.3851 - accuracy: 0.8299 - val_loss: 0.3123 - val_accuracy: 0.8600\n",
            "Epoch 4/40\n",
            "85/85 [==============================] - 136s 2s/step - loss: 0.3636 - accuracy: 0.8407 - val_loss: 0.3118 - val_accuracy: 0.8660\n",
            "Epoch 5/40\n",
            "85/85 [==============================] - 136s 2s/step - loss: 0.3475 - accuracy: 0.8479 - val_loss: 0.2929 - val_accuracy: 0.8685\n",
            "Epoch 6/40\n",
            "85/85 [==============================] - 134s 2s/step - loss: 0.3411 - accuracy: 0.8518 - val_loss: 0.2841 - val_accuracy: 0.8752\n",
            "Epoch 7/40\n",
            "85/85 [==============================] - 135s 2s/step - loss: 0.3293 - accuracy: 0.8564 - val_loss: 0.2847 - val_accuracy: 0.8727\n",
            "Epoch 8/40\n",
            "85/85 [==============================] - 135s 2s/step - loss: 0.3202 - accuracy: 0.8615 - val_loss: 0.2737 - val_accuracy: 0.8825\n",
            "Epoch 9/40\n",
            "85/85 [==============================] - 135s 2s/step - loss: 0.3162 - accuracy: 0.8642 - val_loss: 0.2680 - val_accuracy: 0.8848\n",
            "Epoch 10/40\n",
            "85/85 [==============================] - 135s 2s/step - loss: 0.3082 - accuracy: 0.8656 - val_loss: 0.2655 - val_accuracy: 0.8838\n",
            "Epoch 11/40\n",
            "85/85 [==============================] - 134s 2s/step - loss: 0.3003 - accuracy: 0.8704 - val_loss: 0.2643 - val_accuracy: 0.8871\n",
            "Epoch 12/40\n",
            "85/85 [==============================] - 135s 2s/step - loss: 0.2939 - accuracy: 0.8736 - val_loss: 0.2495 - val_accuracy: 0.8908\n",
            "Epoch 13/40\n",
            "85/85 [==============================] - 134s 2s/step - loss: 0.2896 - accuracy: 0.8780 - val_loss: 0.2471 - val_accuracy: 0.8960\n",
            "Epoch 14/40\n",
            "85/85 [==============================] - 135s 2s/step - loss: 0.2780 - accuracy: 0.8808 - val_loss: 0.2498 - val_accuracy: 0.8906\n",
            "Epoch 15/40\n",
            "85/85 [==============================] - 134s 2s/step - loss: 0.2691 - accuracy: 0.8871 - val_loss: 0.2433 - val_accuracy: 0.8942\n",
            "Epoch 16/40\n",
            "85/85 [==============================] - 135s 2s/step - loss: 0.2634 - accuracy: 0.8886 - val_loss: 0.2345 - val_accuracy: 0.9010\n",
            "Epoch 17/40\n",
            "85/85 [==============================] - 138s 2s/step - loss: 0.2615 - accuracy: 0.8890 - val_loss: 0.2328 - val_accuracy: 0.9010\n",
            "Epoch 18/40\n",
            "85/85 [==============================] - 134s 2s/step - loss: 0.2545 - accuracy: 0.8930 - val_loss: 0.2290 - val_accuracy: 0.9004\n",
            "Epoch 19/40\n",
            "85/85 [==============================] - 136s 2s/step - loss: 0.2539 - accuracy: 0.8922 - val_loss: 0.2248 - val_accuracy: 0.9038\n",
            "Epoch 20/40\n",
            "85/85 [==============================] - 134s 2s/step - loss: 0.2480 - accuracy: 0.8945 - val_loss: 0.2216 - val_accuracy: 0.9062\n",
            "Epoch 21/40\n",
            "85/85 [==============================] - 135s 2s/step - loss: 0.2475 - accuracy: 0.8969 - val_loss: 0.2235 - val_accuracy: 0.9046\n",
            "Epoch 22/40\n",
            "85/85 [==============================] - 134s 2s/step - loss: 0.2420 - accuracy: 0.8976 - val_loss: 0.2308 - val_accuracy: 0.8992\n",
            "Epoch 23/40\n",
            "85/85 [==============================] - 134s 2s/step - loss: 0.2403 - accuracy: 0.8985 - val_loss: 0.2241 - val_accuracy: 0.9040\n",
            "Epoch 24/40\n",
            "85/85 [==============================] - 136s 2s/step - loss: 0.2360 - accuracy: 0.9013 - val_loss: 0.2209 - val_accuracy: 0.9054\n",
            "Epoch 25/40\n",
            "85/85 [==============================] - 134s 2s/step - loss: 0.2336 - accuracy: 0.9014 - val_loss: 0.2198 - val_accuracy: 0.9044\n",
            "Epoch 26/40\n",
            "85/85 [==============================] - 137s 2s/step - loss: 0.2325 - accuracy: 0.9038 - val_loss: 0.2190 - val_accuracy: 0.9046\n",
            "Epoch 27/40\n",
            "85/85 [==============================] - 134s 2s/step - loss: 0.2292 - accuracy: 0.9040 - val_loss: 0.2190 - val_accuracy: 0.9056\n",
            "Epoch 28/40\n",
            "85/85 [==============================] - 136s 2s/step - loss: 0.2275 - accuracy: 0.9036 - val_loss: 0.2170 - val_accuracy: 0.9052\n",
            "Epoch 29/40\n",
            "85/85 [==============================] - 134s 2s/step - loss: 0.2236 - accuracy: 0.9056 - val_loss: 0.2168 - val_accuracy: 0.9056\n",
            "Epoch 30/40\n",
            "85/85 [==============================] - 136s 2s/step - loss: 0.2251 - accuracy: 0.9068 - val_loss: 0.2171 - val_accuracy: 0.9075\n",
            "Epoch 31/40\n",
            "85/85 [==============================] - 137s 2s/step - loss: 0.2210 - accuracy: 0.9074 - val_loss: 0.2178 - val_accuracy: 0.9100\n",
            "Epoch 32/40\n",
            "85/85 [==============================] - 134s 2s/step - loss: 0.2205 - accuracy: 0.9077 - val_loss: 0.2163 - val_accuracy: 0.9069\n",
            "Epoch 33/40\n",
            "85/85 [==============================] - 136s 2s/step - loss: 0.2189 - accuracy: 0.9083 - val_loss: 0.2176 - val_accuracy: 0.9071\n",
            "Epoch 34/40\n",
            "85/85 [==============================] - 138s 2s/step - loss: 0.2167 - accuracy: 0.9101 - val_loss: 0.2132 - val_accuracy: 0.9056\n",
            "Epoch 35/40\n",
            "85/85 [==============================] - 139s 2s/step - loss: 0.2169 - accuracy: 0.9092 - val_loss: 0.2195 - val_accuracy: 0.9073\n",
            "Epoch 36/40\n",
            "85/85 [==============================] - 135s 2s/step - loss: 0.2166 - accuracy: 0.9080 - val_loss: 0.2123 - val_accuracy: 0.9094\n",
            "Epoch 37/40\n",
            "85/85 [==============================] - 136s 2s/step - loss: 0.2148 - accuracy: 0.9100 - val_loss: 0.2111 - val_accuracy: 0.9108\n",
            "Epoch 38/40\n",
            "85/85 [==============================] - 137s 2s/step - loss: 0.2129 - accuracy: 0.9125 - val_loss: 0.2126 - val_accuracy: 0.9098\n",
            "Epoch 39/40\n",
            "85/85 [==============================] - 140s 2s/step - loss: 0.2141 - accuracy: 0.9102 - val_loss: 0.2103 - val_accuracy: 0.9121\n",
            "Epoch 40/40\n",
            "85/85 [==============================] - 137s 2s/step - loss: 0.2099 - accuracy: 0.9117 - val_loss: 0.2168 - val_accuracy: 0.9075\n"
          ],
          "name": "stdout"
        }
      ]
    },
    {
      "cell_type": "code",
      "metadata": {
        "id": "keWpdeQQIKZB"
      },
      "source": [
        "validate_seq = tokenizer.texts_to_sequences(test.str.values)\n",
        "validate_pad = sequence.pad_sequences(validate_seq, maxlen=max_len)\n",
        "predictions = model.predict(validate_pad)\n",
        "predictions = predictions.argmax(axis=1)\n",
        "test['Predicted']=predictions\n",
        "frame = test.drop(['Body','str'], axis= 1)\n",
        "frame.to_csv('test.csv')"
      ],
      "execution_count": null,
      "outputs": []
    },
    {
      "cell_type": "markdown",
      "metadata": {
        "id": "aTbc2R3NHSF5"
      },
      "source": [
        ""
      ]
    },
    {
      "cell_type": "markdown",
      "metadata": {
        "id": "vurC052cDe2b"
      },
      "source": [
        "## **Результаты:**\n",
        "\n",
        "Наилучший результат: accuracy: 0.9117, val_accuracy: 0.9075\n",
        "\n",
        "При предварительной обработке данных с очисткой тэгов(<></>) точность составляла не более 0.75, если не убирать имена тэгов из текста, то точноcть составляет ~(0.80-0.90)"
      ]
    }
  ]
}